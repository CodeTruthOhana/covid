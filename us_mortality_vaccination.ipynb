{
 "cells": [
  {
   "cell_type": "code",
   "execution_count": 1,
   "outputs": [],
   "source": [
    "# import package requirements\n",
    "import pandas as pd"
   ],
   "metadata": {
    "collapsed": false,
    "pycharm": {
     "name": "#%%\n"
    }
   }
  },
  {
   "cell_type": "markdown",
   "source": [
    "### COVID-19 Vaccination Demographics (USA,National)\n",
    "<p>https://data.cdc.gov/Vaccinations/COVID-19-Vaccination-Demographics-in-the-United-St/km4m-vcsb<p>"
   ],
   "metadata": {
    "collapsed": false,
    "pycharm": {
     "name": "#%% md\n"
    }
   }
  },
  {
   "cell_type": "code",
   "execution_count": 154,
   "outputs": [],
   "source": [
    "# import dataset via cdc api\n",
    "dfv = pd.read_csv('https://data.cdc.gov/resource/km4m-vcsb.csv?$limit=50000')"
   ],
   "metadata": {
    "collapsed": false,
    "pycharm": {
     "name": "#%%\n"
    }
   }
  },
  {
   "cell_type": "code",
   "execution_count": 155,
   "outputs": [],
   "source": [
    "# filter dataset to only show: Ages_25-64_yrs\n",
    "age_list = ['Ages_25-39_yrs', 'Ages_40-49_yrs', 'Ages_50-64_yrs']\n",
    "dfv = dfv[dfv['demographic_category'].isin(age_list)].reset_index(drop=True)"
   ],
   "metadata": {
    "collapsed": false,
    "pycharm": {
     "name": "#%%\n"
    }
   }
  },
  {
   "cell_type": "code",
   "execution_count": 156,
   "outputs": [],
   "source": [
    "# change column to datetime\n",
    "dfv['date'] = pd.to_datetime(dfv['date'])\n",
    "\n",
    "# maintain original date column\n",
    "dfv['raw_date'] = dfv['date']"
   ],
   "metadata": {
    "collapsed": false,
    "pycharm": {
     "name": "#%%\n"
    }
   }
  },
  {
   "cell_type": "code",
   "execution_count": 157,
   "outputs": [],
   "source": [
    "# get month_year column\n",
    "dfv['year'] = pd.DatetimeIndex(dfv['date']).year.tolist() # extract year\n",
    "dfv['month'] = pd.DatetimeIndex(dfv['date']).month.tolist() # extract month\n",
    "dfv['week'] = pd.DatetimeIndex(dfv['date']).isocalendar().week.reset_index()['week'].tolist() # extract month\n",
    "\n",
    "dfv['dateByMonth'] =  dfv['month'].astype(str) + '/' +  dfv['year'].astype(str)\n",
    "\n",
    "dfv['date'] = dfv['year'].astype(str) + ' week ' + dfv['week'].astype(str)"
   ],
   "metadata": {
    "collapsed": false,
    "pycharm": {
     "name": "#%%\n"
    }
   }
  },
  {
   "cell_type": "code",
   "execution_count": 158,
   "outputs": [],
   "source": [
    "# percent of administered who are boosted\n",
    "dfv['percent_boosted'] = (dfv['booster_doses_yes']/dfv['administered_dose1'])\n",
    "\n",
    "# change decimal place\n",
    "dfv['percent_boosted'] = round(dfv['percent_boosted'], 3)\n",
    "\n",
    "# create list of columns to keep\n",
    "cols_to_keep = ['date', 'administered_dose1', 'booster_doses_yes', 'percent_boosted', 'raw_date']\n",
    "dfv = dfv[cols_to_keep]"
   ],
   "metadata": {
    "collapsed": false,
    "pycharm": {
     "name": "#%%\n"
    }
   }
  },
  {
   "cell_type": "code",
   "execution_count": 159,
   "outputs": [
    {
     "data": {
      "text/plain": "(1455, 5)"
     },
     "execution_count": 159,
     "metadata": {},
     "output_type": "execute_result"
    }
   ],
   "source": [
    "dfv.shape"
   ],
   "metadata": {
    "collapsed": false,
    "pycharm": {
     "name": "#%%\n"
    }
   }
  },
  {
   "cell_type": "code",
   "execution_count": 160,
   "outputs": [
    {
     "data": {
      "text/plain": "           date  administered_dose1  booster_doses_yes  percent_boosted  \\\n0  2022 week 15            35194201           13084173            0.372   \n1  2022 week 15            58979500           26946110            0.457   \n2  2022 week 15            54459825           16060122            0.295   \n3  2022 week 14            58979500           26946110            0.457   \n4  2022 week 14            54459825           16060122            0.295   \n\n    raw_date  \n0 2022-04-11  \n1 2022-04-11  \n2 2022-04-11  \n3 2022-04-10  \n4 2022-04-10  ",
      "text/html": "<div>\n<style scoped>\n    .dataframe tbody tr th:only-of-type {\n        vertical-align: middle;\n    }\n\n    .dataframe tbody tr th {\n        vertical-align: top;\n    }\n\n    .dataframe thead th {\n        text-align: right;\n    }\n</style>\n<table border=\"1\" class=\"dataframe\">\n  <thead>\n    <tr style=\"text-align: right;\">\n      <th></th>\n      <th>date</th>\n      <th>administered_dose1</th>\n      <th>booster_doses_yes</th>\n      <th>percent_boosted</th>\n      <th>raw_date</th>\n    </tr>\n  </thead>\n  <tbody>\n    <tr>\n      <th>0</th>\n      <td>2022 week 15</td>\n      <td>35194201</td>\n      <td>13084173</td>\n      <td>0.372</td>\n      <td>2022-04-11</td>\n    </tr>\n    <tr>\n      <th>1</th>\n      <td>2022 week 15</td>\n      <td>58979500</td>\n      <td>26946110</td>\n      <td>0.457</td>\n      <td>2022-04-11</td>\n    </tr>\n    <tr>\n      <th>2</th>\n      <td>2022 week 15</td>\n      <td>54459825</td>\n      <td>16060122</td>\n      <td>0.295</td>\n      <td>2022-04-11</td>\n    </tr>\n    <tr>\n      <th>3</th>\n      <td>2022 week 14</td>\n      <td>58979500</td>\n      <td>26946110</td>\n      <td>0.457</td>\n      <td>2022-04-10</td>\n    </tr>\n    <tr>\n      <th>4</th>\n      <td>2022 week 14</td>\n      <td>54459825</td>\n      <td>16060122</td>\n      <td>0.295</td>\n      <td>2022-04-10</td>\n    </tr>\n  </tbody>\n</table>\n</div>"
     },
     "execution_count": 160,
     "metadata": {},
     "output_type": "execute_result"
    }
   ],
   "source": [
    "# preview dataset\n",
    "dfv.head()"
   ],
   "metadata": {
    "collapsed": false,
    "pycharm": {
     "name": "#%%\n"
    }
   }
  },
  {
   "cell_type": "code",
   "execution_count": null,
   "outputs": [],
   "source": [],
   "metadata": {
    "collapsed": false,
    "pycharm": {
     "name": "#%%\n"
    }
   }
  },
  {
   "cell_type": "code",
   "execution_count": 170,
   "outputs": [
    {
     "data": {
      "text/plain": "            date  administered_dose1\n0   2020 week 50               15830\n1   2020 week 51             3493372\n2   2020 week 52            15122214\n3   2020 week 53            15194656\n4    2021 week 1            45846996\n..           ...                 ...\n68  2022 week 52           285934017\n69   2022 week 6          1028913969\n70   2022 week 7          1031217220\n71   2022 week 8          1033143536\n72   2022 week 9          1034768042\n\n[73 rows x 2 columns]",
      "text/html": "<div>\n<style scoped>\n    .dataframe tbody tr th:only-of-type {\n        vertical-align: middle;\n    }\n\n    .dataframe tbody tr th {\n        vertical-align: top;\n    }\n\n    .dataframe thead th {\n        text-align: right;\n    }\n</style>\n<table border=\"1\" class=\"dataframe\">\n  <thead>\n    <tr style=\"text-align: right;\">\n      <th></th>\n      <th>date</th>\n      <th>administered_dose1</th>\n    </tr>\n  </thead>\n  <tbody>\n    <tr>\n      <th>0</th>\n      <td>2020 week 50</td>\n      <td>15830</td>\n    </tr>\n    <tr>\n      <th>1</th>\n      <td>2020 week 51</td>\n      <td>3493372</td>\n    </tr>\n    <tr>\n      <th>2</th>\n      <td>2020 week 52</td>\n      <td>15122214</td>\n    </tr>\n    <tr>\n      <th>3</th>\n      <td>2020 week 53</td>\n      <td>15194656</td>\n    </tr>\n    <tr>\n      <th>4</th>\n      <td>2021 week 1</td>\n      <td>45846996</td>\n    </tr>\n    <tr>\n      <th>...</th>\n      <td>...</td>\n      <td>...</td>\n    </tr>\n    <tr>\n      <th>68</th>\n      <td>2022 week 52</td>\n      <td>285934017</td>\n    </tr>\n    <tr>\n      <th>69</th>\n      <td>2022 week 6</td>\n      <td>1028913969</td>\n    </tr>\n    <tr>\n      <th>70</th>\n      <td>2022 week 7</td>\n      <td>1031217220</td>\n    </tr>\n    <tr>\n      <th>71</th>\n      <td>2022 week 8</td>\n      <td>1033143536</td>\n    </tr>\n    <tr>\n      <th>72</th>\n      <td>2022 week 9</td>\n      <td>1034768042</td>\n    </tr>\n  </tbody>\n</table>\n<p>73 rows × 2 columns</p>\n</div>"
     },
     "execution_count": 170,
     "metadata": {},
     "output_type": "execute_result"
    }
   ],
   "source": [
    "dfv.groupby('date')['administered_dose1'].sum().reset_index()"
   ],
   "metadata": {
    "collapsed": false,
    "pycharm": {
     "name": "#%%\n"
    }
   }
  },
  {
   "cell_type": "code",
   "execution_count": null,
   "outputs": [],
   "source": [],
   "metadata": {
    "collapsed": false,
    "pycharm": {
     "name": "#%%\n"
    }
   }
  },
  {
   "cell_type": "code",
   "execution_count": null,
   "outputs": [],
   "source": [],
   "metadata": {
    "collapsed": false,
    "pycharm": {
     "name": "#%%\n"
    }
   }
  },
  {
   "cell_type": "code",
   "execution_count": 166,
   "outputs": [
    {
     "data": {
      "application/vnd.plotly.v1+json": {
       "data": [
        {
         "hovertemplate": "date=%{x}<br>administered_dose1=%{y}<extra></extra>",
         "legendgroup": "",
         "line": {
          "color": "#636efa",
          "dash": "solid"
         },
         "marker": {
          "symbol": "circle"
         },
         "mode": "lines",
         "name": "",
         "showlegend": false,
         "x": [
          "2022 week 15",
          "2022 week 15",
          "2022 week 15",
          "2022 week 14",
          "2022 week 14",
          "2022 week 14",
          "2022 week 14",
          "2022 week 14",
          "2022 week 14",
          "2022 week 14",
          "2022 week 14",
          "2022 week 14",
          "2022 week 14",
          "2022 week 14",
          "2022 week 14",
          "2022 week 14",
          "2022 week 14",
          "2022 week 14",
          "2022 week 14",
          "2022 week 14",
          "2022 week 14",
          "2022 week 14",
          "2022 week 14",
          "2022 week 14",
          "2022 week 13",
          "2022 week 13",
          "2022 week 13",
          "2022 week 13",
          "2022 week 13",
          "2022 week 13",
          "2022 week 13",
          "2022 week 13",
          "2022 week 13",
          "2022 week 13",
          "2022 week 13",
          "2022 week 13",
          "2022 week 13",
          "2022 week 13",
          "2022 week 13",
          "2022 week 13",
          "2022 week 13",
          "2022 week 13",
          "2022 week 13",
          "2022 week 13",
          "2022 week 13",
          "2022 week 12",
          "2022 week 12",
          "2022 week 12",
          "2022 week 12",
          "2022 week 12",
          "2022 week 12",
          "2022 week 12",
          "2022 week 12",
          "2022 week 12",
          "2022 week 12",
          "2022 week 12",
          "2022 week 12",
          "2022 week 12",
          "2022 week 12",
          "2022 week 12",
          "2022 week 12",
          "2022 week 12",
          "2022 week 12",
          "2022 week 12",
          "2022 week 12",
          "2022 week 12",
          "2022 week 11",
          "2022 week 11",
          "2022 week 11",
          "2022 week 11",
          "2022 week 11",
          "2022 week 11",
          "2022 week 11",
          "2022 week 11",
          "2022 week 11",
          "2022 week 11",
          "2022 week 11",
          "2022 week 11",
          "2022 week 11",
          "2022 week 11",
          "2022 week 11",
          "2022 week 11",
          "2022 week 11",
          "2022 week 11",
          "2022 week 11",
          "2022 week 11",
          "2022 week 11",
          "2022 week 10",
          "2022 week 10",
          "2022 week 10",
          "2022 week 10",
          "2022 week 10",
          "2022 week 10",
          "2022 week 10",
          "2022 week 10",
          "2022 week 10",
          "2022 week 10",
          "2022 week 10",
          "2022 week 10",
          "2022 week 10",
          "2022 week 10",
          "2022 week 10",
          "2022 week 10",
          "2022 week 10",
          "2022 week 10",
          "2022 week 10",
          "2022 week 10",
          "2022 week 10",
          "2022 week 9",
          "2022 week 9",
          "2022 week 9",
          "2022 week 9",
          "2022 week 9",
          "2022 week 9",
          "2022 week 9",
          "2022 week 9",
          "2022 week 9",
          "2022 week 9",
          "2022 week 9",
          "2022 week 9",
          "2022 week 9",
          "2022 week 9",
          "2022 week 9",
          "2022 week 9",
          "2022 week 9",
          "2022 week 9",
          "2022 week 9",
          "2022 week 9",
          "2022 week 9",
          "2022 week 8",
          "2022 week 8",
          "2022 week 8",
          "2022 week 8",
          "2022 week 8",
          "2022 week 8",
          "2022 week 8",
          "2022 week 8",
          "2022 week 8",
          "2022 week 8",
          "2022 week 8",
          "2022 week 8",
          "2022 week 8",
          "2022 week 8",
          "2022 week 8",
          "2022 week 8",
          "2022 week 8",
          "2022 week 8",
          "2022 week 8",
          "2022 week 8",
          "2022 week 8",
          "2022 week 7",
          "2022 week 7",
          "2022 week 7",
          "2022 week 7",
          "2022 week 7",
          "2022 week 7",
          "2022 week 7",
          "2022 week 7",
          "2022 week 7",
          "2022 week 7",
          "2022 week 7",
          "2022 week 7",
          "2022 week 7",
          "2022 week 7",
          "2022 week 7",
          "2022 week 7",
          "2022 week 7",
          "2022 week 7",
          "2022 week 7",
          "2022 week 7",
          "2022 week 7",
          "2022 week 6",
          "2022 week 6",
          "2022 week 6",
          "2022 week 6",
          "2022 week 6",
          "2022 week 6",
          "2022 week 6",
          "2022 week 6",
          "2022 week 6",
          "2022 week 6",
          "2022 week 6",
          "2022 week 6",
          "2022 week 6",
          "2022 week 6",
          "2022 week 6",
          "2022 week 6",
          "2022 week 6",
          "2022 week 6",
          "2022 week 6",
          "2022 week 6",
          "2022 week 6",
          "2022 week 5",
          "2022 week 5",
          "2022 week 5",
          "2022 week 5",
          "2022 week 5",
          "2022 week 5",
          "2022 week 5",
          "2022 week 5",
          "2022 week 5",
          "2022 week 5",
          "2022 week 5",
          "2022 week 5",
          "2022 week 5",
          "2022 week 5",
          "2022 week 5",
          "2022 week 5",
          "2022 week 5",
          "2022 week 5",
          "2022 week 5",
          "2022 week 5",
          "2022 week 5",
          "2022 week 4",
          "2022 week 4",
          "2022 week 4",
          "2022 week 4",
          "2022 week 4",
          "2022 week 4",
          "2022 week 4",
          "2022 week 4",
          "2022 week 4",
          "2022 week 4",
          "2022 week 4",
          "2022 week 4",
          "2022 week 4",
          "2022 week 4",
          "2022 week 4",
          "2022 week 4",
          "2022 week 4",
          "2022 week 4",
          "2022 week 4",
          "2022 week 4",
          "2022 week 4",
          "2022 week 3",
          "2022 week 3",
          "2022 week 3",
          "2022 week 3",
          "2022 week 3",
          "2022 week 3",
          "2022 week 3",
          "2022 week 3",
          "2022 week 3",
          "2022 week 3",
          "2022 week 3",
          "2022 week 3",
          "2022 week 3",
          "2022 week 3",
          "2022 week 3",
          "2022 week 3",
          "2022 week 3",
          "2022 week 3",
          "2022 week 3",
          "2022 week 3",
          "2022 week 3",
          "2022 week 2",
          "2022 week 2",
          "2022 week 2",
          "2022 week 2",
          "2022 week 2",
          "2022 week 2",
          "2022 week 2",
          "2022 week 2",
          "2022 week 2",
          "2022 week 2",
          "2022 week 2",
          "2022 week 2",
          "2022 week 2",
          "2022 week 2",
          "2022 week 2",
          "2022 week 2",
          "2022 week 2",
          "2022 week 2",
          "2022 week 2",
          "2022 week 2",
          "2022 week 2",
          "2022 week 1",
          "2022 week 1",
          "2022 week 1",
          "2022 week 1",
          "2022 week 1",
          "2022 week 1",
          "2022 week 1",
          "2022 week 1",
          "2022 week 1",
          "2022 week 1",
          "2022 week 1",
          "2022 week 1",
          "2022 week 1",
          "2022 week 1",
          "2022 week 1",
          "2022 week 1",
          "2022 week 1",
          "2022 week 1",
          "2022 week 1",
          "2022 week 1",
          "2022 week 1",
          "2022 week 52",
          "2022 week 52",
          "2022 week 52",
          "2022 week 52",
          "2022 week 52",
          "2022 week 52",
          "2021 week 52",
          "2021 week 52",
          "2021 week 52",
          "2021 week 52",
          "2021 week 52",
          "2021 week 52",
          "2021 week 52",
          "2021 week 52",
          "2021 week 52",
          "2021 week 52",
          "2021 week 52",
          "2021 week 52",
          "2021 week 52",
          "2021 week 52",
          "2021 week 52",
          "2021 week 51",
          "2021 week 51",
          "2021 week 51",
          "2021 week 51",
          "2021 week 51",
          "2021 week 51",
          "2021 week 51",
          "2021 week 51",
          "2021 week 51",
          "2021 week 51",
          "2021 week 51",
          "2021 week 51",
          "2021 week 51",
          "2021 week 51",
          "2021 week 51",
          "2021 week 51",
          "2021 week 51",
          "2021 week 51",
          "2021 week 51",
          "2021 week 51",
          "2021 week 51",
          "2021 week 50",
          "2021 week 50",
          "2021 week 50",
          "2021 week 50",
          "2021 week 50",
          "2021 week 50",
          "2021 week 50",
          "2021 week 50",
          "2021 week 50",
          "2021 week 50",
          "2021 week 50",
          "2021 week 50",
          "2021 week 50",
          "2021 week 50",
          "2021 week 50",
          "2021 week 50",
          "2021 week 50",
          "2021 week 50",
          "2021 week 50",
          "2021 week 50",
          "2021 week 50",
          "2021 week 49",
          "2021 week 49",
          "2021 week 49",
          "2021 week 49",
          "2021 week 49",
          "2021 week 49",
          "2021 week 49",
          "2021 week 49",
          "2021 week 49",
          "2021 week 49",
          "2021 week 49",
          "2021 week 49",
          "2021 week 49",
          "2021 week 49",
          "2021 week 49",
          "2021 week 49",
          "2021 week 49",
          "2021 week 49",
          "2021 week 49",
          "2021 week 49",
          "2021 week 49",
          "2021 week 48",
          "2021 week 48",
          "2021 week 48",
          "2021 week 48",
          "2021 week 48",
          "2021 week 48",
          "2021 week 48",
          "2021 week 48",
          "2021 week 48",
          "2021 week 48",
          "2021 week 48",
          "2021 week 48",
          "2021 week 48",
          "2021 week 48",
          "2021 week 48",
          "2021 week 48",
          "2021 week 48",
          "2021 week 48",
          "2021 week 48",
          "2021 week 48",
          "2021 week 48",
          "2021 week 47",
          "2021 week 47",
          "2021 week 47",
          "2021 week 47",
          "2021 week 47",
          "2021 week 47",
          "2021 week 47",
          "2021 week 47",
          "2021 week 47",
          "2021 week 47",
          "2021 week 47",
          "2021 week 47",
          "2021 week 47",
          "2021 week 47",
          "2021 week 47",
          "2021 week 47",
          "2021 week 47",
          "2021 week 47",
          "2021 week 47",
          "2021 week 47",
          "2021 week 47",
          "2021 week 46",
          "2021 week 46",
          "2021 week 46",
          "2021 week 46",
          "2021 week 46",
          "2021 week 46",
          "2021 week 46",
          "2021 week 46",
          "2021 week 46",
          "2021 week 46",
          "2021 week 46",
          "2021 week 46",
          "2021 week 46",
          "2021 week 46",
          "2021 week 46",
          "2021 week 46",
          "2021 week 46",
          "2021 week 46",
          "2021 week 46",
          "2021 week 46",
          "2021 week 46",
          "2021 week 45",
          "2021 week 45",
          "2021 week 45",
          "2021 week 45",
          "2021 week 45",
          "2021 week 45",
          "2021 week 45",
          "2021 week 45",
          "2021 week 45",
          "2021 week 45",
          "2021 week 45",
          "2021 week 45",
          "2021 week 45",
          "2021 week 45",
          "2021 week 45",
          "2021 week 45",
          "2021 week 45",
          "2021 week 45",
          "2021 week 45",
          "2021 week 45",
          "2021 week 45",
          "2021 week 44",
          "2021 week 44",
          "2021 week 44",
          "2021 week 44",
          "2021 week 44",
          "2021 week 44",
          "2021 week 44",
          "2021 week 44",
          "2021 week 44",
          "2021 week 44",
          "2021 week 44",
          "2021 week 44",
          "2021 week 44",
          "2021 week 44",
          "2021 week 44",
          "2021 week 44",
          "2021 week 44",
          "2021 week 44",
          "2021 week 44",
          "2021 week 44",
          "2021 week 44",
          "2021 week 43",
          "2021 week 43",
          "2021 week 43",
          "2021 week 43",
          "2021 week 43",
          "2021 week 43",
          "2021 week 43",
          "2021 week 43",
          "2021 week 43",
          "2021 week 43",
          "2021 week 43",
          "2021 week 43",
          "2021 week 43",
          "2021 week 43",
          "2021 week 43",
          "2021 week 43",
          "2021 week 43",
          "2021 week 43",
          "2021 week 43",
          "2021 week 43",
          "2021 week 43",
          "2021 week 42",
          "2021 week 42",
          "2021 week 42",
          "2021 week 42",
          "2021 week 42",
          "2021 week 42",
          "2021 week 42",
          "2021 week 42",
          "2021 week 42",
          "2021 week 42",
          "2021 week 42",
          "2021 week 42",
          "2021 week 42",
          "2021 week 42",
          "2021 week 42",
          "2021 week 42",
          "2021 week 42",
          "2021 week 42",
          "2021 week 42",
          "2021 week 42",
          "2021 week 42",
          "2021 week 41",
          "2021 week 41",
          "2021 week 41",
          "2021 week 41",
          "2021 week 41",
          "2021 week 41",
          "2021 week 41",
          "2021 week 41",
          "2021 week 41",
          "2021 week 41",
          "2021 week 41",
          "2021 week 41",
          "2021 week 41",
          "2021 week 41",
          "2021 week 41",
          "2021 week 41",
          "2021 week 41",
          "2021 week 41",
          "2021 week 41",
          "2021 week 41",
          "2021 week 41",
          "2021 week 40",
          "2021 week 40",
          "2021 week 40",
          "2021 week 40",
          "2021 week 40",
          "2021 week 40",
          "2021 week 40",
          "2021 week 40",
          "2021 week 40",
          "2021 week 40",
          "2021 week 40",
          "2021 week 40",
          "2021 week 40",
          "2021 week 40",
          "2021 week 40",
          "2021 week 40",
          "2021 week 40",
          "2021 week 40",
          "2021 week 40",
          "2021 week 40",
          "2021 week 40",
          "2021 week 39",
          "2021 week 39",
          "2021 week 39",
          "2021 week 39",
          "2021 week 39",
          "2021 week 39",
          "2021 week 39",
          "2021 week 39",
          "2021 week 39",
          "2021 week 39",
          "2021 week 39",
          "2021 week 39",
          "2021 week 39",
          "2021 week 39",
          "2021 week 39",
          "2021 week 39",
          "2021 week 39",
          "2021 week 39",
          "2021 week 39",
          "2021 week 39",
          "2021 week 39",
          "2021 week 38",
          "2021 week 38",
          "2021 week 38",
          "2021 week 38",
          "2021 week 38",
          "2021 week 38",
          "2021 week 38",
          "2021 week 38",
          "2021 week 38",
          "2021 week 38",
          "2021 week 38",
          "2021 week 38",
          "2021 week 38",
          "2021 week 38",
          "2021 week 38",
          "2021 week 38",
          "2021 week 38",
          "2021 week 38",
          "2021 week 38",
          "2021 week 38",
          "2021 week 38",
          "2021 week 37",
          "2021 week 37",
          "2021 week 37",
          "2021 week 37",
          "2021 week 37",
          "2021 week 37",
          "2021 week 37",
          "2021 week 37",
          "2021 week 37",
          "2021 week 37",
          "2021 week 37",
          "2021 week 37",
          "2021 week 37",
          "2021 week 37",
          "2021 week 37",
          "2021 week 37",
          "2021 week 37",
          "2021 week 37",
          "2021 week 37",
          "2021 week 37",
          "2021 week 37",
          "2021 week 36",
          "2021 week 36",
          "2021 week 36",
          "2021 week 36",
          "2021 week 36",
          "2021 week 36",
          "2021 week 36",
          "2021 week 36",
          "2021 week 36",
          "2021 week 36",
          "2021 week 36",
          "2021 week 36",
          "2021 week 36",
          "2021 week 36",
          "2021 week 36",
          "2021 week 36",
          "2021 week 36",
          "2021 week 36",
          "2021 week 36",
          "2021 week 36",
          "2021 week 36",
          "2021 week 35",
          "2021 week 35",
          "2021 week 35",
          "2021 week 35",
          "2021 week 35",
          "2021 week 35",
          "2021 week 35",
          "2021 week 35",
          "2021 week 35",
          "2021 week 35",
          "2021 week 35",
          "2021 week 35",
          "2021 week 35",
          "2021 week 35",
          "2021 week 35",
          "2021 week 35",
          "2021 week 35",
          "2021 week 35",
          "2021 week 35",
          "2021 week 35",
          "2021 week 35",
          "2021 week 34",
          "2021 week 34",
          "2021 week 34",
          "2021 week 34",
          "2021 week 34",
          "2021 week 34",
          "2021 week 34",
          "2021 week 34",
          "2021 week 34",
          "2021 week 34",
          "2021 week 34",
          "2021 week 34",
          "2021 week 34",
          "2021 week 34",
          "2021 week 34",
          "2021 week 34",
          "2021 week 34",
          "2021 week 34",
          "2021 week 34",
          "2021 week 34",
          "2021 week 34",
          "2021 week 33",
          "2021 week 33",
          "2021 week 33",
          "2021 week 33",
          "2021 week 33",
          "2021 week 33",
          "2021 week 33",
          "2021 week 33",
          "2021 week 33",
          "2021 week 33",
          "2021 week 33",
          "2021 week 33",
          "2021 week 33",
          "2021 week 33",
          "2021 week 33",
          "2021 week 33",
          "2021 week 33",
          "2021 week 33",
          "2021 week 33",
          "2021 week 33",
          "2021 week 33",
          "2021 week 32",
          "2021 week 32",
          "2021 week 32",
          "2021 week 32",
          "2021 week 32",
          "2021 week 32",
          "2021 week 32",
          "2021 week 32",
          "2021 week 32",
          "2021 week 32",
          "2021 week 32",
          "2021 week 32",
          "2021 week 32",
          "2021 week 32",
          "2021 week 32",
          "2021 week 32",
          "2021 week 32",
          "2021 week 32",
          "2021 week 32",
          "2021 week 32",
          "2021 week 32",
          "2021 week 31",
          "2021 week 31",
          "2021 week 31",
          "2021 week 31",
          "2021 week 31",
          "2021 week 31",
          "2021 week 31",
          "2021 week 31",
          "2021 week 31",
          "2021 week 31",
          "2021 week 31",
          "2021 week 31",
          "2021 week 31",
          "2021 week 31",
          "2021 week 31",
          "2021 week 31",
          "2021 week 31",
          "2021 week 31",
          "2021 week 31",
          "2021 week 31",
          "2021 week 31",
          "2021 week 30",
          "2021 week 30",
          "2021 week 30",
          "2021 week 30",
          "2021 week 30",
          "2021 week 30",
          "2021 week 30",
          "2021 week 30",
          "2021 week 30",
          "2021 week 30",
          "2021 week 30",
          "2021 week 30",
          "2021 week 30",
          "2021 week 30",
          "2021 week 30",
          "2021 week 30",
          "2021 week 30",
          "2021 week 30",
          "2021 week 30",
          "2021 week 30",
          "2021 week 30",
          "2021 week 29",
          "2021 week 29",
          "2021 week 29",
          "2021 week 29",
          "2021 week 29",
          "2021 week 29",
          "2021 week 29",
          "2021 week 29",
          "2021 week 29",
          "2021 week 29",
          "2021 week 29",
          "2021 week 29",
          "2021 week 29",
          "2021 week 29",
          "2021 week 29",
          "2021 week 29",
          "2021 week 29",
          "2021 week 29",
          "2021 week 29",
          "2021 week 29",
          "2021 week 29",
          "2021 week 28",
          "2021 week 28",
          "2021 week 28",
          "2021 week 28",
          "2021 week 28",
          "2021 week 28",
          "2021 week 28",
          "2021 week 28",
          "2021 week 28",
          "2021 week 28",
          "2021 week 28",
          "2021 week 28",
          "2021 week 28",
          "2021 week 28",
          "2021 week 28",
          "2021 week 28",
          "2021 week 28",
          "2021 week 28",
          "2021 week 28",
          "2021 week 28",
          "2021 week 28",
          "2021 week 27",
          "2021 week 27",
          "2021 week 27",
          "2021 week 27",
          "2021 week 27",
          "2021 week 27",
          "2021 week 27",
          "2021 week 27",
          "2021 week 27",
          "2021 week 27",
          "2021 week 27",
          "2021 week 27",
          "2021 week 27",
          "2021 week 27",
          "2021 week 27",
          "2021 week 27",
          "2021 week 27",
          "2021 week 27",
          "2021 week 27",
          "2021 week 27",
          "2021 week 27",
          "2021 week 26",
          "2021 week 26",
          "2021 week 26",
          "2021 week 26",
          "2021 week 26",
          "2021 week 26",
          "2021 week 26",
          "2021 week 26",
          "2021 week 26",
          "2021 week 26",
          "2021 week 26",
          "2021 week 26",
          "2021 week 26",
          "2021 week 26",
          "2021 week 26",
          "2021 week 26",
          "2021 week 26",
          "2021 week 26",
          "2021 week 26",
          "2021 week 26",
          "2021 week 26",
          "2021 week 25",
          "2021 week 25",
          "2021 week 25",
          "2021 week 25",
          "2021 week 25",
          "2021 week 25",
          "2021 week 25",
          "2021 week 25",
          "2021 week 25",
          "2021 week 25",
          "2021 week 25",
          "2021 week 25",
          "2021 week 25",
          "2021 week 25",
          "2021 week 25",
          "2021 week 25",
          "2021 week 25",
          "2021 week 25",
          "2021 week 25",
          "2021 week 25",
          "2021 week 25",
          "2021 week 24",
          "2021 week 24",
          "2021 week 24",
          "2021 week 24",
          "2021 week 24",
          "2021 week 24",
          "2021 week 24",
          "2021 week 24",
          "2021 week 24",
          "2021 week 24",
          "2021 week 24",
          "2021 week 24",
          "2021 week 24",
          "2021 week 24",
          "2021 week 24",
          "2021 week 24",
          "2021 week 24",
          "2021 week 24",
          "2021 week 24",
          "2021 week 24",
          "2021 week 24",
          "2021 week 23",
          "2021 week 23",
          "2021 week 23",
          "2021 week 23",
          "2021 week 23",
          "2021 week 23",
          "2021 week 23",
          "2021 week 23",
          "2021 week 23",
          "2021 week 23",
          "2021 week 23",
          "2021 week 23",
          "2021 week 23",
          "2021 week 23",
          "2021 week 23",
          "2021 week 23",
          "2021 week 23",
          "2021 week 23",
          "2021 week 23",
          "2021 week 23",
          "2021 week 23",
          "2021 week 22",
          "2021 week 22",
          "2021 week 22",
          "2021 week 22",
          "2021 week 22",
          "2021 week 22",
          "2021 week 22",
          "2021 week 22",
          "2021 week 22",
          "2021 week 22",
          "2021 week 22",
          "2021 week 22",
          "2021 week 22",
          "2021 week 22",
          "2021 week 22",
          "2021 week 22",
          "2021 week 22",
          "2021 week 22",
          "2021 week 22",
          "2021 week 22",
          "2021 week 22",
          "2021 week 21",
          "2021 week 21",
          "2021 week 21",
          "2021 week 21",
          "2021 week 21",
          "2021 week 21",
          "2021 week 21",
          "2021 week 21",
          "2021 week 21",
          "2021 week 21",
          "2021 week 21",
          "2021 week 21",
          "2021 week 21",
          "2021 week 21",
          "2021 week 21",
          "2021 week 21",
          "2021 week 21",
          "2021 week 21",
          "2021 week 21",
          "2021 week 21",
          "2021 week 21",
          "2021 week 20",
          "2021 week 20",
          "2021 week 20",
          "2021 week 20",
          "2021 week 20",
          "2021 week 20",
          "2021 week 20",
          "2021 week 20",
          "2021 week 20",
          "2021 week 20",
          "2021 week 20",
          "2021 week 20",
          "2021 week 20",
          "2021 week 20",
          "2021 week 20",
          "2021 week 20",
          "2021 week 20",
          "2021 week 20",
          "2021 week 20",
          "2021 week 20",
          "2021 week 20",
          "2021 week 19",
          "2021 week 19",
          "2021 week 19",
          "2021 week 19",
          "2021 week 19",
          "2021 week 19",
          "2021 week 19",
          "2021 week 19",
          "2021 week 19",
          "2021 week 19",
          "2021 week 19",
          "2021 week 19",
          "2021 week 19",
          "2021 week 19",
          "2021 week 19",
          "2021 week 19",
          "2021 week 19",
          "2021 week 19",
          "2021 week 19",
          "2021 week 19",
          "2021 week 19",
          "2021 week 18",
          "2021 week 18",
          "2021 week 18",
          "2021 week 18",
          "2021 week 18",
          "2021 week 18",
          "2021 week 18",
          "2021 week 18",
          "2021 week 18",
          "2021 week 18",
          "2021 week 18",
          "2021 week 18",
          "2021 week 18",
          "2021 week 18",
          "2021 week 18",
          "2021 week 18",
          "2021 week 18",
          "2021 week 18",
          "2021 week 18",
          "2021 week 18",
          "2021 week 18",
          "2021 week 17",
          "2021 week 17",
          "2021 week 17",
          "2021 week 17",
          "2021 week 17",
          "2021 week 17",
          "2021 week 17",
          "2021 week 17",
          "2021 week 17",
          "2021 week 17",
          "2021 week 17",
          "2021 week 17",
          "2021 week 17",
          "2021 week 17",
          "2021 week 17",
          "2021 week 17",
          "2021 week 17",
          "2021 week 17",
          "2021 week 17",
          "2021 week 17",
          "2021 week 17",
          "2021 week 16",
          "2021 week 16",
          "2021 week 16",
          "2021 week 16",
          "2021 week 16",
          "2021 week 16",
          "2021 week 16",
          "2021 week 16",
          "2021 week 16",
          "2021 week 16",
          "2021 week 16",
          "2021 week 16",
          "2021 week 16",
          "2021 week 16",
          "2021 week 16",
          "2021 week 16",
          "2021 week 16",
          "2021 week 16",
          "2021 week 16",
          "2021 week 16",
          "2021 week 16",
          "2021 week 15",
          "2021 week 15",
          "2021 week 15",
          "2021 week 15",
          "2021 week 15",
          "2021 week 15",
          "2021 week 15",
          "2021 week 15",
          "2021 week 15",
          "2021 week 15",
          "2021 week 15",
          "2021 week 15",
          "2021 week 15",
          "2021 week 15",
          "2021 week 15",
          "2021 week 15",
          "2021 week 15",
          "2021 week 15",
          "2021 week 15",
          "2021 week 15",
          "2021 week 15",
          "2021 week 14",
          "2021 week 14",
          "2021 week 14",
          "2021 week 14",
          "2021 week 14",
          "2021 week 14",
          "2021 week 14",
          "2021 week 14",
          "2021 week 14",
          "2021 week 14",
          "2021 week 14",
          "2021 week 14",
          "2021 week 14",
          "2021 week 14",
          "2021 week 14",
          "2021 week 14",
          "2021 week 14",
          "2021 week 14",
          "2021 week 14",
          "2021 week 14",
          "2021 week 14",
          "2021 week 13",
          "2021 week 13",
          "2021 week 13",
          "2021 week 13",
          "2021 week 13",
          "2021 week 13",
          "2021 week 13",
          "2021 week 13",
          "2021 week 13",
          "2021 week 13",
          "2021 week 13",
          "2021 week 13",
          "2021 week 13",
          "2021 week 13",
          "2021 week 13",
          "2021 week 13",
          "2021 week 13",
          "2021 week 13",
          "2021 week 13",
          "2021 week 13",
          "2021 week 13",
          "2021 week 12",
          "2021 week 12",
          "2021 week 12",
          "2021 week 12",
          "2021 week 12",
          "2021 week 12",
          "2021 week 12",
          "2021 week 12",
          "2021 week 12",
          "2021 week 12",
          "2021 week 12",
          "2021 week 12",
          "2021 week 12",
          "2021 week 12",
          "2021 week 12",
          "2021 week 12",
          "2021 week 12",
          "2021 week 12",
          "2021 week 12",
          "2021 week 12",
          "2021 week 12",
          "2021 week 11",
          "2021 week 11",
          "2021 week 11",
          "2021 week 11",
          "2021 week 11",
          "2021 week 11",
          "2021 week 11",
          "2021 week 11",
          "2021 week 11",
          "2021 week 11",
          "2021 week 11",
          "2021 week 11",
          "2021 week 11",
          "2021 week 11",
          "2021 week 11",
          "2021 week 11",
          "2021 week 11",
          "2021 week 11",
          "2021 week 11",
          "2021 week 11",
          "2021 week 11",
          "2021 week 10",
          "2021 week 10",
          "2021 week 10",
          "2021 week 10",
          "2021 week 10",
          "2021 week 10",
          "2021 week 10",
          "2021 week 10",
          "2021 week 10",
          "2021 week 10",
          "2021 week 10",
          "2021 week 10",
          "2021 week 10",
          "2021 week 10",
          "2021 week 10",
          "2021 week 10",
          "2021 week 10",
          "2021 week 10",
          "2021 week 10",
          "2021 week 10",
          "2021 week 10",
          "2021 week 9",
          "2021 week 9",
          "2021 week 9",
          "2021 week 9",
          "2021 week 9",
          "2021 week 9",
          "2021 week 9",
          "2021 week 9",
          "2021 week 9",
          "2021 week 9",
          "2021 week 9",
          "2021 week 9",
          "2021 week 9",
          "2021 week 9",
          "2021 week 9",
          "2021 week 9",
          "2021 week 9",
          "2021 week 9",
          "2021 week 9",
          "2021 week 9",
          "2021 week 9",
          "2021 week 8",
          "2021 week 8",
          "2021 week 8",
          "2021 week 8",
          "2021 week 8",
          "2021 week 8",
          "2021 week 8",
          "2021 week 8",
          "2021 week 8",
          "2021 week 8",
          "2021 week 8",
          "2021 week 8",
          "2021 week 8",
          "2021 week 8",
          "2021 week 8",
          "2021 week 8",
          "2021 week 8",
          "2021 week 8",
          "2021 week 8",
          "2021 week 8",
          "2021 week 8",
          "2021 week 7",
          "2021 week 7",
          "2021 week 7",
          "2021 week 7",
          "2021 week 7",
          "2021 week 7",
          "2021 week 7",
          "2021 week 7",
          "2021 week 7",
          "2021 week 7",
          "2021 week 7",
          "2021 week 7",
          "2021 week 7",
          "2021 week 7",
          "2021 week 7",
          "2021 week 7",
          "2021 week 7",
          "2021 week 7",
          "2021 week 7",
          "2021 week 7",
          "2021 week 7",
          "2021 week 6",
          "2021 week 6",
          "2021 week 6",
          "2021 week 6",
          "2021 week 6",
          "2021 week 6",
          "2021 week 6",
          "2021 week 6",
          "2021 week 6",
          "2021 week 6",
          "2021 week 6",
          "2021 week 6",
          "2021 week 6",
          "2021 week 6",
          "2021 week 6",
          "2021 week 6",
          "2021 week 6",
          "2021 week 6",
          "2021 week 6",
          "2021 week 6",
          "2021 week 6",
          "2021 week 5",
          "2021 week 5",
          "2021 week 5",
          "2021 week 5",
          "2021 week 5",
          "2021 week 5",
          "2021 week 5",
          "2021 week 5",
          "2021 week 5",
          "2021 week 5",
          "2021 week 5",
          "2021 week 5",
          "2021 week 5",
          "2021 week 5",
          "2021 week 5",
          "2021 week 5",
          "2021 week 5",
          "2021 week 5",
          "2021 week 5",
          "2021 week 5",
          "2021 week 5",
          "2021 week 4",
          "2021 week 4",
          "2021 week 4",
          "2021 week 4",
          "2021 week 4",
          "2021 week 4",
          "2021 week 4",
          "2021 week 4",
          "2021 week 4",
          "2021 week 4",
          "2021 week 4",
          "2021 week 4",
          "2021 week 4",
          "2021 week 4",
          "2021 week 4",
          "2021 week 4",
          "2021 week 4",
          "2021 week 4",
          "2021 week 4",
          "2021 week 4",
          "2021 week 4",
          "2021 week 3",
          "2021 week 3",
          "2021 week 3",
          "2021 week 3",
          "2021 week 3",
          "2021 week 3",
          "2021 week 3",
          "2021 week 3",
          "2021 week 3",
          "2021 week 3",
          "2021 week 3",
          "2021 week 3",
          "2021 week 3",
          "2021 week 3",
          "2021 week 3",
          "2021 week 3",
          "2021 week 3",
          "2021 week 3",
          "2021 week 3",
          "2021 week 3",
          "2021 week 3",
          "2021 week 2",
          "2021 week 2",
          "2021 week 2",
          "2021 week 2",
          "2021 week 2",
          "2021 week 2",
          "2021 week 2",
          "2021 week 2",
          "2021 week 2",
          "2021 week 2",
          "2021 week 2",
          "2021 week 2",
          "2021 week 2",
          "2021 week 2",
          "2021 week 2",
          "2021 week 2",
          "2021 week 2",
          "2021 week 2",
          "2021 week 2",
          "2021 week 2",
          "2021 week 2",
          "2021 week 1",
          "2021 week 1",
          "2021 week 1",
          "2021 week 1",
          "2021 week 1",
          "2021 week 1",
          "2021 week 1",
          "2021 week 1",
          "2021 week 1",
          "2021 week 1",
          "2021 week 1",
          "2021 week 1",
          "2021 week 1",
          "2021 week 1",
          "2021 week 1",
          "2021 week 1",
          "2021 week 1",
          "2021 week 1",
          "2021 week 1",
          "2021 week 1",
          "2021 week 1",
          "2021 week 53",
          "2021 week 53",
          "2021 week 53",
          "2021 week 53",
          "2021 week 53",
          "2021 week 53",
          "2021 week 53",
          "2021 week 53",
          "2021 week 53",
          "2020 week 53",
          "2020 week 53",
          "2020 week 53",
          "2020 week 53",
          "2020 week 53",
          "2020 week 53",
          "2020 week 53",
          "2020 week 53",
          "2020 week 53",
          "2020 week 53",
          "2020 week 53",
          "2020 week 53",
          "2020 week 52",
          "2020 week 52",
          "2020 week 52",
          "2020 week 52",
          "2020 week 52",
          "2020 week 52",
          "2020 week 52",
          "2020 week 52",
          "2020 week 52",
          "2020 week 52",
          "2020 week 52",
          "2020 week 52",
          "2020 week 52",
          "2020 week 52",
          "2020 week 52",
          "2020 week 52",
          "2020 week 52",
          "2020 week 52",
          "2020 week 52",
          "2020 week 52",
          "2020 week 52",
          "2020 week 51",
          "2020 week 51",
          "2020 week 51",
          "2020 week 51",
          "2020 week 51",
          "2020 week 51",
          "2020 week 51",
          "2020 week 51",
          "2020 week 51",
          "2020 week 51",
          "2020 week 51",
          "2020 week 51",
          "2020 week 51",
          "2020 week 51",
          "2020 week 51",
          "2020 week 51",
          "2020 week 51",
          "2020 week 51",
          "2020 week 51",
          "2020 week 51",
          "2020 week 51",
          "2020 week 50",
          "2020 week 50",
          "2020 week 50"
         ],
         "xaxis": "x",
         "y": [
          35194201,
          58979500,
          54459825,
          58979500,
          54459825,
          35194201,
          58978943,
          54459390,
          35193993,
          54456562,
          35192643,
          58975530,
          35189389,
          54449356,
          58967395,
          35186186,
          54441609,
          58959376,
          54432570,
          58950810,
          35182702,
          35179029,
          58942124,
          54423677,
          54413950,
          35175108,
          58932817,
          54409136,
          58927419,
          35173149,
          35169998,
          54402095,
          58919207,
          54390182,
          58906928,
          35164959,
          35160384,
          58896645,
          54379242,
          54367875,
          35155628,
          58887536,
          35151033,
          58881657,
          54356944,
          35146453,
          58876164,
          54345492,
          54339956,
          35144306,
          58873862,
          58869838,
          54331522,
          35140708,
          35134755,
          58862950,
          54317831,
          35129509,
          58857158,
          54305832,
          54293496,
          58851232,
          35124375,
          35119678,
          58845487,
          54281694,
          54268540,
          35114325,
          58839324,
          54262324,
          35111596,
          58836619,
          58831819,
          35107301,
          54253152,
          58824210,
          54238429,
          35100738,
          54226189,
          35095672,
          58818226,
          58811906,
          54213168,
          35090296,
          58805645,
          54199600,
          35084741,
          58799574,
          35079321,
          54186230,
          35076789,
          58797243,
          54179699,
          58792964,
          54169821,
          35072581,
          54154121,
          35065984,
          58785739,
          58779302,
          54140323,
          35060279,
          35054712,
          54126512,
          58772837,
          35048918,
          54112165,
          58766273,
          58759250,
          54097086,
          35042700,
          35039688,
          58756341,
          54089605,
          54077756,
          35034355,
          58750904,
          54059231,
          35026371,
          58741805,
          54043074,
          58733950,
          35019548,
          58726151,
          35012667,
          54026533,
          54008410,
          58717550,
          35005067,
          58707616,
          34996089,
          53987211,
          53977380,
          34992124,
          58703651,
          58695878,
          34984541,
          53961045,
          53937171,
          58684267,
          34973806,
          53916849,
          58674021,
          34964842,
          34955543,
          53895487,
          58663399,
          58652633,
          34946126,
          53873857,
          58643073,
          34937641,
          53854274,
          53842548,
          58638118,
          34932612,
          34924194,
          53825209,
          58629439,
          58614303,
          53795776,
          34910539,
          53771210,
          58601970,
          34899569,
          58589065,
          53745822,
          34888198,
          58576370,
          53720175,
          34877115,
          58564652,
          53697024,
          34866672,
          53685631,
          58559668,
          34861548,
          58549094,
          53664534,
          34851509,
          58530430,
          34835038,
          53628612,
          53597824,
          34821463,
          58514310,
          58498151,
          34807797,
          53567404,
          53537019,
          58481444,
          34794145,
          58464407,
          34779463,
          53505500,
          34772349,
          58457262,
          53489979,
          53465651,
          34759953,
          58444179,
          53429262,
          58424323,
          34742620,
          53398913,
          58407493,
          34728588,
          34712992,
          58388599,
          53366003,
          58368781,
          53331099,
          34696891,
          34679256,
          58347533,
          53292025,
          34670893,
          53274429,
          58338649,
          53249016,
          34657787,
          58324205,
          53197378,
          34632860,
          58294957,
          58268235,
          34611446,
          53151536,
          53105712,
          34589997,
          58241454,
          58213724,
          34568038,
          53059077,
          58185336,
          34545454,
          53010848,
          34534858,
          52987861,
          58173338,
          58152092,
          52951603,
          34516259,
          34486033,
          52888974,
          58116418,
          58084568,
          52835301,
          34460686,
          34434113,
          58050385,
          52780144,
          52723259,
          34407275,
          58015791,
          52677171,
          57988095,
          34385394,
          34372926,
          57974638,
          52651817,
          52606625,
          57947101,
          34349108,
          34307861,
          57897060,
          52525475,
          34271469,
          52451523,
          57850049,
          34234555,
          52377328,
          57802253,
          34197418,
          52300782,
          57754048,
          57704587,
          52224412,
          34159548,
          57684502,
          34142670,
          52190829,
          52136616,
          57648958,
          34113458,
          34066956,
          57589957,
          52047935,
          51967409,
          34025188,
          57534398,
          57476480,
          51885803,
          33982865,
          33941860,
          57419797,
          51806025,
          51731651,
          33903584,
          57367012,
          57345185,
          51699451,
          33887134,
          51692533,
          57339068,
          33882747,
          33862869,
          57308910,
          51658183,
          51577046,
          33818743,
          57244030,
          33772297,
          51489168,
          57176781,
          51398918,
          57107965,
          33725356,
          51312214,
          33680439,
          57041747,
          57018727,
          33663770,
          51278341,
          51277775,
          57018368,
          33663480,
          51252602,
          56997537,
          33650063,
          33608288,
          51167827,
          56934582,
          33559877,
          51070474,
          56860051,
          33509460,
          56780836,
          50970237,
          33461985,
          56705552,
          50874345,
          56675978,
          33442107,
          50833824,
          56629052,
          33411990,
          50778182,
          56552732,
          50687007,
          33363412,
          50604642,
          56484254,
          33320504,
          50523734,
          56417667,
          33278801,
          56352023,
          50444363,
          33238015,
          56287817,
          50366789,
          33198196,
          33179696,
          56261301,
          50331112,
          56216714,
          50278678,
          33150005,
          50189662,
          33099981,
          56138902,
          56065177,
          50105829,
          33054791,
          33009393,
          50022073,
          55991136,
          49936902,
          32964103,
          55915830,
          32917794,
          55838296,
          49851990,
          32896775,
          49813222,
          55806809,
          55754151,
          32863235,
          49756995,
          55660147,
          32804728,
          49654275,
          32752950,
          49559464,
          55573794,
          32701517,
          55486914,
          49464808,
          55411892,
          32657259,
          49386003,
          49314332,
          32618080,
          55344778,
          55317610,
          32601037,
          49282630,
          55277921,
          32576838,
          49240311,
          49181482,
          55219652,
          32542767,
          32541786,
          55218219,
          49179741,
          49109762,
          55158965,
          32504411,
          49026504,
          32460725,
          55085528,
          55006598,
          48943928,
          32416435,
          32396952,
          48908687,
          54974262,
          48856300,
          54924231,
          32366055,
          54843466,
          32315879,
          48766801,
          48691704,
          54775604,
          32275385,
          48618866,
          54711323,
          32236301,
          54648936,
          32198622,
          48549292,
          48481685,
          32161766,
          54589247,
          32145891,
          54565588,
          48452902,
          48408778,
          54526634,
          32119748,
          54457610,
          48330086,
          32075271,
          54404939,
          32040529,
          48267950,
          48201671,
          54349038,
          32004154,
          54295523,
          31970407,
          48138630,
          54244954,
          31937847,
          48077720,
          31922800,
          48049594,
          54223521,
          48005054,
          31897922,
          54186060,
          54114518,
          31851608,
          47922428,
          47858376,
          31816371,
          54057171,
          31780302,
          53999678,
          47790204,
          31745515,
          53942963,
          47724136,
          47656662,
          31710018,
          53885704,
          31696545,
          47632266,
          53862985,
          31673911,
          53824730,
          47594473,
          47517366,
          53754479,
          31630553,
          53696655,
          47450607,
          31594574,
          47381090,
          31558142,
          53637840,
          47315278,
          31523557,
          53581637,
          47248994,
          31488649,
          53524814,
          53503474,
          47223699,
          31475415,
          47183984,
          53467838,
          31453505,
          47112142,
          31416039,
          53411369,
          31388303,
          47054815,
          53372466,
          53335197,
          31360991,
          46998131,
          46942238,
          53297990,
          31334547,
          46877067,
          31303377,
          53257110,
          53242682,
          31291780,
          46850927,
          46810217,
          31272265,
          53217506,
          53168391,
          46735355,
          31235521,
          46671025,
          53127774,
          31204339,
          46606217,
          31173784,
          53087854,
          53048374,
          31143989,
          46542405,
          31113842,
          53009699,
          46479137,
          31100693,
          52993932,
          46452216,
          52967475,
          46411630,
          31080067,
          46332218,
          52916269,
          31040147,
          31006404,
          52871968,
          46263412,
          30973251,
          52829928,
          46194507,
          30941464,
          52789302,
          46127869,
          46060422,
          30909185,
          52748513,
          46028871,
          30894708,
          52732156,
          52703233,
          45980296,
          30870820,
          52648611,
          30827266,
          45893023,
          45812892,
          52601780,
          30789057,
          30751858,
          52556334,
          45735584,
          52511892,
          45658731,
          30715813,
          52467006,
          30678793,
          45580361,
          30663071,
          45547544,
          52449363,
          30636128,
          45494990,
          52417325,
          45399564,
          52364454,
          30590215,
          52320654,
          45318336,
          30552079,
          52277554,
          30514079,
          45236936,
          45152379,
          30475085,
          52233370,
          30435393,
          52188697,
          45066486,
          30417441,
          45028485,
          52170916,
          44966550,
          30386402,
          52137591,
          52077454,
          30332745,
          44855276,
          30286533,
          52024880,
          44755674,
          30239178,
          44654669,
          51972005,
          51918061,
          44551898,
          30191582,
          44441787,
          30139609,
          51859846,
          30115593,
          51835424,
          44390868,
          44313354,
          51793195,
          30075878,
          51714982,
          30007248,
          44172303,
          51651488,
          44054584,
          29952473,
          51590374,
          43939376,
          29898797,
          43827894,
          51529956,
          29846580,
          29834299,
          51516458,
          43802606,
          51490572,
          43751611,
          29809377,
          51450442,
          43681992,
          29772595,
          43547397,
          29704761,
          51372029,
          51302894,
          29645530,
          43422833,
          51229697,
          43291833,
          29581898,
          51157317,
          43164159,
          29518507,
          29455359,
          43037614,
          51084223,
          42979458,
          29425611,
          51053511,
          42890763,
          51000470,
          29377291,
          29294909,
          50904546,
          42733288,
          29221996,
          50819075,
          42591129,
          50735650,
          42451212,
          29149729,
          50653383,
          42314271,
          29078781,
          50575081,
          42182386,
          29009940,
          42127730,
          50545857,
          28981170,
          42040465,
          28932428,
          50492702,
          50397145,
          28848472,
          41888216,
          41751119,
          50311946,
          28775566,
          41611981,
          50228462,
          28702467,
          28629580,
          50145328,
          41474505,
          41343001,
          28559354,
          50064574,
          41280926,
          28526198,
          50030977,
          41181370,
          28470173,
          49970338,
          49868702,
          41016292,
          28379498,
          40872359,
          28302089,
          49779527,
          28227474,
          49694203,
          40735064,
          49603854,
          28148220,
          40590217,
          49515210,
          28070245,
          40451279,
          28032041,
          49476419,
          40382571,
          27970913,
          40278901,
          49409234,
          49293693,
          27872284,
          40108236,
          39959763,
          49193533,
          27787729,
          27705596,
          39812827,
          49095811,
          39672212,
          27624973,
          48998571,
          27548474,
          48907318,
          39539700,
          39475724,
          48867842,
          27511799,
          39382529,
          48803746,
          27456241,
          39231668,
          48693304,
          27366461,
          27292124,
          39104740,
          48602603,
          27219018,
          38978046,
          48512982,
          38856535,
          48423939,
          27147329,
          38743487,
          48339738,
          27080268,
          27047513,
          48303754,
          38689063,
          26998416,
          38611327,
          48243065,
          48146128,
          38489094,
          26922922,
          26861859,
          48066937,
          38388094,
          26806288,
          38294795,
          47994323,
          38206921,
          26753195,
          47925235,
          26704546,
          47862597,
          38126149,
          38090921,
          26683604,
          47838974,
          38035102,
          47797120,
          26649350,
          47732875,
          26598385,
          37949717,
          26557393,
          47681073,
          37877101,
          26518790,
          37808687,
          47632677,
          26480498,
          37739225,
          47585064,
          37671419,
          26441632,
          47537353,
          47518187,
          26423789,
          37640317,
          47479910,
          26391122,
          37586996,
          47418590,
          37504739,
          26342985,
          26302101,
          47366158,
          37431888,
          37359958,
          47316514,
          26262153,
          26222844,
          47268030,
          37292393,
          26192059,
          47232773,
          37240222,
          37232280,
          47227285,
          26187027,
          37184092,
          47193331,
          26157552,
          26112048,
          37107470,
          47135463,
          47083237,
          37036141,
          26070303,
          26026630,
          47030384,
          36959906,
          25984816,
          46978758,
          36885964,
          46931832,
          25945424,
          36817457,
          46911291,
          36783017,
          25925370,
          36724403,
          46870907,
          25890297,
          46805515,
          36635190,
          25837796,
          36555925,
          46749142,
          25792697,
          46690262,
          36474528,
          25746660,
          25701328,
          36394700,
          46632894,
          36320110,
          46580376,
          25659068,
          46561568,
          36289524,
          25641834,
          46519874,
          25606708,
          36230408,
          25551926,
          46452541,
          36136086,
          36047934,
          25502975,
          46391844,
          35959215,
          46330918,
          25453278,
          46269867,
          35868622,
          25403243,
          35785320,
          46214192,
          25355971,
          46193810,
          35753378,
          25336938,
          25294503,
          46146174,
          35683100,
          35575172,
          25232153,
          46070545,
          35476001,
          25176156,
          46000694,
          35381057,
          25122893,
          45935164,
          45866817,
          25068267,
          35281975,
          45803739,
          25016453,
          35190507,
          24990887,
          35147794,
          45777296,
          45719305,
          24940301,
          35063017,
          34938295,
          24868878,
          45632494,
          45552205,
          24804884,
          34826792,
          24736791,
          34707153,
          45467730,
          24663754,
          45375516,
          34576807,
          45358878,
          34553142,
          24649561,
          45324616,
          24618712,
          34499902,
          45257513,
          34406507,
          24561523,
          45151449,
          24475244,
          34262144,
          45047976,
          24392124,
          34116984,
          24305711,
          33967319,
          44940660,
          24214626,
          44826234,
          33809401,
          33659420,
          44717760,
          24127530,
          44666886,
          24080720,
          33582378,
          33437337,
          44561465,
          23989833,
          23867109,
          33233794,
          44408663,
          33037742,
          44260649,
          23750856,
          23632301,
          44109614,
          32839300,
          43952325,
          32631922,
          23509791,
          32453150,
          43813775,
          23402273,
          32367835,
          23350025,
          43752310,
          43631666,
          23252633,
          32214162,
          43462207,
          32003970,
          23122732,
          23020885,
          43323879,
          31835393,
          31667209,
          22918602,
          43183474,
          31485852,
          22811422,
          43032295,
          42916351,
          31353169,
          22729201,
          22692956,
          31291718,
          42871453,
          42752258,
          22602157,
          31146598,
          42563542,
          22463731,
          30919299,
          22331621,
          42376915,
          30702981,
          42183567,
          30474929,
          22192385,
          41985888,
          22051028,
          30245038,
          21940193,
          30066936,
          41829248,
          21880060,
          41754357,
          29970569,
          21751152,
          29768018,
          41590169,
          29449902,
          21549682,
          41322113,
          29135193,
          21351476,
          41054251,
          21147802,
          40781002,
          28814039,
          40512915,
          28499107,
          20948708,
          40289219,
          28230575,
          20780388,
          28085332,
          40183354,
          20690713,
          20506943,
          27794892,
          39952246,
          20257772,
          27402374,
          39628038,
          39297427,
          26997397,
          20002716,
          26598632,
          19752509,
          38975857,
          26200449,
          38655848,
          19504548,
          19305624,
          25884156,
          38399116,
          19204319,
          38279040,
          25720309,
          38007824,
          18985105,
          25377372,
          37616936,
          24892719,
          18680655,
          37194620,
          18355591,
          24377327,
          23881857,
          36755051,
          18045452,
          36303806,
          17730430,
          23378284,
          35862789,
          22919074,
          17434152,
          17276185,
          22667874,
          35651487,
          35178247,
          22173465,
          16958586,
          21484545,
          16515107,
          34497426,
          16054107,
          33765451,
          20775939,
          15594592,
          20075584,
          33022022,
          15181210,
          32328270,
          19455336,
          31793514,
          18989579,
          14864229,
          18863485,
          31662906,
          14776859,
          31231407,
          14516275,
          18512172,
          17990923,
          14120790,
          30550592,
          29690548,
          17373170,
          13651336,
          28888053,
          13198322,
          16783718,
          12825045,
          16307016,
          28190103,
          27617943,
          12527285,
          15934460,
          27365682,
          12403882,
          15777592,
          26843720,
          15471365,
          12159507,
          15014433,
          11792935,
          26044415,
          11404427,
          25157652,
          14546099,
          24276912,
          14105149,
          11029644,
          23479504,
          13713518,
          10697441,
          22833184,
          10431458,
          13402141,
          13255054,
          10312905,
          22571388,
          22018972,
          12975310,
          10081267,
          12544258,
          21152151,
          9728843,
          12126720,
          9387592,
          20234160,
          9077003,
          19374082,
          11746356,
          8801916,
          18599135,
          11410447,
          11148672,
          8589917,
          18004893,
          8489672,
          17767776,
          11021374,
          8285066,
          10768994,
          17255457,
          10401485,
          16473126,
          7983531,
          7682905,
          10038121,
          15631604,
          7412686,
          9715593,
          14901827,
          14283704,
          7184291,
          9438591,
          9215512,
          13783664,
          6998990,
          13569193,
          9096562,
          6906878,
          8880926,
          6732795,
          13136341,
          6489273,
          12524573,
          8586402,
          8331892,
          6279097,
          11972781,
          11509096,
          6095948,
          8113557,
          11140578,
          5948424,
          7937119,
          10844285,
          7791693,
          5825618,
          5769022,
          10714649,
          7723308,
          10438797,
          5649009,
          7583503,
          7383296,
          5483007,
          10056439,
          9724748,
          5345825,
          7219004,
          9464239,
          7090009,
          5238675,
          5170190,
          7006002,
          9292861,
          9170595,
          6941294,
          5117903,
          5095533,
          6913409,
          9118650,
          6850237,
          9003751,
          5043867,
          4971189,
          8846048,
          6756738,
          8702626,
          6679104,
          4908351,
          8547364,
          6593998,
          4839861,
          6522624,
          4782262,
          8415123,
          4740156,
          8317441,
          6471544,
          6440482,
          8261648,
          4714970,
          6359994,
          8114686,
          4648081,
          7884183,
          4541663,
          6228873,
          7675409,
          6109558,
          4445425,
          4353337,
          5998492,
          7479626,
          4278373,
          7318094,
          5907094,
          4219155,
          5835092,
          7191836,
          5807838,
          7150837,
          4197905,
          4133704,
          5726486,
          7019406,
          5590464,
          6801887,
          4026852,
          3923396,
          5462018,
          6585404,
          5348223,
          6395692,
          3830685,
          3761446,
          5263084,
          6250026,
          6132908,
          3704391,
          5192794,
          5163259,
          3681272,
          6085448,
          5978118,
          3627561,
          5095227,
          4949235,
          5762924,
          3516667,
          3409088,
          5553299,
          4811056,
          4686338,
          3311646,
          5363276,
          3228715,
          4579767,
          5201733,
          3157659,
          4489566,
          5066783,
          3135825,
          5024555,
          4460111,
          3077819,
          4914043,
          4383390,
          2954084,
          4691566,
          4219588,
          2838311,
          4067890,
          4480594,
          3926774,
          4289103,
          2731181,
          2638546,
          3803244,
          4122695,
          4015056,
          2580075,
          3725505,
          3974049,
          3692098,
          2556439,
          3608343,
          3874493,
          2497870,
          3423060,
          2362443,
          3648752,
          3419433,
          2225449,
          3237563,
          2098102,
          3063290,
          3207617,
          2901071,
          3013812,
          1979589,
          1885134,
          2859842,
          2769687,
          1863537,
          2825334,
          2737319,
          1815372,
          2662876,
          2748058,
          1686684,
          2475926,
          2538262,
          2292071,
          1555557,
          2322095,
          2107423,
          2110516,
          1425050,
          1913705,
          1945995,
          1306553,
          1805896,
          1752654,
          1206842,
          1720048,
          1186444,
          1775060,
          1145851,
          1656291,
          1716470,
          1633551,
          1700206,
          1133808,
          1589609,
          1514501,
          1057175,
          1273875,
          1372063,
          903331,
          769724,
          1182151,
          1064662,
          1020182,
          656126,
          890250,
          990573,
          637452,
          864256,
          608861,
          823609,
          948078,
          606548,
          944203,
          820128,
          882885,
          566054,
          762023,
          589562,
          444352,
          703017,
          349856,
          456530,
          557669,
          268438,
          427791,
          345458,
          388456,
          317361,
          245076,
          322476,
          205085,
          266512,
          111657,
          175828,
          144154,
          50213,
          66118,
          79346,
          15363,
          22774,
          21605,
          4888,
          6085,
          8688,
          3876,
          4592,
          7362
         ],
         "yaxis": "y",
         "type": "scattergl"
        }
       ],
       "layout": {
        "template": {
         "data": {
          "histogram2dcontour": [
           {
            "type": "histogram2dcontour",
            "colorbar": {
             "outlinewidth": 0,
             "ticks": ""
            },
            "colorscale": [
             [
              0.0,
              "#0d0887"
             ],
             [
              0.1111111111111111,
              "#46039f"
             ],
             [
              0.2222222222222222,
              "#7201a8"
             ],
             [
              0.3333333333333333,
              "#9c179e"
             ],
             [
              0.4444444444444444,
              "#bd3786"
             ],
             [
              0.5555555555555556,
              "#d8576b"
             ],
             [
              0.6666666666666666,
              "#ed7953"
             ],
             [
              0.7777777777777778,
              "#fb9f3a"
             ],
             [
              0.8888888888888888,
              "#fdca26"
             ],
             [
              1.0,
              "#f0f921"
             ]
            ]
           }
          ],
          "choropleth": [
           {
            "type": "choropleth",
            "colorbar": {
             "outlinewidth": 0,
             "ticks": ""
            }
           }
          ],
          "histogram2d": [
           {
            "type": "histogram2d",
            "colorbar": {
             "outlinewidth": 0,
             "ticks": ""
            },
            "colorscale": [
             [
              0.0,
              "#0d0887"
             ],
             [
              0.1111111111111111,
              "#46039f"
             ],
             [
              0.2222222222222222,
              "#7201a8"
             ],
             [
              0.3333333333333333,
              "#9c179e"
             ],
             [
              0.4444444444444444,
              "#bd3786"
             ],
             [
              0.5555555555555556,
              "#d8576b"
             ],
             [
              0.6666666666666666,
              "#ed7953"
             ],
             [
              0.7777777777777778,
              "#fb9f3a"
             ],
             [
              0.8888888888888888,
              "#fdca26"
             ],
             [
              1.0,
              "#f0f921"
             ]
            ]
           }
          ],
          "heatmap": [
           {
            "type": "heatmap",
            "colorbar": {
             "outlinewidth": 0,
             "ticks": ""
            },
            "colorscale": [
             [
              0.0,
              "#0d0887"
             ],
             [
              0.1111111111111111,
              "#46039f"
             ],
             [
              0.2222222222222222,
              "#7201a8"
             ],
             [
              0.3333333333333333,
              "#9c179e"
             ],
             [
              0.4444444444444444,
              "#bd3786"
             ],
             [
              0.5555555555555556,
              "#d8576b"
             ],
             [
              0.6666666666666666,
              "#ed7953"
             ],
             [
              0.7777777777777778,
              "#fb9f3a"
             ],
             [
              0.8888888888888888,
              "#fdca26"
             ],
             [
              1.0,
              "#f0f921"
             ]
            ]
           }
          ],
          "heatmapgl": [
           {
            "type": "heatmapgl",
            "colorbar": {
             "outlinewidth": 0,
             "ticks": ""
            },
            "colorscale": [
             [
              0.0,
              "#0d0887"
             ],
             [
              0.1111111111111111,
              "#46039f"
             ],
             [
              0.2222222222222222,
              "#7201a8"
             ],
             [
              0.3333333333333333,
              "#9c179e"
             ],
             [
              0.4444444444444444,
              "#bd3786"
             ],
             [
              0.5555555555555556,
              "#d8576b"
             ],
             [
              0.6666666666666666,
              "#ed7953"
             ],
             [
              0.7777777777777778,
              "#fb9f3a"
             ],
             [
              0.8888888888888888,
              "#fdca26"
             ],
             [
              1.0,
              "#f0f921"
             ]
            ]
           }
          ],
          "contourcarpet": [
           {
            "type": "contourcarpet",
            "colorbar": {
             "outlinewidth": 0,
             "ticks": ""
            }
           }
          ],
          "contour": [
           {
            "type": "contour",
            "colorbar": {
             "outlinewidth": 0,
             "ticks": ""
            },
            "colorscale": [
             [
              0.0,
              "#0d0887"
             ],
             [
              0.1111111111111111,
              "#46039f"
             ],
             [
              0.2222222222222222,
              "#7201a8"
             ],
             [
              0.3333333333333333,
              "#9c179e"
             ],
             [
              0.4444444444444444,
              "#bd3786"
             ],
             [
              0.5555555555555556,
              "#d8576b"
             ],
             [
              0.6666666666666666,
              "#ed7953"
             ],
             [
              0.7777777777777778,
              "#fb9f3a"
             ],
             [
              0.8888888888888888,
              "#fdca26"
             ],
             [
              1.0,
              "#f0f921"
             ]
            ]
           }
          ],
          "surface": [
           {
            "type": "surface",
            "colorbar": {
             "outlinewidth": 0,
             "ticks": ""
            },
            "colorscale": [
             [
              0.0,
              "#0d0887"
             ],
             [
              0.1111111111111111,
              "#46039f"
             ],
             [
              0.2222222222222222,
              "#7201a8"
             ],
             [
              0.3333333333333333,
              "#9c179e"
             ],
             [
              0.4444444444444444,
              "#bd3786"
             ],
             [
              0.5555555555555556,
              "#d8576b"
             ],
             [
              0.6666666666666666,
              "#ed7953"
             ],
             [
              0.7777777777777778,
              "#fb9f3a"
             ],
             [
              0.8888888888888888,
              "#fdca26"
             ],
             [
              1.0,
              "#f0f921"
             ]
            ]
           }
          ],
          "mesh3d": [
           {
            "type": "mesh3d",
            "colorbar": {
             "outlinewidth": 0,
             "ticks": ""
            }
           }
          ],
          "scatter": [
           {
            "fillpattern": {
             "fillmode": "overlay",
             "size": 10,
             "solidity": 0.2
            },
            "type": "scatter"
           }
          ],
          "parcoords": [
           {
            "type": "parcoords",
            "line": {
             "colorbar": {
              "outlinewidth": 0,
              "ticks": ""
             }
            }
           }
          ],
          "scatterpolargl": [
           {
            "type": "scatterpolargl",
            "marker": {
             "colorbar": {
              "outlinewidth": 0,
              "ticks": ""
             }
            }
           }
          ],
          "bar": [
           {
            "error_x": {
             "color": "#2a3f5f"
            },
            "error_y": {
             "color": "#2a3f5f"
            },
            "marker": {
             "line": {
              "color": "#E5ECF6",
              "width": 0.5
             },
             "pattern": {
              "fillmode": "overlay",
              "size": 10,
              "solidity": 0.2
             }
            },
            "type": "bar"
           }
          ],
          "scattergeo": [
           {
            "type": "scattergeo",
            "marker": {
             "colorbar": {
              "outlinewidth": 0,
              "ticks": ""
             }
            }
           }
          ],
          "scatterpolar": [
           {
            "type": "scatterpolar",
            "marker": {
             "colorbar": {
              "outlinewidth": 0,
              "ticks": ""
             }
            }
           }
          ],
          "histogram": [
           {
            "marker": {
             "pattern": {
              "fillmode": "overlay",
              "size": 10,
              "solidity": 0.2
             }
            },
            "type": "histogram"
           }
          ],
          "scattergl": [
           {
            "type": "scattergl",
            "marker": {
             "colorbar": {
              "outlinewidth": 0,
              "ticks": ""
             }
            }
           }
          ],
          "scatter3d": [
           {
            "type": "scatter3d",
            "line": {
             "colorbar": {
              "outlinewidth": 0,
              "ticks": ""
             }
            },
            "marker": {
             "colorbar": {
              "outlinewidth": 0,
              "ticks": ""
             }
            }
           }
          ],
          "scattermapbox": [
           {
            "type": "scattermapbox",
            "marker": {
             "colorbar": {
              "outlinewidth": 0,
              "ticks": ""
             }
            }
           }
          ],
          "scatterternary": [
           {
            "type": "scatterternary",
            "marker": {
             "colorbar": {
              "outlinewidth": 0,
              "ticks": ""
             }
            }
           }
          ],
          "scattercarpet": [
           {
            "type": "scattercarpet",
            "marker": {
             "colorbar": {
              "outlinewidth": 0,
              "ticks": ""
             }
            }
           }
          ],
          "carpet": [
           {
            "aaxis": {
             "endlinecolor": "#2a3f5f",
             "gridcolor": "white",
             "linecolor": "white",
             "minorgridcolor": "white",
             "startlinecolor": "#2a3f5f"
            },
            "baxis": {
             "endlinecolor": "#2a3f5f",
             "gridcolor": "white",
             "linecolor": "white",
             "minorgridcolor": "white",
             "startlinecolor": "#2a3f5f"
            },
            "type": "carpet"
           }
          ],
          "table": [
           {
            "cells": {
             "fill": {
              "color": "#EBF0F8"
             },
             "line": {
              "color": "white"
             }
            },
            "header": {
             "fill": {
              "color": "#C8D4E3"
             },
             "line": {
              "color": "white"
             }
            },
            "type": "table"
           }
          ],
          "barpolar": [
           {
            "marker": {
             "line": {
              "color": "#E5ECF6",
              "width": 0.5
             },
             "pattern": {
              "fillmode": "overlay",
              "size": 10,
              "solidity": 0.2
             }
            },
            "type": "barpolar"
           }
          ],
          "pie": [
           {
            "automargin": true,
            "type": "pie"
           }
          ]
         },
         "layout": {
          "autotypenumbers": "strict",
          "colorway": [
           "#636efa",
           "#EF553B",
           "#00cc96",
           "#ab63fa",
           "#FFA15A",
           "#19d3f3",
           "#FF6692",
           "#B6E880",
           "#FF97FF",
           "#FECB52"
          ],
          "font": {
           "color": "#2a3f5f"
          },
          "hovermode": "closest",
          "hoverlabel": {
           "align": "left"
          },
          "paper_bgcolor": "white",
          "plot_bgcolor": "#E5ECF6",
          "polar": {
           "bgcolor": "#E5ECF6",
           "angularaxis": {
            "gridcolor": "white",
            "linecolor": "white",
            "ticks": ""
           },
           "radialaxis": {
            "gridcolor": "white",
            "linecolor": "white",
            "ticks": ""
           }
          },
          "ternary": {
           "bgcolor": "#E5ECF6",
           "aaxis": {
            "gridcolor": "white",
            "linecolor": "white",
            "ticks": ""
           },
           "baxis": {
            "gridcolor": "white",
            "linecolor": "white",
            "ticks": ""
           },
           "caxis": {
            "gridcolor": "white",
            "linecolor": "white",
            "ticks": ""
           }
          },
          "coloraxis": {
           "colorbar": {
            "outlinewidth": 0,
            "ticks": ""
           }
          },
          "colorscale": {
           "sequential": [
            [
             0.0,
             "#0d0887"
            ],
            [
             0.1111111111111111,
             "#46039f"
            ],
            [
             0.2222222222222222,
             "#7201a8"
            ],
            [
             0.3333333333333333,
             "#9c179e"
            ],
            [
             0.4444444444444444,
             "#bd3786"
            ],
            [
             0.5555555555555556,
             "#d8576b"
            ],
            [
             0.6666666666666666,
             "#ed7953"
            ],
            [
             0.7777777777777778,
             "#fb9f3a"
            ],
            [
             0.8888888888888888,
             "#fdca26"
            ],
            [
             1.0,
             "#f0f921"
            ]
           ],
           "sequentialminus": [
            [
             0.0,
             "#0d0887"
            ],
            [
             0.1111111111111111,
             "#46039f"
            ],
            [
             0.2222222222222222,
             "#7201a8"
            ],
            [
             0.3333333333333333,
             "#9c179e"
            ],
            [
             0.4444444444444444,
             "#bd3786"
            ],
            [
             0.5555555555555556,
             "#d8576b"
            ],
            [
             0.6666666666666666,
             "#ed7953"
            ],
            [
             0.7777777777777778,
             "#fb9f3a"
            ],
            [
             0.8888888888888888,
             "#fdca26"
            ],
            [
             1.0,
             "#f0f921"
            ]
           ],
           "diverging": [
            [
             0,
             "#8e0152"
            ],
            [
             0.1,
             "#c51b7d"
            ],
            [
             0.2,
             "#de77ae"
            ],
            [
             0.3,
             "#f1b6da"
            ],
            [
             0.4,
             "#fde0ef"
            ],
            [
             0.5,
             "#f7f7f7"
            ],
            [
             0.6,
             "#e6f5d0"
            ],
            [
             0.7,
             "#b8e186"
            ],
            [
             0.8,
             "#7fbc41"
            ],
            [
             0.9,
             "#4d9221"
            ],
            [
             1,
             "#276419"
            ]
           ]
          },
          "xaxis": {
           "gridcolor": "white",
           "linecolor": "white",
           "ticks": "",
           "title": {
            "standoff": 15
           },
           "zerolinecolor": "white",
           "automargin": true,
           "zerolinewidth": 2
          },
          "yaxis": {
           "gridcolor": "white",
           "linecolor": "white",
           "ticks": "",
           "title": {
            "standoff": 15
           },
           "zerolinecolor": "white",
           "automargin": true,
           "zerolinewidth": 2
          },
          "scene": {
           "xaxis": {
            "backgroundcolor": "#E5ECF6",
            "gridcolor": "white",
            "linecolor": "white",
            "showbackground": true,
            "ticks": "",
            "zerolinecolor": "white",
            "gridwidth": 2
           },
           "yaxis": {
            "backgroundcolor": "#E5ECF6",
            "gridcolor": "white",
            "linecolor": "white",
            "showbackground": true,
            "ticks": "",
            "zerolinecolor": "white",
            "gridwidth": 2
           },
           "zaxis": {
            "backgroundcolor": "#E5ECF6",
            "gridcolor": "white",
            "linecolor": "white",
            "showbackground": true,
            "ticks": "",
            "zerolinecolor": "white",
            "gridwidth": 2
           }
          },
          "shapedefaults": {
           "line": {
            "color": "#2a3f5f"
           }
          },
          "annotationdefaults": {
           "arrowcolor": "#2a3f5f",
           "arrowhead": 0,
           "arrowwidth": 1
          },
          "geo": {
           "bgcolor": "white",
           "landcolor": "#E5ECF6",
           "subunitcolor": "white",
           "showland": true,
           "showlakes": true,
           "lakecolor": "white"
          },
          "title": {
           "x": 0.05
          },
          "mapbox": {
           "style": "light"
          }
         }
        },
        "xaxis": {
         "anchor": "y",
         "domain": [
          0.0,
          1.0
         ],
         "title": {
          "text": "date"
         }
        },
        "yaxis": {
         "anchor": "x",
         "domain": [
          0.0,
          1.0
         ],
         "title": {
          "text": "administered_dose1"
         }
        },
        "legend": {
         "tracegroupgap": 0
        },
        "margin": {
         "t": 60
        },
        "title": {
         "text": "USA Administered Dose"
        }
       },
       "config": {
        "plotlyServerURL": "https://plot.ly"
       }
      },
      "text/html": "<div>                            <div id=\"f8879d47-96dd-40f6-9276-6727c82d1ab8\" class=\"plotly-graph-div\" style=\"height:525px; width:100%;\"></div>            <script type=\"text/javascript\">                require([\"plotly\"], function(Plotly) {                    window.PLOTLYENV=window.PLOTLYENV || {};                                    if (document.getElementById(\"f8879d47-96dd-40f6-9276-6727c82d1ab8\")) {                    Plotly.newPlot(                        \"f8879d47-96dd-40f6-9276-6727c82d1ab8\",                        [{\"hovertemplate\":\"date=%{x}<br>administered_dose1=%{y}<extra></extra>\",\"legendgroup\":\"\",\"line\":{\"color\":\"#636efa\",\"dash\":\"solid\"},\"marker\":{\"symbol\":\"circle\"},\"mode\":\"lines\",\"name\":\"\",\"showlegend\":false,\"x\":[\"2022 week 15\",\"2022 week 15\",\"2022 week 15\",\"2022 week 14\",\"2022 week 14\",\"2022 week 14\",\"2022 week 14\",\"2022 week 14\",\"2022 week 14\",\"2022 week 14\",\"2022 week 14\",\"2022 week 14\",\"2022 week 14\",\"2022 week 14\",\"2022 week 14\",\"2022 week 14\",\"2022 week 14\",\"2022 week 14\",\"2022 week 14\",\"2022 week 14\",\"2022 week 14\",\"2022 week 14\",\"2022 week 14\",\"2022 week 14\",\"2022 week 13\",\"2022 week 13\",\"2022 week 13\",\"2022 week 13\",\"2022 week 13\",\"2022 week 13\",\"2022 week 13\",\"2022 week 13\",\"2022 week 13\",\"2022 week 13\",\"2022 week 13\",\"2022 week 13\",\"2022 week 13\",\"2022 week 13\",\"2022 week 13\",\"2022 week 13\",\"2022 week 13\",\"2022 week 13\",\"2022 week 13\",\"2022 week 13\",\"2022 week 13\",\"2022 week 12\",\"2022 week 12\",\"2022 week 12\",\"2022 week 12\",\"2022 week 12\",\"2022 week 12\",\"2022 week 12\",\"2022 week 12\",\"2022 week 12\",\"2022 week 12\",\"2022 week 12\",\"2022 week 12\",\"2022 week 12\",\"2022 week 12\",\"2022 week 12\",\"2022 week 12\",\"2022 week 12\",\"2022 week 12\",\"2022 week 12\",\"2022 week 12\",\"2022 week 12\",\"2022 week 11\",\"2022 week 11\",\"2022 week 11\",\"2022 week 11\",\"2022 week 11\",\"2022 week 11\",\"2022 week 11\",\"2022 week 11\",\"2022 week 11\",\"2022 week 11\",\"2022 week 11\",\"2022 week 11\",\"2022 week 11\",\"2022 week 11\",\"2022 week 11\",\"2022 week 11\",\"2022 week 11\",\"2022 week 11\",\"2022 week 11\",\"2022 week 11\",\"2022 week 11\",\"2022 week 10\",\"2022 week 10\",\"2022 week 10\",\"2022 week 10\",\"2022 week 10\",\"2022 week 10\",\"2022 week 10\",\"2022 week 10\",\"2022 week 10\",\"2022 week 10\",\"2022 week 10\",\"2022 week 10\",\"2022 week 10\",\"2022 week 10\",\"2022 week 10\",\"2022 week 10\",\"2022 week 10\",\"2022 week 10\",\"2022 week 10\",\"2022 week 10\",\"2022 week 10\",\"2022 week 9\",\"2022 week 9\",\"2022 week 9\",\"2022 week 9\",\"2022 week 9\",\"2022 week 9\",\"2022 week 9\",\"2022 week 9\",\"2022 week 9\",\"2022 week 9\",\"2022 week 9\",\"2022 week 9\",\"2022 week 9\",\"2022 week 9\",\"2022 week 9\",\"2022 week 9\",\"2022 week 9\",\"2022 week 9\",\"2022 week 9\",\"2022 week 9\",\"2022 week 9\",\"2022 week 8\",\"2022 week 8\",\"2022 week 8\",\"2022 week 8\",\"2022 week 8\",\"2022 week 8\",\"2022 week 8\",\"2022 week 8\",\"2022 week 8\",\"2022 week 8\",\"2022 week 8\",\"2022 week 8\",\"2022 week 8\",\"2022 week 8\",\"2022 week 8\",\"2022 week 8\",\"2022 week 8\",\"2022 week 8\",\"2022 week 8\",\"2022 week 8\",\"2022 week 8\",\"2022 week 7\",\"2022 week 7\",\"2022 week 7\",\"2022 week 7\",\"2022 week 7\",\"2022 week 7\",\"2022 week 7\",\"2022 week 7\",\"2022 week 7\",\"2022 week 7\",\"2022 week 7\",\"2022 week 7\",\"2022 week 7\",\"2022 week 7\",\"2022 week 7\",\"2022 week 7\",\"2022 week 7\",\"2022 week 7\",\"2022 week 7\",\"2022 week 7\",\"2022 week 7\",\"2022 week 6\",\"2022 week 6\",\"2022 week 6\",\"2022 week 6\",\"2022 week 6\",\"2022 week 6\",\"2022 week 6\",\"2022 week 6\",\"2022 week 6\",\"2022 week 6\",\"2022 week 6\",\"2022 week 6\",\"2022 week 6\",\"2022 week 6\",\"2022 week 6\",\"2022 week 6\",\"2022 week 6\",\"2022 week 6\",\"2022 week 6\",\"2022 week 6\",\"2022 week 6\",\"2022 week 5\",\"2022 week 5\",\"2022 week 5\",\"2022 week 5\",\"2022 week 5\",\"2022 week 5\",\"2022 week 5\",\"2022 week 5\",\"2022 week 5\",\"2022 week 5\",\"2022 week 5\",\"2022 week 5\",\"2022 week 5\",\"2022 week 5\",\"2022 week 5\",\"2022 week 5\",\"2022 week 5\",\"2022 week 5\",\"2022 week 5\",\"2022 week 5\",\"2022 week 5\",\"2022 week 4\",\"2022 week 4\",\"2022 week 4\",\"2022 week 4\",\"2022 week 4\",\"2022 week 4\",\"2022 week 4\",\"2022 week 4\",\"2022 week 4\",\"2022 week 4\",\"2022 week 4\",\"2022 week 4\",\"2022 week 4\",\"2022 week 4\",\"2022 week 4\",\"2022 week 4\",\"2022 week 4\",\"2022 week 4\",\"2022 week 4\",\"2022 week 4\",\"2022 week 4\",\"2022 week 3\",\"2022 week 3\",\"2022 week 3\",\"2022 week 3\",\"2022 week 3\",\"2022 week 3\",\"2022 week 3\",\"2022 week 3\",\"2022 week 3\",\"2022 week 3\",\"2022 week 3\",\"2022 week 3\",\"2022 week 3\",\"2022 week 3\",\"2022 week 3\",\"2022 week 3\",\"2022 week 3\",\"2022 week 3\",\"2022 week 3\",\"2022 week 3\",\"2022 week 3\",\"2022 week 2\",\"2022 week 2\",\"2022 week 2\",\"2022 week 2\",\"2022 week 2\",\"2022 week 2\",\"2022 week 2\",\"2022 week 2\",\"2022 week 2\",\"2022 week 2\",\"2022 week 2\",\"2022 week 2\",\"2022 week 2\",\"2022 week 2\",\"2022 week 2\",\"2022 week 2\",\"2022 week 2\",\"2022 week 2\",\"2022 week 2\",\"2022 week 2\",\"2022 week 2\",\"2022 week 1\",\"2022 week 1\",\"2022 week 1\",\"2022 week 1\",\"2022 week 1\",\"2022 week 1\",\"2022 week 1\",\"2022 week 1\",\"2022 week 1\",\"2022 week 1\",\"2022 week 1\",\"2022 week 1\",\"2022 week 1\",\"2022 week 1\",\"2022 week 1\",\"2022 week 1\",\"2022 week 1\",\"2022 week 1\",\"2022 week 1\",\"2022 week 1\",\"2022 week 1\",\"2022 week 52\",\"2022 week 52\",\"2022 week 52\",\"2022 week 52\",\"2022 week 52\",\"2022 week 52\",\"2021 week 52\",\"2021 week 52\",\"2021 week 52\",\"2021 week 52\",\"2021 week 52\",\"2021 week 52\",\"2021 week 52\",\"2021 week 52\",\"2021 week 52\",\"2021 week 52\",\"2021 week 52\",\"2021 week 52\",\"2021 week 52\",\"2021 week 52\",\"2021 week 52\",\"2021 week 51\",\"2021 week 51\",\"2021 week 51\",\"2021 week 51\",\"2021 week 51\",\"2021 week 51\",\"2021 week 51\",\"2021 week 51\",\"2021 week 51\",\"2021 week 51\",\"2021 week 51\",\"2021 week 51\",\"2021 week 51\",\"2021 week 51\",\"2021 week 51\",\"2021 week 51\",\"2021 week 51\",\"2021 week 51\",\"2021 week 51\",\"2021 week 51\",\"2021 week 51\",\"2021 week 50\",\"2021 week 50\",\"2021 week 50\",\"2021 week 50\",\"2021 week 50\",\"2021 week 50\",\"2021 week 50\",\"2021 week 50\",\"2021 week 50\",\"2021 week 50\",\"2021 week 50\",\"2021 week 50\",\"2021 week 50\",\"2021 week 50\",\"2021 week 50\",\"2021 week 50\",\"2021 week 50\",\"2021 week 50\",\"2021 week 50\",\"2021 week 50\",\"2021 week 50\",\"2021 week 49\",\"2021 week 49\",\"2021 week 49\",\"2021 week 49\",\"2021 week 49\",\"2021 week 49\",\"2021 week 49\",\"2021 week 49\",\"2021 week 49\",\"2021 week 49\",\"2021 week 49\",\"2021 week 49\",\"2021 week 49\",\"2021 week 49\",\"2021 week 49\",\"2021 week 49\",\"2021 week 49\",\"2021 week 49\",\"2021 week 49\",\"2021 week 49\",\"2021 week 49\",\"2021 week 48\",\"2021 week 48\",\"2021 week 48\",\"2021 week 48\",\"2021 week 48\",\"2021 week 48\",\"2021 week 48\",\"2021 week 48\",\"2021 week 48\",\"2021 week 48\",\"2021 week 48\",\"2021 week 48\",\"2021 week 48\",\"2021 week 48\",\"2021 week 48\",\"2021 week 48\",\"2021 week 48\",\"2021 week 48\",\"2021 week 48\",\"2021 week 48\",\"2021 week 48\",\"2021 week 47\",\"2021 week 47\",\"2021 week 47\",\"2021 week 47\",\"2021 week 47\",\"2021 week 47\",\"2021 week 47\",\"2021 week 47\",\"2021 week 47\",\"2021 week 47\",\"2021 week 47\",\"2021 week 47\",\"2021 week 47\",\"2021 week 47\",\"2021 week 47\",\"2021 week 47\",\"2021 week 47\",\"2021 week 47\",\"2021 week 47\",\"2021 week 47\",\"2021 week 47\",\"2021 week 46\",\"2021 week 46\",\"2021 week 46\",\"2021 week 46\",\"2021 week 46\",\"2021 week 46\",\"2021 week 46\",\"2021 week 46\",\"2021 week 46\",\"2021 week 46\",\"2021 week 46\",\"2021 week 46\",\"2021 week 46\",\"2021 week 46\",\"2021 week 46\",\"2021 week 46\",\"2021 week 46\",\"2021 week 46\",\"2021 week 46\",\"2021 week 46\",\"2021 week 46\",\"2021 week 45\",\"2021 week 45\",\"2021 week 45\",\"2021 week 45\",\"2021 week 45\",\"2021 week 45\",\"2021 week 45\",\"2021 week 45\",\"2021 week 45\",\"2021 week 45\",\"2021 week 45\",\"2021 week 45\",\"2021 week 45\",\"2021 week 45\",\"2021 week 45\",\"2021 week 45\",\"2021 week 45\",\"2021 week 45\",\"2021 week 45\",\"2021 week 45\",\"2021 week 45\",\"2021 week 44\",\"2021 week 44\",\"2021 week 44\",\"2021 week 44\",\"2021 week 44\",\"2021 week 44\",\"2021 week 44\",\"2021 week 44\",\"2021 week 44\",\"2021 week 44\",\"2021 week 44\",\"2021 week 44\",\"2021 week 44\",\"2021 week 44\",\"2021 week 44\",\"2021 week 44\",\"2021 week 44\",\"2021 week 44\",\"2021 week 44\",\"2021 week 44\",\"2021 week 44\",\"2021 week 43\",\"2021 week 43\",\"2021 week 43\",\"2021 week 43\",\"2021 week 43\",\"2021 week 43\",\"2021 week 43\",\"2021 week 43\",\"2021 week 43\",\"2021 week 43\",\"2021 week 43\",\"2021 week 43\",\"2021 week 43\",\"2021 week 43\",\"2021 week 43\",\"2021 week 43\",\"2021 week 43\",\"2021 week 43\",\"2021 week 43\",\"2021 week 43\",\"2021 week 43\",\"2021 week 42\",\"2021 week 42\",\"2021 week 42\",\"2021 week 42\",\"2021 week 42\",\"2021 week 42\",\"2021 week 42\",\"2021 week 42\",\"2021 week 42\",\"2021 week 42\",\"2021 week 42\",\"2021 week 42\",\"2021 week 42\",\"2021 week 42\",\"2021 week 42\",\"2021 week 42\",\"2021 week 42\",\"2021 week 42\",\"2021 week 42\",\"2021 week 42\",\"2021 week 42\",\"2021 week 41\",\"2021 week 41\",\"2021 week 41\",\"2021 week 41\",\"2021 week 41\",\"2021 week 41\",\"2021 week 41\",\"2021 week 41\",\"2021 week 41\",\"2021 week 41\",\"2021 week 41\",\"2021 week 41\",\"2021 week 41\",\"2021 week 41\",\"2021 week 41\",\"2021 week 41\",\"2021 week 41\",\"2021 week 41\",\"2021 week 41\",\"2021 week 41\",\"2021 week 41\",\"2021 week 40\",\"2021 week 40\",\"2021 week 40\",\"2021 week 40\",\"2021 week 40\",\"2021 week 40\",\"2021 week 40\",\"2021 week 40\",\"2021 week 40\",\"2021 week 40\",\"2021 week 40\",\"2021 week 40\",\"2021 week 40\",\"2021 week 40\",\"2021 week 40\",\"2021 week 40\",\"2021 week 40\",\"2021 week 40\",\"2021 week 40\",\"2021 week 40\",\"2021 week 40\",\"2021 week 39\",\"2021 week 39\",\"2021 week 39\",\"2021 week 39\",\"2021 week 39\",\"2021 week 39\",\"2021 week 39\",\"2021 week 39\",\"2021 week 39\",\"2021 week 39\",\"2021 week 39\",\"2021 week 39\",\"2021 week 39\",\"2021 week 39\",\"2021 week 39\",\"2021 week 39\",\"2021 week 39\",\"2021 week 39\",\"2021 week 39\",\"2021 week 39\",\"2021 week 39\",\"2021 week 38\",\"2021 week 38\",\"2021 week 38\",\"2021 week 38\",\"2021 week 38\",\"2021 week 38\",\"2021 week 38\",\"2021 week 38\",\"2021 week 38\",\"2021 week 38\",\"2021 week 38\",\"2021 week 38\",\"2021 week 38\",\"2021 week 38\",\"2021 week 38\",\"2021 week 38\",\"2021 week 38\",\"2021 week 38\",\"2021 week 38\",\"2021 week 38\",\"2021 week 38\",\"2021 week 37\",\"2021 week 37\",\"2021 week 37\",\"2021 week 37\",\"2021 week 37\",\"2021 week 37\",\"2021 week 37\",\"2021 week 37\",\"2021 week 37\",\"2021 week 37\",\"2021 week 37\",\"2021 week 37\",\"2021 week 37\",\"2021 week 37\",\"2021 week 37\",\"2021 week 37\",\"2021 week 37\",\"2021 week 37\",\"2021 week 37\",\"2021 week 37\",\"2021 week 37\",\"2021 week 36\",\"2021 week 36\",\"2021 week 36\",\"2021 week 36\",\"2021 week 36\",\"2021 week 36\",\"2021 week 36\",\"2021 week 36\",\"2021 week 36\",\"2021 week 36\",\"2021 week 36\",\"2021 week 36\",\"2021 week 36\",\"2021 week 36\",\"2021 week 36\",\"2021 week 36\",\"2021 week 36\",\"2021 week 36\",\"2021 week 36\",\"2021 week 36\",\"2021 week 36\",\"2021 week 35\",\"2021 week 35\",\"2021 week 35\",\"2021 week 35\",\"2021 week 35\",\"2021 week 35\",\"2021 week 35\",\"2021 week 35\",\"2021 week 35\",\"2021 week 35\",\"2021 week 35\",\"2021 week 35\",\"2021 week 35\",\"2021 week 35\",\"2021 week 35\",\"2021 week 35\",\"2021 week 35\",\"2021 week 35\",\"2021 week 35\",\"2021 week 35\",\"2021 week 35\",\"2021 week 34\",\"2021 week 34\",\"2021 week 34\",\"2021 week 34\",\"2021 week 34\",\"2021 week 34\",\"2021 week 34\",\"2021 week 34\",\"2021 week 34\",\"2021 week 34\",\"2021 week 34\",\"2021 week 34\",\"2021 week 34\",\"2021 week 34\",\"2021 week 34\",\"2021 week 34\",\"2021 week 34\",\"2021 week 34\",\"2021 week 34\",\"2021 week 34\",\"2021 week 34\",\"2021 week 33\",\"2021 week 33\",\"2021 week 33\",\"2021 week 33\",\"2021 week 33\",\"2021 week 33\",\"2021 week 33\",\"2021 week 33\",\"2021 week 33\",\"2021 week 33\",\"2021 week 33\",\"2021 week 33\",\"2021 week 33\",\"2021 week 33\",\"2021 week 33\",\"2021 week 33\",\"2021 week 33\",\"2021 week 33\",\"2021 week 33\",\"2021 week 33\",\"2021 week 33\",\"2021 week 32\",\"2021 week 32\",\"2021 week 32\",\"2021 week 32\",\"2021 week 32\",\"2021 week 32\",\"2021 week 32\",\"2021 week 32\",\"2021 week 32\",\"2021 week 32\",\"2021 week 32\",\"2021 week 32\",\"2021 week 32\",\"2021 week 32\",\"2021 week 32\",\"2021 week 32\",\"2021 week 32\",\"2021 week 32\",\"2021 week 32\",\"2021 week 32\",\"2021 week 32\",\"2021 week 31\",\"2021 week 31\",\"2021 week 31\",\"2021 week 31\",\"2021 week 31\",\"2021 week 31\",\"2021 week 31\",\"2021 week 31\",\"2021 week 31\",\"2021 week 31\",\"2021 week 31\",\"2021 week 31\",\"2021 week 31\",\"2021 week 31\",\"2021 week 31\",\"2021 week 31\",\"2021 week 31\",\"2021 week 31\",\"2021 week 31\",\"2021 week 31\",\"2021 week 31\",\"2021 week 30\",\"2021 week 30\",\"2021 week 30\",\"2021 week 30\",\"2021 week 30\",\"2021 week 30\",\"2021 week 30\",\"2021 week 30\",\"2021 week 30\",\"2021 week 30\",\"2021 week 30\",\"2021 week 30\",\"2021 week 30\",\"2021 week 30\",\"2021 week 30\",\"2021 week 30\",\"2021 week 30\",\"2021 week 30\",\"2021 week 30\",\"2021 week 30\",\"2021 week 30\",\"2021 week 29\",\"2021 week 29\",\"2021 week 29\",\"2021 week 29\",\"2021 week 29\",\"2021 week 29\",\"2021 week 29\",\"2021 week 29\",\"2021 week 29\",\"2021 week 29\",\"2021 week 29\",\"2021 week 29\",\"2021 week 29\",\"2021 week 29\",\"2021 week 29\",\"2021 week 29\",\"2021 week 29\",\"2021 week 29\",\"2021 week 29\",\"2021 week 29\",\"2021 week 29\",\"2021 week 28\",\"2021 week 28\",\"2021 week 28\",\"2021 week 28\",\"2021 week 28\",\"2021 week 28\",\"2021 week 28\",\"2021 week 28\",\"2021 week 28\",\"2021 week 28\",\"2021 week 28\",\"2021 week 28\",\"2021 week 28\",\"2021 week 28\",\"2021 week 28\",\"2021 week 28\",\"2021 week 28\",\"2021 week 28\",\"2021 week 28\",\"2021 week 28\",\"2021 week 28\",\"2021 week 27\",\"2021 week 27\",\"2021 week 27\",\"2021 week 27\",\"2021 week 27\",\"2021 week 27\",\"2021 week 27\",\"2021 week 27\",\"2021 week 27\",\"2021 week 27\",\"2021 week 27\",\"2021 week 27\",\"2021 week 27\",\"2021 week 27\",\"2021 week 27\",\"2021 week 27\",\"2021 week 27\",\"2021 week 27\",\"2021 week 27\",\"2021 week 27\",\"2021 week 27\",\"2021 week 26\",\"2021 week 26\",\"2021 week 26\",\"2021 week 26\",\"2021 week 26\",\"2021 week 26\",\"2021 week 26\",\"2021 week 26\",\"2021 week 26\",\"2021 week 26\",\"2021 week 26\",\"2021 week 26\",\"2021 week 26\",\"2021 week 26\",\"2021 week 26\",\"2021 week 26\",\"2021 week 26\",\"2021 week 26\",\"2021 week 26\",\"2021 week 26\",\"2021 week 26\",\"2021 week 25\",\"2021 week 25\",\"2021 week 25\",\"2021 week 25\",\"2021 week 25\",\"2021 week 25\",\"2021 week 25\",\"2021 week 25\",\"2021 week 25\",\"2021 week 25\",\"2021 week 25\",\"2021 week 25\",\"2021 week 25\",\"2021 week 25\",\"2021 week 25\",\"2021 week 25\",\"2021 week 25\",\"2021 week 25\",\"2021 week 25\",\"2021 week 25\",\"2021 week 25\",\"2021 week 24\",\"2021 week 24\",\"2021 week 24\",\"2021 week 24\",\"2021 week 24\",\"2021 week 24\",\"2021 week 24\",\"2021 week 24\",\"2021 week 24\",\"2021 week 24\",\"2021 week 24\",\"2021 week 24\",\"2021 week 24\",\"2021 week 24\",\"2021 week 24\",\"2021 week 24\",\"2021 week 24\",\"2021 week 24\",\"2021 week 24\",\"2021 week 24\",\"2021 week 24\",\"2021 week 23\",\"2021 week 23\",\"2021 week 23\",\"2021 week 23\",\"2021 week 23\",\"2021 week 23\",\"2021 week 23\",\"2021 week 23\",\"2021 week 23\",\"2021 week 23\",\"2021 week 23\",\"2021 week 23\",\"2021 week 23\",\"2021 week 23\",\"2021 week 23\",\"2021 week 23\",\"2021 week 23\",\"2021 week 23\",\"2021 week 23\",\"2021 week 23\",\"2021 week 23\",\"2021 week 22\",\"2021 week 22\",\"2021 week 22\",\"2021 week 22\",\"2021 week 22\",\"2021 week 22\",\"2021 week 22\",\"2021 week 22\",\"2021 week 22\",\"2021 week 22\",\"2021 week 22\",\"2021 week 22\",\"2021 week 22\",\"2021 week 22\",\"2021 week 22\",\"2021 week 22\",\"2021 week 22\",\"2021 week 22\",\"2021 week 22\",\"2021 week 22\",\"2021 week 22\",\"2021 week 21\",\"2021 week 21\",\"2021 week 21\",\"2021 week 21\",\"2021 week 21\",\"2021 week 21\",\"2021 week 21\",\"2021 week 21\",\"2021 week 21\",\"2021 week 21\",\"2021 week 21\",\"2021 week 21\",\"2021 week 21\",\"2021 week 21\",\"2021 week 21\",\"2021 week 21\",\"2021 week 21\",\"2021 week 21\",\"2021 week 21\",\"2021 week 21\",\"2021 week 21\",\"2021 week 20\",\"2021 week 20\",\"2021 week 20\",\"2021 week 20\",\"2021 week 20\",\"2021 week 20\",\"2021 week 20\",\"2021 week 20\",\"2021 week 20\",\"2021 week 20\",\"2021 week 20\",\"2021 week 20\",\"2021 week 20\",\"2021 week 20\",\"2021 week 20\",\"2021 week 20\",\"2021 week 20\",\"2021 week 20\",\"2021 week 20\",\"2021 week 20\",\"2021 week 20\",\"2021 week 19\",\"2021 week 19\",\"2021 week 19\",\"2021 week 19\",\"2021 week 19\",\"2021 week 19\",\"2021 week 19\",\"2021 week 19\",\"2021 week 19\",\"2021 week 19\",\"2021 week 19\",\"2021 week 19\",\"2021 week 19\",\"2021 week 19\",\"2021 week 19\",\"2021 week 19\",\"2021 week 19\",\"2021 week 19\",\"2021 week 19\",\"2021 week 19\",\"2021 week 19\",\"2021 week 18\",\"2021 week 18\",\"2021 week 18\",\"2021 week 18\",\"2021 week 18\",\"2021 week 18\",\"2021 week 18\",\"2021 week 18\",\"2021 week 18\",\"2021 week 18\",\"2021 week 18\",\"2021 week 18\",\"2021 week 18\",\"2021 week 18\",\"2021 week 18\",\"2021 week 18\",\"2021 week 18\",\"2021 week 18\",\"2021 week 18\",\"2021 week 18\",\"2021 week 18\",\"2021 week 17\",\"2021 week 17\",\"2021 week 17\",\"2021 week 17\",\"2021 week 17\",\"2021 week 17\",\"2021 week 17\",\"2021 week 17\",\"2021 week 17\",\"2021 week 17\",\"2021 week 17\",\"2021 week 17\",\"2021 week 17\",\"2021 week 17\",\"2021 week 17\",\"2021 week 17\",\"2021 week 17\",\"2021 week 17\",\"2021 week 17\",\"2021 week 17\",\"2021 week 17\",\"2021 week 16\",\"2021 week 16\",\"2021 week 16\",\"2021 week 16\",\"2021 week 16\",\"2021 week 16\",\"2021 week 16\",\"2021 week 16\",\"2021 week 16\",\"2021 week 16\",\"2021 week 16\",\"2021 week 16\",\"2021 week 16\",\"2021 week 16\",\"2021 week 16\",\"2021 week 16\",\"2021 week 16\",\"2021 week 16\",\"2021 week 16\",\"2021 week 16\",\"2021 week 16\",\"2021 week 15\",\"2021 week 15\",\"2021 week 15\",\"2021 week 15\",\"2021 week 15\",\"2021 week 15\",\"2021 week 15\",\"2021 week 15\",\"2021 week 15\",\"2021 week 15\",\"2021 week 15\",\"2021 week 15\",\"2021 week 15\",\"2021 week 15\",\"2021 week 15\",\"2021 week 15\",\"2021 week 15\",\"2021 week 15\",\"2021 week 15\",\"2021 week 15\",\"2021 week 15\",\"2021 week 14\",\"2021 week 14\",\"2021 week 14\",\"2021 week 14\",\"2021 week 14\",\"2021 week 14\",\"2021 week 14\",\"2021 week 14\",\"2021 week 14\",\"2021 week 14\",\"2021 week 14\",\"2021 week 14\",\"2021 week 14\",\"2021 week 14\",\"2021 week 14\",\"2021 week 14\",\"2021 week 14\",\"2021 week 14\",\"2021 week 14\",\"2021 week 14\",\"2021 week 14\",\"2021 week 13\",\"2021 week 13\",\"2021 week 13\",\"2021 week 13\",\"2021 week 13\",\"2021 week 13\",\"2021 week 13\",\"2021 week 13\",\"2021 week 13\",\"2021 week 13\",\"2021 week 13\",\"2021 week 13\",\"2021 week 13\",\"2021 week 13\",\"2021 week 13\",\"2021 week 13\",\"2021 week 13\",\"2021 week 13\",\"2021 week 13\",\"2021 week 13\",\"2021 week 13\",\"2021 week 12\",\"2021 week 12\",\"2021 week 12\",\"2021 week 12\",\"2021 week 12\",\"2021 week 12\",\"2021 week 12\",\"2021 week 12\",\"2021 week 12\",\"2021 week 12\",\"2021 week 12\",\"2021 week 12\",\"2021 week 12\",\"2021 week 12\",\"2021 week 12\",\"2021 week 12\",\"2021 week 12\",\"2021 week 12\",\"2021 week 12\",\"2021 week 12\",\"2021 week 12\",\"2021 week 11\",\"2021 week 11\",\"2021 week 11\",\"2021 week 11\",\"2021 week 11\",\"2021 week 11\",\"2021 week 11\",\"2021 week 11\",\"2021 week 11\",\"2021 week 11\",\"2021 week 11\",\"2021 week 11\",\"2021 week 11\",\"2021 week 11\",\"2021 week 11\",\"2021 week 11\",\"2021 week 11\",\"2021 week 11\",\"2021 week 11\",\"2021 week 11\",\"2021 week 11\",\"2021 week 10\",\"2021 week 10\",\"2021 week 10\",\"2021 week 10\",\"2021 week 10\",\"2021 week 10\",\"2021 week 10\",\"2021 week 10\",\"2021 week 10\",\"2021 week 10\",\"2021 week 10\",\"2021 week 10\",\"2021 week 10\",\"2021 week 10\",\"2021 week 10\",\"2021 week 10\",\"2021 week 10\",\"2021 week 10\",\"2021 week 10\",\"2021 week 10\",\"2021 week 10\",\"2021 week 9\",\"2021 week 9\",\"2021 week 9\",\"2021 week 9\",\"2021 week 9\",\"2021 week 9\",\"2021 week 9\",\"2021 week 9\",\"2021 week 9\",\"2021 week 9\",\"2021 week 9\",\"2021 week 9\",\"2021 week 9\",\"2021 week 9\",\"2021 week 9\",\"2021 week 9\",\"2021 week 9\",\"2021 week 9\",\"2021 week 9\",\"2021 week 9\",\"2021 week 9\",\"2021 week 8\",\"2021 week 8\",\"2021 week 8\",\"2021 week 8\",\"2021 week 8\",\"2021 week 8\",\"2021 week 8\",\"2021 week 8\",\"2021 week 8\",\"2021 week 8\",\"2021 week 8\",\"2021 week 8\",\"2021 week 8\",\"2021 week 8\",\"2021 week 8\",\"2021 week 8\",\"2021 week 8\",\"2021 week 8\",\"2021 week 8\",\"2021 week 8\",\"2021 week 8\",\"2021 week 7\",\"2021 week 7\",\"2021 week 7\",\"2021 week 7\",\"2021 week 7\",\"2021 week 7\",\"2021 week 7\",\"2021 week 7\",\"2021 week 7\",\"2021 week 7\",\"2021 week 7\",\"2021 week 7\",\"2021 week 7\",\"2021 week 7\",\"2021 week 7\",\"2021 week 7\",\"2021 week 7\",\"2021 week 7\",\"2021 week 7\",\"2021 week 7\",\"2021 week 7\",\"2021 week 6\",\"2021 week 6\",\"2021 week 6\",\"2021 week 6\",\"2021 week 6\",\"2021 week 6\",\"2021 week 6\",\"2021 week 6\",\"2021 week 6\",\"2021 week 6\",\"2021 week 6\",\"2021 week 6\",\"2021 week 6\",\"2021 week 6\",\"2021 week 6\",\"2021 week 6\",\"2021 week 6\",\"2021 week 6\",\"2021 week 6\",\"2021 week 6\",\"2021 week 6\",\"2021 week 5\",\"2021 week 5\",\"2021 week 5\",\"2021 week 5\",\"2021 week 5\",\"2021 week 5\",\"2021 week 5\",\"2021 week 5\",\"2021 week 5\",\"2021 week 5\",\"2021 week 5\",\"2021 week 5\",\"2021 week 5\",\"2021 week 5\",\"2021 week 5\",\"2021 week 5\",\"2021 week 5\",\"2021 week 5\",\"2021 week 5\",\"2021 week 5\",\"2021 week 5\",\"2021 week 4\",\"2021 week 4\",\"2021 week 4\",\"2021 week 4\",\"2021 week 4\",\"2021 week 4\",\"2021 week 4\",\"2021 week 4\",\"2021 week 4\",\"2021 week 4\",\"2021 week 4\",\"2021 week 4\",\"2021 week 4\",\"2021 week 4\",\"2021 week 4\",\"2021 week 4\",\"2021 week 4\",\"2021 week 4\",\"2021 week 4\",\"2021 week 4\",\"2021 week 4\",\"2021 week 3\",\"2021 week 3\",\"2021 week 3\",\"2021 week 3\",\"2021 week 3\",\"2021 week 3\",\"2021 week 3\",\"2021 week 3\",\"2021 week 3\",\"2021 week 3\",\"2021 week 3\",\"2021 week 3\",\"2021 week 3\",\"2021 week 3\",\"2021 week 3\",\"2021 week 3\",\"2021 week 3\",\"2021 week 3\",\"2021 week 3\",\"2021 week 3\",\"2021 week 3\",\"2021 week 2\",\"2021 week 2\",\"2021 week 2\",\"2021 week 2\",\"2021 week 2\",\"2021 week 2\",\"2021 week 2\",\"2021 week 2\",\"2021 week 2\",\"2021 week 2\",\"2021 week 2\",\"2021 week 2\",\"2021 week 2\",\"2021 week 2\",\"2021 week 2\",\"2021 week 2\",\"2021 week 2\",\"2021 week 2\",\"2021 week 2\",\"2021 week 2\",\"2021 week 2\",\"2021 week 1\",\"2021 week 1\",\"2021 week 1\",\"2021 week 1\",\"2021 week 1\",\"2021 week 1\",\"2021 week 1\",\"2021 week 1\",\"2021 week 1\",\"2021 week 1\",\"2021 week 1\",\"2021 week 1\",\"2021 week 1\",\"2021 week 1\",\"2021 week 1\",\"2021 week 1\",\"2021 week 1\",\"2021 week 1\",\"2021 week 1\",\"2021 week 1\",\"2021 week 1\",\"2021 week 53\",\"2021 week 53\",\"2021 week 53\",\"2021 week 53\",\"2021 week 53\",\"2021 week 53\",\"2021 week 53\",\"2021 week 53\",\"2021 week 53\",\"2020 week 53\",\"2020 week 53\",\"2020 week 53\",\"2020 week 53\",\"2020 week 53\",\"2020 week 53\",\"2020 week 53\",\"2020 week 53\",\"2020 week 53\",\"2020 week 53\",\"2020 week 53\",\"2020 week 53\",\"2020 week 52\",\"2020 week 52\",\"2020 week 52\",\"2020 week 52\",\"2020 week 52\",\"2020 week 52\",\"2020 week 52\",\"2020 week 52\",\"2020 week 52\",\"2020 week 52\",\"2020 week 52\",\"2020 week 52\",\"2020 week 52\",\"2020 week 52\",\"2020 week 52\",\"2020 week 52\",\"2020 week 52\",\"2020 week 52\",\"2020 week 52\",\"2020 week 52\",\"2020 week 52\",\"2020 week 51\",\"2020 week 51\",\"2020 week 51\",\"2020 week 51\",\"2020 week 51\",\"2020 week 51\",\"2020 week 51\",\"2020 week 51\",\"2020 week 51\",\"2020 week 51\",\"2020 week 51\",\"2020 week 51\",\"2020 week 51\",\"2020 week 51\",\"2020 week 51\",\"2020 week 51\",\"2020 week 51\",\"2020 week 51\",\"2020 week 51\",\"2020 week 51\",\"2020 week 51\",\"2020 week 50\",\"2020 week 50\",\"2020 week 50\"],\"xaxis\":\"x\",\"y\":[35194201,58979500,54459825,58979500,54459825,35194201,58978943,54459390,35193993,54456562,35192643,58975530,35189389,54449356,58967395,35186186,54441609,58959376,54432570,58950810,35182702,35179029,58942124,54423677,54413950,35175108,58932817,54409136,58927419,35173149,35169998,54402095,58919207,54390182,58906928,35164959,35160384,58896645,54379242,54367875,35155628,58887536,35151033,58881657,54356944,35146453,58876164,54345492,54339956,35144306,58873862,58869838,54331522,35140708,35134755,58862950,54317831,35129509,58857158,54305832,54293496,58851232,35124375,35119678,58845487,54281694,54268540,35114325,58839324,54262324,35111596,58836619,58831819,35107301,54253152,58824210,54238429,35100738,54226189,35095672,58818226,58811906,54213168,35090296,58805645,54199600,35084741,58799574,35079321,54186230,35076789,58797243,54179699,58792964,54169821,35072581,54154121,35065984,58785739,58779302,54140323,35060279,35054712,54126512,58772837,35048918,54112165,58766273,58759250,54097086,35042700,35039688,58756341,54089605,54077756,35034355,58750904,54059231,35026371,58741805,54043074,58733950,35019548,58726151,35012667,54026533,54008410,58717550,35005067,58707616,34996089,53987211,53977380,34992124,58703651,58695878,34984541,53961045,53937171,58684267,34973806,53916849,58674021,34964842,34955543,53895487,58663399,58652633,34946126,53873857,58643073,34937641,53854274,53842548,58638118,34932612,34924194,53825209,58629439,58614303,53795776,34910539,53771210,58601970,34899569,58589065,53745822,34888198,58576370,53720175,34877115,58564652,53697024,34866672,53685631,58559668,34861548,58549094,53664534,34851509,58530430,34835038,53628612,53597824,34821463,58514310,58498151,34807797,53567404,53537019,58481444,34794145,58464407,34779463,53505500,34772349,58457262,53489979,53465651,34759953,58444179,53429262,58424323,34742620,53398913,58407493,34728588,34712992,58388599,53366003,58368781,53331099,34696891,34679256,58347533,53292025,34670893,53274429,58338649,53249016,34657787,58324205,53197378,34632860,58294957,58268235,34611446,53151536,53105712,34589997,58241454,58213724,34568038,53059077,58185336,34545454,53010848,34534858,52987861,58173338,58152092,52951603,34516259,34486033,52888974,58116418,58084568,52835301,34460686,34434113,58050385,52780144,52723259,34407275,58015791,52677171,57988095,34385394,34372926,57974638,52651817,52606625,57947101,34349108,34307861,57897060,52525475,34271469,52451523,57850049,34234555,52377328,57802253,34197418,52300782,57754048,57704587,52224412,34159548,57684502,34142670,52190829,52136616,57648958,34113458,34066956,57589957,52047935,51967409,34025188,57534398,57476480,51885803,33982865,33941860,57419797,51806025,51731651,33903584,57367012,57345185,51699451,33887134,51692533,57339068,33882747,33862869,57308910,51658183,51577046,33818743,57244030,33772297,51489168,57176781,51398918,57107965,33725356,51312214,33680439,57041747,57018727,33663770,51278341,51277775,57018368,33663480,51252602,56997537,33650063,33608288,51167827,56934582,33559877,51070474,56860051,33509460,56780836,50970237,33461985,56705552,50874345,56675978,33442107,50833824,56629052,33411990,50778182,56552732,50687007,33363412,50604642,56484254,33320504,50523734,56417667,33278801,56352023,50444363,33238015,56287817,50366789,33198196,33179696,56261301,50331112,56216714,50278678,33150005,50189662,33099981,56138902,56065177,50105829,33054791,33009393,50022073,55991136,49936902,32964103,55915830,32917794,55838296,49851990,32896775,49813222,55806809,55754151,32863235,49756995,55660147,32804728,49654275,32752950,49559464,55573794,32701517,55486914,49464808,55411892,32657259,49386003,49314332,32618080,55344778,55317610,32601037,49282630,55277921,32576838,49240311,49181482,55219652,32542767,32541786,55218219,49179741,49109762,55158965,32504411,49026504,32460725,55085528,55006598,48943928,32416435,32396952,48908687,54974262,48856300,54924231,32366055,54843466,32315879,48766801,48691704,54775604,32275385,48618866,54711323,32236301,54648936,32198622,48549292,48481685,32161766,54589247,32145891,54565588,48452902,48408778,54526634,32119748,54457610,48330086,32075271,54404939,32040529,48267950,48201671,54349038,32004154,54295523,31970407,48138630,54244954,31937847,48077720,31922800,48049594,54223521,48005054,31897922,54186060,54114518,31851608,47922428,47858376,31816371,54057171,31780302,53999678,47790204,31745515,53942963,47724136,47656662,31710018,53885704,31696545,47632266,53862985,31673911,53824730,47594473,47517366,53754479,31630553,53696655,47450607,31594574,47381090,31558142,53637840,47315278,31523557,53581637,47248994,31488649,53524814,53503474,47223699,31475415,47183984,53467838,31453505,47112142,31416039,53411369,31388303,47054815,53372466,53335197,31360991,46998131,46942238,53297990,31334547,46877067,31303377,53257110,53242682,31291780,46850927,46810217,31272265,53217506,53168391,46735355,31235521,46671025,53127774,31204339,46606217,31173784,53087854,53048374,31143989,46542405,31113842,53009699,46479137,31100693,52993932,46452216,52967475,46411630,31080067,46332218,52916269,31040147,31006404,52871968,46263412,30973251,52829928,46194507,30941464,52789302,46127869,46060422,30909185,52748513,46028871,30894708,52732156,52703233,45980296,30870820,52648611,30827266,45893023,45812892,52601780,30789057,30751858,52556334,45735584,52511892,45658731,30715813,52467006,30678793,45580361,30663071,45547544,52449363,30636128,45494990,52417325,45399564,52364454,30590215,52320654,45318336,30552079,52277554,30514079,45236936,45152379,30475085,52233370,30435393,52188697,45066486,30417441,45028485,52170916,44966550,30386402,52137591,52077454,30332745,44855276,30286533,52024880,44755674,30239178,44654669,51972005,51918061,44551898,30191582,44441787,30139609,51859846,30115593,51835424,44390868,44313354,51793195,30075878,51714982,30007248,44172303,51651488,44054584,29952473,51590374,43939376,29898797,43827894,51529956,29846580,29834299,51516458,43802606,51490572,43751611,29809377,51450442,43681992,29772595,43547397,29704761,51372029,51302894,29645530,43422833,51229697,43291833,29581898,51157317,43164159,29518507,29455359,43037614,51084223,42979458,29425611,51053511,42890763,51000470,29377291,29294909,50904546,42733288,29221996,50819075,42591129,50735650,42451212,29149729,50653383,42314271,29078781,50575081,42182386,29009940,42127730,50545857,28981170,42040465,28932428,50492702,50397145,28848472,41888216,41751119,50311946,28775566,41611981,50228462,28702467,28629580,50145328,41474505,41343001,28559354,50064574,41280926,28526198,50030977,41181370,28470173,49970338,49868702,41016292,28379498,40872359,28302089,49779527,28227474,49694203,40735064,49603854,28148220,40590217,49515210,28070245,40451279,28032041,49476419,40382571,27970913,40278901,49409234,49293693,27872284,40108236,39959763,49193533,27787729,27705596,39812827,49095811,39672212,27624973,48998571,27548474,48907318,39539700,39475724,48867842,27511799,39382529,48803746,27456241,39231668,48693304,27366461,27292124,39104740,48602603,27219018,38978046,48512982,38856535,48423939,27147329,38743487,48339738,27080268,27047513,48303754,38689063,26998416,38611327,48243065,48146128,38489094,26922922,26861859,48066937,38388094,26806288,38294795,47994323,38206921,26753195,47925235,26704546,47862597,38126149,38090921,26683604,47838974,38035102,47797120,26649350,47732875,26598385,37949717,26557393,47681073,37877101,26518790,37808687,47632677,26480498,37739225,47585064,37671419,26441632,47537353,47518187,26423789,37640317,47479910,26391122,37586996,47418590,37504739,26342985,26302101,47366158,37431888,37359958,47316514,26262153,26222844,47268030,37292393,26192059,47232773,37240222,37232280,47227285,26187027,37184092,47193331,26157552,26112048,37107470,47135463,47083237,37036141,26070303,26026630,47030384,36959906,25984816,46978758,36885964,46931832,25945424,36817457,46911291,36783017,25925370,36724403,46870907,25890297,46805515,36635190,25837796,36555925,46749142,25792697,46690262,36474528,25746660,25701328,36394700,46632894,36320110,46580376,25659068,46561568,36289524,25641834,46519874,25606708,36230408,25551926,46452541,36136086,36047934,25502975,46391844,35959215,46330918,25453278,46269867,35868622,25403243,35785320,46214192,25355971,46193810,35753378,25336938,25294503,46146174,35683100,35575172,25232153,46070545,35476001,25176156,46000694,35381057,25122893,45935164,45866817,25068267,35281975,45803739,25016453,35190507,24990887,35147794,45777296,45719305,24940301,35063017,34938295,24868878,45632494,45552205,24804884,34826792,24736791,34707153,45467730,24663754,45375516,34576807,45358878,34553142,24649561,45324616,24618712,34499902,45257513,34406507,24561523,45151449,24475244,34262144,45047976,24392124,34116984,24305711,33967319,44940660,24214626,44826234,33809401,33659420,44717760,24127530,44666886,24080720,33582378,33437337,44561465,23989833,23867109,33233794,44408663,33037742,44260649,23750856,23632301,44109614,32839300,43952325,32631922,23509791,32453150,43813775,23402273,32367835,23350025,43752310,43631666,23252633,32214162,43462207,32003970,23122732,23020885,43323879,31835393,31667209,22918602,43183474,31485852,22811422,43032295,42916351,31353169,22729201,22692956,31291718,42871453,42752258,22602157,31146598,42563542,22463731,30919299,22331621,42376915,30702981,42183567,30474929,22192385,41985888,22051028,30245038,21940193,30066936,41829248,21880060,41754357,29970569,21751152,29768018,41590169,29449902,21549682,41322113,29135193,21351476,41054251,21147802,40781002,28814039,40512915,28499107,20948708,40289219,28230575,20780388,28085332,40183354,20690713,20506943,27794892,39952246,20257772,27402374,39628038,39297427,26997397,20002716,26598632,19752509,38975857,26200449,38655848,19504548,19305624,25884156,38399116,19204319,38279040,25720309,38007824,18985105,25377372,37616936,24892719,18680655,37194620,18355591,24377327,23881857,36755051,18045452,36303806,17730430,23378284,35862789,22919074,17434152,17276185,22667874,35651487,35178247,22173465,16958586,21484545,16515107,34497426,16054107,33765451,20775939,15594592,20075584,33022022,15181210,32328270,19455336,31793514,18989579,14864229,18863485,31662906,14776859,31231407,14516275,18512172,17990923,14120790,30550592,29690548,17373170,13651336,28888053,13198322,16783718,12825045,16307016,28190103,27617943,12527285,15934460,27365682,12403882,15777592,26843720,15471365,12159507,15014433,11792935,26044415,11404427,25157652,14546099,24276912,14105149,11029644,23479504,13713518,10697441,22833184,10431458,13402141,13255054,10312905,22571388,22018972,12975310,10081267,12544258,21152151,9728843,12126720,9387592,20234160,9077003,19374082,11746356,8801916,18599135,11410447,11148672,8589917,18004893,8489672,17767776,11021374,8285066,10768994,17255457,10401485,16473126,7983531,7682905,10038121,15631604,7412686,9715593,14901827,14283704,7184291,9438591,9215512,13783664,6998990,13569193,9096562,6906878,8880926,6732795,13136341,6489273,12524573,8586402,8331892,6279097,11972781,11509096,6095948,8113557,11140578,5948424,7937119,10844285,7791693,5825618,5769022,10714649,7723308,10438797,5649009,7583503,7383296,5483007,10056439,9724748,5345825,7219004,9464239,7090009,5238675,5170190,7006002,9292861,9170595,6941294,5117903,5095533,6913409,9118650,6850237,9003751,5043867,4971189,8846048,6756738,8702626,6679104,4908351,8547364,6593998,4839861,6522624,4782262,8415123,4740156,8317441,6471544,6440482,8261648,4714970,6359994,8114686,4648081,7884183,4541663,6228873,7675409,6109558,4445425,4353337,5998492,7479626,4278373,7318094,5907094,4219155,5835092,7191836,5807838,7150837,4197905,4133704,5726486,7019406,5590464,6801887,4026852,3923396,5462018,6585404,5348223,6395692,3830685,3761446,5263084,6250026,6132908,3704391,5192794,5163259,3681272,6085448,5978118,3627561,5095227,4949235,5762924,3516667,3409088,5553299,4811056,4686338,3311646,5363276,3228715,4579767,5201733,3157659,4489566,5066783,3135825,5024555,4460111,3077819,4914043,4383390,2954084,4691566,4219588,2838311,4067890,4480594,3926774,4289103,2731181,2638546,3803244,4122695,4015056,2580075,3725505,3974049,3692098,2556439,3608343,3874493,2497870,3423060,2362443,3648752,3419433,2225449,3237563,2098102,3063290,3207617,2901071,3013812,1979589,1885134,2859842,2769687,1863537,2825334,2737319,1815372,2662876,2748058,1686684,2475926,2538262,2292071,1555557,2322095,2107423,2110516,1425050,1913705,1945995,1306553,1805896,1752654,1206842,1720048,1186444,1775060,1145851,1656291,1716470,1633551,1700206,1133808,1589609,1514501,1057175,1273875,1372063,903331,769724,1182151,1064662,1020182,656126,890250,990573,637452,864256,608861,823609,948078,606548,944203,820128,882885,566054,762023,589562,444352,703017,349856,456530,557669,268438,427791,345458,388456,317361,245076,322476,205085,266512,111657,175828,144154,50213,66118,79346,15363,22774,21605,4888,6085,8688,3876,4592,7362],\"yaxis\":\"y\",\"type\":\"scattergl\"}],                        {\"template\":{\"data\":{\"histogram2dcontour\":[{\"type\":\"histogram2dcontour\",\"colorbar\":{\"outlinewidth\":0,\"ticks\":\"\"},\"colorscale\":[[0.0,\"#0d0887\"],[0.1111111111111111,\"#46039f\"],[0.2222222222222222,\"#7201a8\"],[0.3333333333333333,\"#9c179e\"],[0.4444444444444444,\"#bd3786\"],[0.5555555555555556,\"#d8576b\"],[0.6666666666666666,\"#ed7953\"],[0.7777777777777778,\"#fb9f3a\"],[0.8888888888888888,\"#fdca26\"],[1.0,\"#f0f921\"]]}],\"choropleth\":[{\"type\":\"choropleth\",\"colorbar\":{\"outlinewidth\":0,\"ticks\":\"\"}}],\"histogram2d\":[{\"type\":\"histogram2d\",\"colorbar\":{\"outlinewidth\":0,\"ticks\":\"\"},\"colorscale\":[[0.0,\"#0d0887\"],[0.1111111111111111,\"#46039f\"],[0.2222222222222222,\"#7201a8\"],[0.3333333333333333,\"#9c179e\"],[0.4444444444444444,\"#bd3786\"],[0.5555555555555556,\"#d8576b\"],[0.6666666666666666,\"#ed7953\"],[0.7777777777777778,\"#fb9f3a\"],[0.8888888888888888,\"#fdca26\"],[1.0,\"#f0f921\"]]}],\"heatmap\":[{\"type\":\"heatmap\",\"colorbar\":{\"outlinewidth\":0,\"ticks\":\"\"},\"colorscale\":[[0.0,\"#0d0887\"],[0.1111111111111111,\"#46039f\"],[0.2222222222222222,\"#7201a8\"],[0.3333333333333333,\"#9c179e\"],[0.4444444444444444,\"#bd3786\"],[0.5555555555555556,\"#d8576b\"],[0.6666666666666666,\"#ed7953\"],[0.7777777777777778,\"#fb9f3a\"],[0.8888888888888888,\"#fdca26\"],[1.0,\"#f0f921\"]]}],\"heatmapgl\":[{\"type\":\"heatmapgl\",\"colorbar\":{\"outlinewidth\":0,\"ticks\":\"\"},\"colorscale\":[[0.0,\"#0d0887\"],[0.1111111111111111,\"#46039f\"],[0.2222222222222222,\"#7201a8\"],[0.3333333333333333,\"#9c179e\"],[0.4444444444444444,\"#bd3786\"],[0.5555555555555556,\"#d8576b\"],[0.6666666666666666,\"#ed7953\"],[0.7777777777777778,\"#fb9f3a\"],[0.8888888888888888,\"#fdca26\"],[1.0,\"#f0f921\"]]}],\"contourcarpet\":[{\"type\":\"contourcarpet\",\"colorbar\":{\"outlinewidth\":0,\"ticks\":\"\"}}],\"contour\":[{\"type\":\"contour\",\"colorbar\":{\"outlinewidth\":0,\"ticks\":\"\"},\"colorscale\":[[0.0,\"#0d0887\"],[0.1111111111111111,\"#46039f\"],[0.2222222222222222,\"#7201a8\"],[0.3333333333333333,\"#9c179e\"],[0.4444444444444444,\"#bd3786\"],[0.5555555555555556,\"#d8576b\"],[0.6666666666666666,\"#ed7953\"],[0.7777777777777778,\"#fb9f3a\"],[0.8888888888888888,\"#fdca26\"],[1.0,\"#f0f921\"]]}],\"surface\":[{\"type\":\"surface\",\"colorbar\":{\"outlinewidth\":0,\"ticks\":\"\"},\"colorscale\":[[0.0,\"#0d0887\"],[0.1111111111111111,\"#46039f\"],[0.2222222222222222,\"#7201a8\"],[0.3333333333333333,\"#9c179e\"],[0.4444444444444444,\"#bd3786\"],[0.5555555555555556,\"#d8576b\"],[0.6666666666666666,\"#ed7953\"],[0.7777777777777778,\"#fb9f3a\"],[0.8888888888888888,\"#fdca26\"],[1.0,\"#f0f921\"]]}],\"mesh3d\":[{\"type\":\"mesh3d\",\"colorbar\":{\"outlinewidth\":0,\"ticks\":\"\"}}],\"scatter\":[{\"fillpattern\":{\"fillmode\":\"overlay\",\"size\":10,\"solidity\":0.2},\"type\":\"scatter\"}],\"parcoords\":[{\"type\":\"parcoords\",\"line\":{\"colorbar\":{\"outlinewidth\":0,\"ticks\":\"\"}}}],\"scatterpolargl\":[{\"type\":\"scatterpolargl\",\"marker\":{\"colorbar\":{\"outlinewidth\":0,\"ticks\":\"\"}}}],\"bar\":[{\"error_x\":{\"color\":\"#2a3f5f\"},\"error_y\":{\"color\":\"#2a3f5f\"},\"marker\":{\"line\":{\"color\":\"#E5ECF6\",\"width\":0.5},\"pattern\":{\"fillmode\":\"overlay\",\"size\":10,\"solidity\":0.2}},\"type\":\"bar\"}],\"scattergeo\":[{\"type\":\"scattergeo\",\"marker\":{\"colorbar\":{\"outlinewidth\":0,\"ticks\":\"\"}}}],\"scatterpolar\":[{\"type\":\"scatterpolar\",\"marker\":{\"colorbar\":{\"outlinewidth\":0,\"ticks\":\"\"}}}],\"histogram\":[{\"marker\":{\"pattern\":{\"fillmode\":\"overlay\",\"size\":10,\"solidity\":0.2}},\"type\":\"histogram\"}],\"scattergl\":[{\"type\":\"scattergl\",\"marker\":{\"colorbar\":{\"outlinewidth\":0,\"ticks\":\"\"}}}],\"scatter3d\":[{\"type\":\"scatter3d\",\"line\":{\"colorbar\":{\"outlinewidth\":0,\"ticks\":\"\"}},\"marker\":{\"colorbar\":{\"outlinewidth\":0,\"ticks\":\"\"}}}],\"scattermapbox\":[{\"type\":\"scattermapbox\",\"marker\":{\"colorbar\":{\"outlinewidth\":0,\"ticks\":\"\"}}}],\"scatterternary\":[{\"type\":\"scatterternary\",\"marker\":{\"colorbar\":{\"outlinewidth\":0,\"ticks\":\"\"}}}],\"scattercarpet\":[{\"type\":\"scattercarpet\",\"marker\":{\"colorbar\":{\"outlinewidth\":0,\"ticks\":\"\"}}}],\"carpet\":[{\"aaxis\":{\"endlinecolor\":\"#2a3f5f\",\"gridcolor\":\"white\",\"linecolor\":\"white\",\"minorgridcolor\":\"white\",\"startlinecolor\":\"#2a3f5f\"},\"baxis\":{\"endlinecolor\":\"#2a3f5f\",\"gridcolor\":\"white\",\"linecolor\":\"white\",\"minorgridcolor\":\"white\",\"startlinecolor\":\"#2a3f5f\"},\"type\":\"carpet\"}],\"table\":[{\"cells\":{\"fill\":{\"color\":\"#EBF0F8\"},\"line\":{\"color\":\"white\"}},\"header\":{\"fill\":{\"color\":\"#C8D4E3\"},\"line\":{\"color\":\"white\"}},\"type\":\"table\"}],\"barpolar\":[{\"marker\":{\"line\":{\"color\":\"#E5ECF6\",\"width\":0.5},\"pattern\":{\"fillmode\":\"overlay\",\"size\":10,\"solidity\":0.2}},\"type\":\"barpolar\"}],\"pie\":[{\"automargin\":true,\"type\":\"pie\"}]},\"layout\":{\"autotypenumbers\":\"strict\",\"colorway\":[\"#636efa\",\"#EF553B\",\"#00cc96\",\"#ab63fa\",\"#FFA15A\",\"#19d3f3\",\"#FF6692\",\"#B6E880\",\"#FF97FF\",\"#FECB52\"],\"font\":{\"color\":\"#2a3f5f\"},\"hovermode\":\"closest\",\"hoverlabel\":{\"align\":\"left\"},\"paper_bgcolor\":\"white\",\"plot_bgcolor\":\"#E5ECF6\",\"polar\":{\"bgcolor\":\"#E5ECF6\",\"angularaxis\":{\"gridcolor\":\"white\",\"linecolor\":\"white\",\"ticks\":\"\"},\"radialaxis\":{\"gridcolor\":\"white\",\"linecolor\":\"white\",\"ticks\":\"\"}},\"ternary\":{\"bgcolor\":\"#E5ECF6\",\"aaxis\":{\"gridcolor\":\"white\",\"linecolor\":\"white\",\"ticks\":\"\"},\"baxis\":{\"gridcolor\":\"white\",\"linecolor\":\"white\",\"ticks\":\"\"},\"caxis\":{\"gridcolor\":\"white\",\"linecolor\":\"white\",\"ticks\":\"\"}},\"coloraxis\":{\"colorbar\":{\"outlinewidth\":0,\"ticks\":\"\"}},\"colorscale\":{\"sequential\":[[0.0,\"#0d0887\"],[0.1111111111111111,\"#46039f\"],[0.2222222222222222,\"#7201a8\"],[0.3333333333333333,\"#9c179e\"],[0.4444444444444444,\"#bd3786\"],[0.5555555555555556,\"#d8576b\"],[0.6666666666666666,\"#ed7953\"],[0.7777777777777778,\"#fb9f3a\"],[0.8888888888888888,\"#fdca26\"],[1.0,\"#f0f921\"]],\"sequentialminus\":[[0.0,\"#0d0887\"],[0.1111111111111111,\"#46039f\"],[0.2222222222222222,\"#7201a8\"],[0.3333333333333333,\"#9c179e\"],[0.4444444444444444,\"#bd3786\"],[0.5555555555555556,\"#d8576b\"],[0.6666666666666666,\"#ed7953\"],[0.7777777777777778,\"#fb9f3a\"],[0.8888888888888888,\"#fdca26\"],[1.0,\"#f0f921\"]],\"diverging\":[[0,\"#8e0152\"],[0.1,\"#c51b7d\"],[0.2,\"#de77ae\"],[0.3,\"#f1b6da\"],[0.4,\"#fde0ef\"],[0.5,\"#f7f7f7\"],[0.6,\"#e6f5d0\"],[0.7,\"#b8e186\"],[0.8,\"#7fbc41\"],[0.9,\"#4d9221\"],[1,\"#276419\"]]},\"xaxis\":{\"gridcolor\":\"white\",\"linecolor\":\"white\",\"ticks\":\"\",\"title\":{\"standoff\":15},\"zerolinecolor\":\"white\",\"automargin\":true,\"zerolinewidth\":2},\"yaxis\":{\"gridcolor\":\"white\",\"linecolor\":\"white\",\"ticks\":\"\",\"title\":{\"standoff\":15},\"zerolinecolor\":\"white\",\"automargin\":true,\"zerolinewidth\":2},\"scene\":{\"xaxis\":{\"backgroundcolor\":\"#E5ECF6\",\"gridcolor\":\"white\",\"linecolor\":\"white\",\"showbackground\":true,\"ticks\":\"\",\"zerolinecolor\":\"white\",\"gridwidth\":2},\"yaxis\":{\"backgroundcolor\":\"#E5ECF6\",\"gridcolor\":\"white\",\"linecolor\":\"white\",\"showbackground\":true,\"ticks\":\"\",\"zerolinecolor\":\"white\",\"gridwidth\":2},\"zaxis\":{\"backgroundcolor\":\"#E5ECF6\",\"gridcolor\":\"white\",\"linecolor\":\"white\",\"showbackground\":true,\"ticks\":\"\",\"zerolinecolor\":\"white\",\"gridwidth\":2}},\"shapedefaults\":{\"line\":{\"color\":\"#2a3f5f\"}},\"annotationdefaults\":{\"arrowcolor\":\"#2a3f5f\",\"arrowhead\":0,\"arrowwidth\":1},\"geo\":{\"bgcolor\":\"white\",\"landcolor\":\"#E5ECF6\",\"subunitcolor\":\"white\",\"showland\":true,\"showlakes\":true,\"lakecolor\":\"white\"},\"title\":{\"x\":0.05},\"mapbox\":{\"style\":\"light\"}}},\"xaxis\":{\"anchor\":\"y\",\"domain\":[0.0,1.0],\"title\":{\"text\":\"date\"}},\"yaxis\":{\"anchor\":\"x\",\"domain\":[0.0,1.0],\"title\":{\"text\":\"administered_dose1\"}},\"legend\":{\"tracegroupgap\":0},\"margin\":{\"t\":60},\"title\":{\"text\":\"USA Administered Dose\"}},                        {\"responsive\": true}                    ).then(function(){\n                            \nvar gd = document.getElementById('f8879d47-96dd-40f6-9276-6727c82d1ab8');\nvar x = new MutationObserver(function (mutations, observer) {{\n        var display = window.getComputedStyle(gd).display;\n        if (!display || display === 'none') {{\n            console.log([gd, 'removed!']);\n            Plotly.purge(gd);\n            observer.disconnect();\n        }}\n}});\n\n// Listen for the removal of the full notebook cells\nvar notebookContainer = gd.closest('#notebook-container');\nif (notebookContainer) {{\n    x.observe(notebookContainer, {childList: true});\n}}\n\n// Listen for the clearing of the current output cell\nvar outputEl = gd.closest('.output');\nif (outputEl) {{\n    x.observe(outputEl, {childList: true});\n}}\n\n                        })                };                });            </script>        </div>"
     },
     "metadata": {},
     "output_type": "display_data"
    }
   ],
   "source": [
    "import plotly.express as px\n",
    "\n",
    "fig = px.line(dfv, x=\"date\", y=\"administered_dose1\")\n",
    "fig.update_layout(title_text=\"USA Administered Dose\")\n",
    "fig.show()"
   ],
   "metadata": {
    "collapsed": false,
    "pycharm": {
     "name": "#%%\n"
    }
   }
  },
  {
   "cell_type": "code",
   "execution_count": null,
   "outputs": [],
   "source": [],
   "metadata": {
    "collapsed": false,
    "pycharm": {
     "name": "#%%\n"
    }
   }
  },
  {
   "cell_type": "code",
   "execution_count": null,
   "outputs": [],
   "source": [],
   "metadata": {
    "collapsed": false,
    "pycharm": {
     "name": "#%%\n"
    }
   }
  },
  {
   "cell_type": "markdown",
   "source": [
    "### All-Cause Mortality United States: 25-65 years (USA)\n",
    "<p>https://www.usmortality.com/#unitedstates<p>"
   ],
   "metadata": {
    "collapsed": false,
    "pycharm": {
     "name": "#%% md\n"
    }
   }
  },
  {
   "cell_type": "code",
   "execution_count": 141,
   "outputs": [],
   "source": [
    "# import dataset via csv file\n",
    "df1 = pd.read_csv('data/usmortality_com-United States_25_44.csv')\n",
    "df2 = pd.read_csv('data/usmortality_com-United States_45_64.csv')"
   ],
   "metadata": {
    "collapsed": false,
    "pycharm": {
     "name": "#%%\n"
    }
   }
  },
  {
   "cell_type": "code",
   "execution_count": 148,
   "outputs": [],
   "source": [
    "dfm = pd.concat([df1, df2]).reset_index(drop=True)"
   ],
   "metadata": {
    "collapsed": false,
    "pycharm": {
     "name": "#%%\n"
    }
   }
  },
  {
   "cell_type": "code",
   "execution_count": 150,
   "outputs": [
    {
     "data": {
      "text/plain": "(234, 12)"
     },
     "execution_count": 150,
     "metadata": {},
     "output_type": "execute_result"
    }
   ],
   "source": [
    "dfm.shape"
   ],
   "metadata": {
    "collapsed": false,
    "pycharm": {
     "name": "#%%\n"
    }
   }
  },
  {
   "cell_type": "code",
   "execution_count": 149,
   "outputs": [
    {
     "data": {
      "text/plain": "          date          state  baseline  normalLower  normalUpper  treshold  \\\n0  2020 week 1  United States      2785         2413         3157      3529   \n1  2020 week 2  United States      2689         2337         3041      3393   \n2  2020 week 3  United States      2654         2326         2982      3310   \n3  2020 week 4  United States      2624         2302         2946      3268   \n4  2020 week 5  United States      2660         2480         2840      3020   \n\n   deaths    zscore  deathsReported  deathsCovid  deathsNonCovid dateByMonth  \n0    3034  1.338710             NaN            0               0      1/2020  \n1    2920  1.312500             NaN            0               0      1/2020  \n2    2858  1.243902             NaN            0               0      1/2020  \n3    2855  1.434783             NaN            0               0      1/2020  \n4    2799  1.544444             NaN            0               0      1/2020  ",
      "text/html": "<div>\n<style scoped>\n    .dataframe tbody tr th:only-of-type {\n        vertical-align: middle;\n    }\n\n    .dataframe tbody tr th {\n        vertical-align: top;\n    }\n\n    .dataframe thead th {\n        text-align: right;\n    }\n</style>\n<table border=\"1\" class=\"dataframe\">\n  <thead>\n    <tr style=\"text-align: right;\">\n      <th></th>\n      <th>date</th>\n      <th>state</th>\n      <th>baseline</th>\n      <th>normalLower</th>\n      <th>normalUpper</th>\n      <th>treshold</th>\n      <th>deaths</th>\n      <th>zscore</th>\n      <th>deathsReported</th>\n      <th>deathsCovid</th>\n      <th>deathsNonCovid</th>\n      <th>dateByMonth</th>\n    </tr>\n  </thead>\n  <tbody>\n    <tr>\n      <th>0</th>\n      <td>2020 week 1</td>\n      <td>United States</td>\n      <td>2785</td>\n      <td>2413</td>\n      <td>3157</td>\n      <td>3529</td>\n      <td>3034</td>\n      <td>1.338710</td>\n      <td>NaN</td>\n      <td>0</td>\n      <td>0</td>\n      <td>1/2020</td>\n    </tr>\n    <tr>\n      <th>1</th>\n      <td>2020 week 2</td>\n      <td>United States</td>\n      <td>2689</td>\n      <td>2337</td>\n      <td>3041</td>\n      <td>3393</td>\n      <td>2920</td>\n      <td>1.312500</td>\n      <td>NaN</td>\n      <td>0</td>\n      <td>0</td>\n      <td>1/2020</td>\n    </tr>\n    <tr>\n      <th>2</th>\n      <td>2020 week 3</td>\n      <td>United States</td>\n      <td>2654</td>\n      <td>2326</td>\n      <td>2982</td>\n      <td>3310</td>\n      <td>2858</td>\n      <td>1.243902</td>\n      <td>NaN</td>\n      <td>0</td>\n      <td>0</td>\n      <td>1/2020</td>\n    </tr>\n    <tr>\n      <th>3</th>\n      <td>2020 week 4</td>\n      <td>United States</td>\n      <td>2624</td>\n      <td>2302</td>\n      <td>2946</td>\n      <td>3268</td>\n      <td>2855</td>\n      <td>1.434783</td>\n      <td>NaN</td>\n      <td>0</td>\n      <td>0</td>\n      <td>1/2020</td>\n    </tr>\n    <tr>\n      <th>4</th>\n      <td>2020 week 5</td>\n      <td>United States</td>\n      <td>2660</td>\n      <td>2480</td>\n      <td>2840</td>\n      <td>3020</td>\n      <td>2799</td>\n      <td>1.544444</td>\n      <td>NaN</td>\n      <td>0</td>\n      <td>0</td>\n      <td>1/2020</td>\n    </tr>\n  </tbody>\n</table>\n</div>"
     },
     "execution_count": 149,
     "metadata": {},
     "output_type": "execute_result"
    }
   ],
   "source": [
    "dfm.head()"
   ],
   "metadata": {
    "collapsed": false,
    "pycharm": {
     "name": "#%%\n"
    }
   }
  },
  {
   "cell_type": "code",
   "execution_count": 152,
   "outputs": [
    {
     "data": {
      "application/vnd.plotly.v1+json": {
       "data": [
        {
         "hovertemplate": "date=%{x}<br>deaths=%{y}<extra></extra>",
         "legendgroup": "",
         "line": {
          "color": "#636efa",
          "dash": "solid"
         },
         "marker": {
          "symbol": "circle"
         },
         "mode": "lines",
         "name": "",
         "orientation": "v",
         "showlegend": false,
         "x": [
          "2020 week 1",
          "2020 week 2",
          "2020 week 3",
          "2020 week 4",
          "2020 week 5",
          "2020 week 6",
          "2020 week 7",
          "2020 week 8",
          "2020 week 9",
          "2020 week 10",
          "2020 week 11",
          "2020 week 12",
          "2020 week 13",
          "2020 week 14",
          "2020 week 15",
          "2020 week 16",
          "2020 week 17",
          "2020 week 18",
          "2020 week 19",
          "2020 week 20",
          "2020 week 21",
          "2020 week 22",
          "2020 week 23",
          "2020 week 24",
          "2020 week 25",
          "2020 week 26",
          "2020 week 27",
          "2020 week 28",
          "2020 week 29",
          "2020 week 30",
          "2020 week 31",
          "2020 week 32",
          "2020 week 33",
          "2020 week 34",
          "2020 week 35",
          "2020 week 36",
          "2020 week 37",
          "2020 week 38",
          "2020 week 39",
          "2020 week 40",
          "2020 week 41",
          "2020 week 42",
          "2020 week 43",
          "2020 week 44",
          "2020 week 45",
          "2020 week 46",
          "2020 week 47",
          "2020 week 48",
          "2020 week 49",
          "2020 week 50",
          "2020 week 51",
          "2020 week 52",
          "2020 week 53",
          "2021 week 1",
          "2021 week 2",
          "2021 week 3",
          "2021 week 4",
          "2021 week 5",
          "2021 week 6",
          "2021 week 7",
          "2021 week 8",
          "2021 week 9",
          "2021 week 10",
          "2021 week 11",
          "2021 week 12",
          "2021 week 13",
          "2021 week 14",
          "2021 week 15",
          "2021 week 16",
          "2021 week 17",
          "2021 week 18",
          "2021 week 19",
          "2021 week 20",
          "2021 week 21",
          "2021 week 22",
          "2021 week 23",
          "2021 week 24",
          "2021 week 25",
          "2021 week 26",
          "2021 week 27",
          "2021 week 28",
          "2021 week 29",
          "2021 week 30",
          "2021 week 31",
          "2021 week 32",
          "2021 week 33",
          "2021 week 34",
          "2021 week 35",
          "2021 week 36",
          "2021 week 37",
          "2021 week 38",
          "2021 week 39",
          "2021 week 40",
          "2021 week 41",
          "2021 week 42",
          "2021 week 43",
          "2021 week 44",
          "2021 week 45",
          "2021 week 46",
          "2021 week 47",
          "2021 week 48",
          "2021 week 49",
          "2021 week 50",
          "2021 week 51",
          "2021 week 52",
          "2022 week 1",
          "2022 week 2",
          "2022 week 3",
          "2022 week 4",
          "2022 week 5",
          "2022 week 6",
          "2022 week 7",
          "2022 week 8",
          "2022 week 9",
          "2022 week 10",
          "2022 week 11",
          "2022 week 12",
          "2020 week 1",
          "2020 week 2",
          "2020 week 3",
          "2020 week 4",
          "2020 week 5",
          "2020 week 6",
          "2020 week 7",
          "2020 week 8",
          "2020 week 9",
          "2020 week 10",
          "2020 week 11",
          "2020 week 12",
          "2020 week 13",
          "2020 week 14",
          "2020 week 15",
          "2020 week 16",
          "2020 week 17",
          "2020 week 18",
          "2020 week 19",
          "2020 week 20",
          "2020 week 21",
          "2020 week 22",
          "2020 week 23",
          "2020 week 24",
          "2020 week 25",
          "2020 week 26",
          "2020 week 27",
          "2020 week 28",
          "2020 week 29",
          "2020 week 30",
          "2020 week 31",
          "2020 week 32",
          "2020 week 33",
          "2020 week 34",
          "2020 week 35",
          "2020 week 36",
          "2020 week 37",
          "2020 week 38",
          "2020 week 39",
          "2020 week 40",
          "2020 week 41",
          "2020 week 42",
          "2020 week 43",
          "2020 week 44",
          "2020 week 45",
          "2020 week 46",
          "2020 week 47",
          "2020 week 48",
          "2020 week 49",
          "2020 week 50",
          "2020 week 51",
          "2020 week 52",
          "2020 week 53",
          "2021 week 1",
          "2021 week 2",
          "2021 week 3",
          "2021 week 4",
          "2021 week 5",
          "2021 week 6",
          "2021 week 7",
          "2021 week 8",
          "2021 week 9",
          "2021 week 10",
          "2021 week 11",
          "2021 week 12",
          "2021 week 13",
          "2021 week 14",
          "2021 week 15",
          "2021 week 16",
          "2021 week 17",
          "2021 week 18",
          "2021 week 19",
          "2021 week 20",
          "2021 week 21",
          "2021 week 22",
          "2021 week 23",
          "2021 week 24",
          "2021 week 25",
          "2021 week 26",
          "2021 week 27",
          "2021 week 28",
          "2021 week 29",
          "2021 week 30",
          "2021 week 31",
          "2021 week 32",
          "2021 week 33",
          "2021 week 34",
          "2021 week 35",
          "2021 week 36",
          "2021 week 37",
          "2021 week 38",
          "2021 week 39",
          "2021 week 40",
          "2021 week 41",
          "2021 week 42",
          "2021 week 43",
          "2021 week 44",
          "2021 week 45",
          "2021 week 46",
          "2021 week 47",
          "2021 week 48",
          "2021 week 49",
          "2021 week 50",
          "2021 week 51",
          "2021 week 52",
          "2022 week 1",
          "2022 week 2",
          "2022 week 3",
          "2022 week 4",
          "2022 week 5",
          "2022 week 6",
          "2022 week 7",
          "2022 week 8",
          "2022 week 9",
          "2022 week 10",
          "2022 week 11",
          "2022 week 12"
         ],
         "xaxis": "x",
         "y": [
          3034,
          2920,
          2858,
          2855,
          2799,
          2862,
          2855,
          2916,
          2927,
          3021,
          2929,
          3021,
          3173,
          3448,
          3681,
          3456,
          3510,
          3596,
          3553,
          3533,
          3591,
          3572,
          3644,
          3446,
          3543,
          3583,
          3670,
          3766,
          3929,
          3850,
          3791,
          3676,
          3711,
          3564,
          3579,
          3612,
          3445,
          3345,
          3428,
          3349,
          3511,
          3299,
          3270,
          3403,
          3650,
          3445,
          3543,
          3581,
          3539,
          3644,
          3695,
          3742,
          4059,
          4089,
          4046,
          3845,
          3678,
          3841,
          3688,
          3421,
          3500,
          3542,
          3494,
          3637,
          3607,
          3654,
          3803,
          3635,
          3690,
          3557,
          3768,
          3635,
          3682,
          3676,
          3681,
          3854,
          3844,
          3639,
          3720,
          3763,
          3739,
          3826,
          4062,
          4419,
          4616,
          4740,
          4907,
          5061,
          5046,
          4899,
          4966,
          4627,
          4380,
          4295,
          4119,
          4044,
          4046,
          3946,
          3862,
          3997,
          3821,
          4076,
          3990,
          4050,
          4327,
          4272,
          4195,
          4044,
          3839,
          3822,
          3884,
          3694,
          3462,
          3442,
          3796,
          3814,
          3811,
          11223,
          11128,
          10957,
          10878,
          10832,
          11084,
          10838,
          10880,
          11008,
          11062,
          10799,
          10909,
          11576,
          13600,
          14410,
          13622,
          13280,
          12461,
          12634,
          12035,
          11870,
          11397,
          11677,
          11530,
          11447,
          11484,
          12075,
          12569,
          12438,
          12595,
          12644,
          12711,
          12394,
          12068,
          11812,
          11734,
          11691,
          11392,
          11429,
          11292,
          11790,
          11306,
          11614,
          11640,
          12241,
          12500,
          12668,
          12792,
          13578,
          14473,
          14590,
          15223,
          15474,
          15820,
          15853,
          15233,
          14698,
          14266,
          13848,
          13409,
          12770,
          12515,
          12018,
          11806,
          12080,
          11454,
          12231,
          12084,
          12186,
          12064,
          12018,
          11922,
          11716,
          11478,
          11628,
          11554,
          11531,
          11171,
          11543,
          11517,
          11373,
          11493,
          12259,
          13300,
          14196,
          15143,
          15946,
          16479,
          16599,
          16205,
          15731,
          15482,
          14701,
          14174,
          13616,
          13263,
          13239,
          13144,
          13063,
          13185,
          13891,
          14342,
          14219,
          14184,
          14653,
          15536,
          15971,
          15612,
          15309,
          14913,
          14208,
          12852,
          11976,
          11752,
          11990,
          11892,
          11993
         ],
         "yaxis": "y",
         "type": "scatter"
        }
       ],
       "layout": {
        "template": {
         "data": {
          "histogram2dcontour": [
           {
            "type": "histogram2dcontour",
            "colorbar": {
             "outlinewidth": 0,
             "ticks": ""
            },
            "colorscale": [
             [
              0.0,
              "#0d0887"
             ],
             [
              0.1111111111111111,
              "#46039f"
             ],
             [
              0.2222222222222222,
              "#7201a8"
             ],
             [
              0.3333333333333333,
              "#9c179e"
             ],
             [
              0.4444444444444444,
              "#bd3786"
             ],
             [
              0.5555555555555556,
              "#d8576b"
             ],
             [
              0.6666666666666666,
              "#ed7953"
             ],
             [
              0.7777777777777778,
              "#fb9f3a"
             ],
             [
              0.8888888888888888,
              "#fdca26"
             ],
             [
              1.0,
              "#f0f921"
             ]
            ]
           }
          ],
          "choropleth": [
           {
            "type": "choropleth",
            "colorbar": {
             "outlinewidth": 0,
             "ticks": ""
            }
           }
          ],
          "histogram2d": [
           {
            "type": "histogram2d",
            "colorbar": {
             "outlinewidth": 0,
             "ticks": ""
            },
            "colorscale": [
             [
              0.0,
              "#0d0887"
             ],
             [
              0.1111111111111111,
              "#46039f"
             ],
             [
              0.2222222222222222,
              "#7201a8"
             ],
             [
              0.3333333333333333,
              "#9c179e"
             ],
             [
              0.4444444444444444,
              "#bd3786"
             ],
             [
              0.5555555555555556,
              "#d8576b"
             ],
             [
              0.6666666666666666,
              "#ed7953"
             ],
             [
              0.7777777777777778,
              "#fb9f3a"
             ],
             [
              0.8888888888888888,
              "#fdca26"
             ],
             [
              1.0,
              "#f0f921"
             ]
            ]
           }
          ],
          "heatmap": [
           {
            "type": "heatmap",
            "colorbar": {
             "outlinewidth": 0,
             "ticks": ""
            },
            "colorscale": [
             [
              0.0,
              "#0d0887"
             ],
             [
              0.1111111111111111,
              "#46039f"
             ],
             [
              0.2222222222222222,
              "#7201a8"
             ],
             [
              0.3333333333333333,
              "#9c179e"
             ],
             [
              0.4444444444444444,
              "#bd3786"
             ],
             [
              0.5555555555555556,
              "#d8576b"
             ],
             [
              0.6666666666666666,
              "#ed7953"
             ],
             [
              0.7777777777777778,
              "#fb9f3a"
             ],
             [
              0.8888888888888888,
              "#fdca26"
             ],
             [
              1.0,
              "#f0f921"
             ]
            ]
           }
          ],
          "heatmapgl": [
           {
            "type": "heatmapgl",
            "colorbar": {
             "outlinewidth": 0,
             "ticks": ""
            },
            "colorscale": [
             [
              0.0,
              "#0d0887"
             ],
             [
              0.1111111111111111,
              "#46039f"
             ],
             [
              0.2222222222222222,
              "#7201a8"
             ],
             [
              0.3333333333333333,
              "#9c179e"
             ],
             [
              0.4444444444444444,
              "#bd3786"
             ],
             [
              0.5555555555555556,
              "#d8576b"
             ],
             [
              0.6666666666666666,
              "#ed7953"
             ],
             [
              0.7777777777777778,
              "#fb9f3a"
             ],
             [
              0.8888888888888888,
              "#fdca26"
             ],
             [
              1.0,
              "#f0f921"
             ]
            ]
           }
          ],
          "contourcarpet": [
           {
            "type": "contourcarpet",
            "colorbar": {
             "outlinewidth": 0,
             "ticks": ""
            }
           }
          ],
          "contour": [
           {
            "type": "contour",
            "colorbar": {
             "outlinewidth": 0,
             "ticks": ""
            },
            "colorscale": [
             [
              0.0,
              "#0d0887"
             ],
             [
              0.1111111111111111,
              "#46039f"
             ],
             [
              0.2222222222222222,
              "#7201a8"
             ],
             [
              0.3333333333333333,
              "#9c179e"
             ],
             [
              0.4444444444444444,
              "#bd3786"
             ],
             [
              0.5555555555555556,
              "#d8576b"
             ],
             [
              0.6666666666666666,
              "#ed7953"
             ],
             [
              0.7777777777777778,
              "#fb9f3a"
             ],
             [
              0.8888888888888888,
              "#fdca26"
             ],
             [
              1.0,
              "#f0f921"
             ]
            ]
           }
          ],
          "surface": [
           {
            "type": "surface",
            "colorbar": {
             "outlinewidth": 0,
             "ticks": ""
            },
            "colorscale": [
             [
              0.0,
              "#0d0887"
             ],
             [
              0.1111111111111111,
              "#46039f"
             ],
             [
              0.2222222222222222,
              "#7201a8"
             ],
             [
              0.3333333333333333,
              "#9c179e"
             ],
             [
              0.4444444444444444,
              "#bd3786"
             ],
             [
              0.5555555555555556,
              "#d8576b"
             ],
             [
              0.6666666666666666,
              "#ed7953"
             ],
             [
              0.7777777777777778,
              "#fb9f3a"
             ],
             [
              0.8888888888888888,
              "#fdca26"
             ],
             [
              1.0,
              "#f0f921"
             ]
            ]
           }
          ],
          "mesh3d": [
           {
            "type": "mesh3d",
            "colorbar": {
             "outlinewidth": 0,
             "ticks": ""
            }
           }
          ],
          "scatter": [
           {
            "fillpattern": {
             "fillmode": "overlay",
             "size": 10,
             "solidity": 0.2
            },
            "type": "scatter"
           }
          ],
          "parcoords": [
           {
            "type": "parcoords",
            "line": {
             "colorbar": {
              "outlinewidth": 0,
              "ticks": ""
             }
            }
           }
          ],
          "scatterpolargl": [
           {
            "type": "scatterpolargl",
            "marker": {
             "colorbar": {
              "outlinewidth": 0,
              "ticks": ""
             }
            }
           }
          ],
          "bar": [
           {
            "error_x": {
             "color": "#2a3f5f"
            },
            "error_y": {
             "color": "#2a3f5f"
            },
            "marker": {
             "line": {
              "color": "#E5ECF6",
              "width": 0.5
             },
             "pattern": {
              "fillmode": "overlay",
              "size": 10,
              "solidity": 0.2
             }
            },
            "type": "bar"
           }
          ],
          "scattergeo": [
           {
            "type": "scattergeo",
            "marker": {
             "colorbar": {
              "outlinewidth": 0,
              "ticks": ""
             }
            }
           }
          ],
          "scatterpolar": [
           {
            "type": "scatterpolar",
            "marker": {
             "colorbar": {
              "outlinewidth": 0,
              "ticks": ""
             }
            }
           }
          ],
          "histogram": [
           {
            "marker": {
             "pattern": {
              "fillmode": "overlay",
              "size": 10,
              "solidity": 0.2
             }
            },
            "type": "histogram"
           }
          ],
          "scattergl": [
           {
            "type": "scattergl",
            "marker": {
             "colorbar": {
              "outlinewidth": 0,
              "ticks": ""
             }
            }
           }
          ],
          "scatter3d": [
           {
            "type": "scatter3d",
            "line": {
             "colorbar": {
              "outlinewidth": 0,
              "ticks": ""
             }
            },
            "marker": {
             "colorbar": {
              "outlinewidth": 0,
              "ticks": ""
             }
            }
           }
          ],
          "scattermapbox": [
           {
            "type": "scattermapbox",
            "marker": {
             "colorbar": {
              "outlinewidth": 0,
              "ticks": ""
             }
            }
           }
          ],
          "scatterternary": [
           {
            "type": "scatterternary",
            "marker": {
             "colorbar": {
              "outlinewidth": 0,
              "ticks": ""
             }
            }
           }
          ],
          "scattercarpet": [
           {
            "type": "scattercarpet",
            "marker": {
             "colorbar": {
              "outlinewidth": 0,
              "ticks": ""
             }
            }
           }
          ],
          "carpet": [
           {
            "aaxis": {
             "endlinecolor": "#2a3f5f",
             "gridcolor": "white",
             "linecolor": "white",
             "minorgridcolor": "white",
             "startlinecolor": "#2a3f5f"
            },
            "baxis": {
             "endlinecolor": "#2a3f5f",
             "gridcolor": "white",
             "linecolor": "white",
             "minorgridcolor": "white",
             "startlinecolor": "#2a3f5f"
            },
            "type": "carpet"
           }
          ],
          "table": [
           {
            "cells": {
             "fill": {
              "color": "#EBF0F8"
             },
             "line": {
              "color": "white"
             }
            },
            "header": {
             "fill": {
              "color": "#C8D4E3"
             },
             "line": {
              "color": "white"
             }
            },
            "type": "table"
           }
          ],
          "barpolar": [
           {
            "marker": {
             "line": {
              "color": "#E5ECF6",
              "width": 0.5
             },
             "pattern": {
              "fillmode": "overlay",
              "size": 10,
              "solidity": 0.2
             }
            },
            "type": "barpolar"
           }
          ],
          "pie": [
           {
            "automargin": true,
            "type": "pie"
           }
          ]
         },
         "layout": {
          "autotypenumbers": "strict",
          "colorway": [
           "#636efa",
           "#EF553B",
           "#00cc96",
           "#ab63fa",
           "#FFA15A",
           "#19d3f3",
           "#FF6692",
           "#B6E880",
           "#FF97FF",
           "#FECB52"
          ],
          "font": {
           "color": "#2a3f5f"
          },
          "hovermode": "closest",
          "hoverlabel": {
           "align": "left"
          },
          "paper_bgcolor": "white",
          "plot_bgcolor": "#E5ECF6",
          "polar": {
           "bgcolor": "#E5ECF6",
           "angularaxis": {
            "gridcolor": "white",
            "linecolor": "white",
            "ticks": ""
           },
           "radialaxis": {
            "gridcolor": "white",
            "linecolor": "white",
            "ticks": ""
           }
          },
          "ternary": {
           "bgcolor": "#E5ECF6",
           "aaxis": {
            "gridcolor": "white",
            "linecolor": "white",
            "ticks": ""
           },
           "baxis": {
            "gridcolor": "white",
            "linecolor": "white",
            "ticks": ""
           },
           "caxis": {
            "gridcolor": "white",
            "linecolor": "white",
            "ticks": ""
           }
          },
          "coloraxis": {
           "colorbar": {
            "outlinewidth": 0,
            "ticks": ""
           }
          },
          "colorscale": {
           "sequential": [
            [
             0.0,
             "#0d0887"
            ],
            [
             0.1111111111111111,
             "#46039f"
            ],
            [
             0.2222222222222222,
             "#7201a8"
            ],
            [
             0.3333333333333333,
             "#9c179e"
            ],
            [
             0.4444444444444444,
             "#bd3786"
            ],
            [
             0.5555555555555556,
             "#d8576b"
            ],
            [
             0.6666666666666666,
             "#ed7953"
            ],
            [
             0.7777777777777778,
             "#fb9f3a"
            ],
            [
             0.8888888888888888,
             "#fdca26"
            ],
            [
             1.0,
             "#f0f921"
            ]
           ],
           "sequentialminus": [
            [
             0.0,
             "#0d0887"
            ],
            [
             0.1111111111111111,
             "#46039f"
            ],
            [
             0.2222222222222222,
             "#7201a8"
            ],
            [
             0.3333333333333333,
             "#9c179e"
            ],
            [
             0.4444444444444444,
             "#bd3786"
            ],
            [
             0.5555555555555556,
             "#d8576b"
            ],
            [
             0.6666666666666666,
             "#ed7953"
            ],
            [
             0.7777777777777778,
             "#fb9f3a"
            ],
            [
             0.8888888888888888,
             "#fdca26"
            ],
            [
             1.0,
             "#f0f921"
            ]
           ],
           "diverging": [
            [
             0,
             "#8e0152"
            ],
            [
             0.1,
             "#c51b7d"
            ],
            [
             0.2,
             "#de77ae"
            ],
            [
             0.3,
             "#f1b6da"
            ],
            [
             0.4,
             "#fde0ef"
            ],
            [
             0.5,
             "#f7f7f7"
            ],
            [
             0.6,
             "#e6f5d0"
            ],
            [
             0.7,
             "#b8e186"
            ],
            [
             0.8,
             "#7fbc41"
            ],
            [
             0.9,
             "#4d9221"
            ],
            [
             1,
             "#276419"
            ]
           ]
          },
          "xaxis": {
           "gridcolor": "white",
           "linecolor": "white",
           "ticks": "",
           "title": {
            "standoff": 15
           },
           "zerolinecolor": "white",
           "automargin": true,
           "zerolinewidth": 2
          },
          "yaxis": {
           "gridcolor": "white",
           "linecolor": "white",
           "ticks": "",
           "title": {
            "standoff": 15
           },
           "zerolinecolor": "white",
           "automargin": true,
           "zerolinewidth": 2
          },
          "scene": {
           "xaxis": {
            "backgroundcolor": "#E5ECF6",
            "gridcolor": "white",
            "linecolor": "white",
            "showbackground": true,
            "ticks": "",
            "zerolinecolor": "white",
            "gridwidth": 2
           },
           "yaxis": {
            "backgroundcolor": "#E5ECF6",
            "gridcolor": "white",
            "linecolor": "white",
            "showbackground": true,
            "ticks": "",
            "zerolinecolor": "white",
            "gridwidth": 2
           },
           "zaxis": {
            "backgroundcolor": "#E5ECF6",
            "gridcolor": "white",
            "linecolor": "white",
            "showbackground": true,
            "ticks": "",
            "zerolinecolor": "white",
            "gridwidth": 2
           }
          },
          "shapedefaults": {
           "line": {
            "color": "#2a3f5f"
           }
          },
          "annotationdefaults": {
           "arrowcolor": "#2a3f5f",
           "arrowhead": 0,
           "arrowwidth": 1
          },
          "geo": {
           "bgcolor": "white",
           "landcolor": "#E5ECF6",
           "subunitcolor": "white",
           "showland": true,
           "showlakes": true,
           "lakecolor": "white"
          },
          "title": {
           "x": 0.05
          },
          "mapbox": {
           "style": "light"
          }
         }
        },
        "xaxis": {
         "anchor": "y",
         "domain": [
          0.0,
          1.0
         ],
         "title": {
          "text": "date"
         }
        },
        "yaxis": {
         "anchor": "x",
         "domain": [
          0.0,
          1.0
         ],
         "title": {
          "text": "deaths"
         }
        },
        "legend": {
         "tracegroupgap": 0
        },
        "margin": {
         "t": 60
        },
        "title": {
         "text": "USA Mortality Ages 25-64"
        }
       },
       "config": {
        "plotlyServerURL": "https://plot.ly"
       }
      },
      "text/html": "<div>                            <div id=\"7a9990db-87a1-4dde-b051-b3ed11ee8be1\" class=\"plotly-graph-div\" style=\"height:525px; width:100%;\"></div>            <script type=\"text/javascript\">                require([\"plotly\"], function(Plotly) {                    window.PLOTLYENV=window.PLOTLYENV || {};                                    if (document.getElementById(\"7a9990db-87a1-4dde-b051-b3ed11ee8be1\")) {                    Plotly.newPlot(                        \"7a9990db-87a1-4dde-b051-b3ed11ee8be1\",                        [{\"hovertemplate\":\"date=%{x}<br>deaths=%{y}<extra></extra>\",\"legendgroup\":\"\",\"line\":{\"color\":\"#636efa\",\"dash\":\"solid\"},\"marker\":{\"symbol\":\"circle\"},\"mode\":\"lines\",\"name\":\"\",\"orientation\":\"v\",\"showlegend\":false,\"x\":[\"2020 week 1\",\"2020 week 2\",\"2020 week 3\",\"2020 week 4\",\"2020 week 5\",\"2020 week 6\",\"2020 week 7\",\"2020 week 8\",\"2020 week 9\",\"2020 week 10\",\"2020 week 11\",\"2020 week 12\",\"2020 week 13\",\"2020 week 14\",\"2020 week 15\",\"2020 week 16\",\"2020 week 17\",\"2020 week 18\",\"2020 week 19\",\"2020 week 20\",\"2020 week 21\",\"2020 week 22\",\"2020 week 23\",\"2020 week 24\",\"2020 week 25\",\"2020 week 26\",\"2020 week 27\",\"2020 week 28\",\"2020 week 29\",\"2020 week 30\",\"2020 week 31\",\"2020 week 32\",\"2020 week 33\",\"2020 week 34\",\"2020 week 35\",\"2020 week 36\",\"2020 week 37\",\"2020 week 38\",\"2020 week 39\",\"2020 week 40\",\"2020 week 41\",\"2020 week 42\",\"2020 week 43\",\"2020 week 44\",\"2020 week 45\",\"2020 week 46\",\"2020 week 47\",\"2020 week 48\",\"2020 week 49\",\"2020 week 50\",\"2020 week 51\",\"2020 week 52\",\"2020 week 53\",\"2021 week 1\",\"2021 week 2\",\"2021 week 3\",\"2021 week 4\",\"2021 week 5\",\"2021 week 6\",\"2021 week 7\",\"2021 week 8\",\"2021 week 9\",\"2021 week 10\",\"2021 week 11\",\"2021 week 12\",\"2021 week 13\",\"2021 week 14\",\"2021 week 15\",\"2021 week 16\",\"2021 week 17\",\"2021 week 18\",\"2021 week 19\",\"2021 week 20\",\"2021 week 21\",\"2021 week 22\",\"2021 week 23\",\"2021 week 24\",\"2021 week 25\",\"2021 week 26\",\"2021 week 27\",\"2021 week 28\",\"2021 week 29\",\"2021 week 30\",\"2021 week 31\",\"2021 week 32\",\"2021 week 33\",\"2021 week 34\",\"2021 week 35\",\"2021 week 36\",\"2021 week 37\",\"2021 week 38\",\"2021 week 39\",\"2021 week 40\",\"2021 week 41\",\"2021 week 42\",\"2021 week 43\",\"2021 week 44\",\"2021 week 45\",\"2021 week 46\",\"2021 week 47\",\"2021 week 48\",\"2021 week 49\",\"2021 week 50\",\"2021 week 51\",\"2021 week 52\",\"2022 week 1\",\"2022 week 2\",\"2022 week 3\",\"2022 week 4\",\"2022 week 5\",\"2022 week 6\",\"2022 week 7\",\"2022 week 8\",\"2022 week 9\",\"2022 week 10\",\"2022 week 11\",\"2022 week 12\",\"2020 week 1\",\"2020 week 2\",\"2020 week 3\",\"2020 week 4\",\"2020 week 5\",\"2020 week 6\",\"2020 week 7\",\"2020 week 8\",\"2020 week 9\",\"2020 week 10\",\"2020 week 11\",\"2020 week 12\",\"2020 week 13\",\"2020 week 14\",\"2020 week 15\",\"2020 week 16\",\"2020 week 17\",\"2020 week 18\",\"2020 week 19\",\"2020 week 20\",\"2020 week 21\",\"2020 week 22\",\"2020 week 23\",\"2020 week 24\",\"2020 week 25\",\"2020 week 26\",\"2020 week 27\",\"2020 week 28\",\"2020 week 29\",\"2020 week 30\",\"2020 week 31\",\"2020 week 32\",\"2020 week 33\",\"2020 week 34\",\"2020 week 35\",\"2020 week 36\",\"2020 week 37\",\"2020 week 38\",\"2020 week 39\",\"2020 week 40\",\"2020 week 41\",\"2020 week 42\",\"2020 week 43\",\"2020 week 44\",\"2020 week 45\",\"2020 week 46\",\"2020 week 47\",\"2020 week 48\",\"2020 week 49\",\"2020 week 50\",\"2020 week 51\",\"2020 week 52\",\"2020 week 53\",\"2021 week 1\",\"2021 week 2\",\"2021 week 3\",\"2021 week 4\",\"2021 week 5\",\"2021 week 6\",\"2021 week 7\",\"2021 week 8\",\"2021 week 9\",\"2021 week 10\",\"2021 week 11\",\"2021 week 12\",\"2021 week 13\",\"2021 week 14\",\"2021 week 15\",\"2021 week 16\",\"2021 week 17\",\"2021 week 18\",\"2021 week 19\",\"2021 week 20\",\"2021 week 21\",\"2021 week 22\",\"2021 week 23\",\"2021 week 24\",\"2021 week 25\",\"2021 week 26\",\"2021 week 27\",\"2021 week 28\",\"2021 week 29\",\"2021 week 30\",\"2021 week 31\",\"2021 week 32\",\"2021 week 33\",\"2021 week 34\",\"2021 week 35\",\"2021 week 36\",\"2021 week 37\",\"2021 week 38\",\"2021 week 39\",\"2021 week 40\",\"2021 week 41\",\"2021 week 42\",\"2021 week 43\",\"2021 week 44\",\"2021 week 45\",\"2021 week 46\",\"2021 week 47\",\"2021 week 48\",\"2021 week 49\",\"2021 week 50\",\"2021 week 51\",\"2021 week 52\",\"2022 week 1\",\"2022 week 2\",\"2022 week 3\",\"2022 week 4\",\"2022 week 5\",\"2022 week 6\",\"2022 week 7\",\"2022 week 8\",\"2022 week 9\",\"2022 week 10\",\"2022 week 11\",\"2022 week 12\"],\"xaxis\":\"x\",\"y\":[3034,2920,2858,2855,2799,2862,2855,2916,2927,3021,2929,3021,3173,3448,3681,3456,3510,3596,3553,3533,3591,3572,3644,3446,3543,3583,3670,3766,3929,3850,3791,3676,3711,3564,3579,3612,3445,3345,3428,3349,3511,3299,3270,3403,3650,3445,3543,3581,3539,3644,3695,3742,4059,4089,4046,3845,3678,3841,3688,3421,3500,3542,3494,3637,3607,3654,3803,3635,3690,3557,3768,3635,3682,3676,3681,3854,3844,3639,3720,3763,3739,3826,4062,4419,4616,4740,4907,5061,5046,4899,4966,4627,4380,4295,4119,4044,4046,3946,3862,3997,3821,4076,3990,4050,4327,4272,4195,4044,3839,3822,3884,3694,3462,3442,3796,3814,3811,11223,11128,10957,10878,10832,11084,10838,10880,11008,11062,10799,10909,11576,13600,14410,13622,13280,12461,12634,12035,11870,11397,11677,11530,11447,11484,12075,12569,12438,12595,12644,12711,12394,12068,11812,11734,11691,11392,11429,11292,11790,11306,11614,11640,12241,12500,12668,12792,13578,14473,14590,15223,15474,15820,15853,15233,14698,14266,13848,13409,12770,12515,12018,11806,12080,11454,12231,12084,12186,12064,12018,11922,11716,11478,11628,11554,11531,11171,11543,11517,11373,11493,12259,13300,14196,15143,15946,16479,16599,16205,15731,15482,14701,14174,13616,13263,13239,13144,13063,13185,13891,14342,14219,14184,14653,15536,15971,15612,15309,14913,14208,12852,11976,11752,11990,11892,11993],\"yaxis\":\"y\",\"type\":\"scatter\"}],                        {\"template\":{\"data\":{\"histogram2dcontour\":[{\"type\":\"histogram2dcontour\",\"colorbar\":{\"outlinewidth\":0,\"ticks\":\"\"},\"colorscale\":[[0.0,\"#0d0887\"],[0.1111111111111111,\"#46039f\"],[0.2222222222222222,\"#7201a8\"],[0.3333333333333333,\"#9c179e\"],[0.4444444444444444,\"#bd3786\"],[0.5555555555555556,\"#d8576b\"],[0.6666666666666666,\"#ed7953\"],[0.7777777777777778,\"#fb9f3a\"],[0.8888888888888888,\"#fdca26\"],[1.0,\"#f0f921\"]]}],\"choropleth\":[{\"type\":\"choropleth\",\"colorbar\":{\"outlinewidth\":0,\"ticks\":\"\"}}],\"histogram2d\":[{\"type\":\"histogram2d\",\"colorbar\":{\"outlinewidth\":0,\"ticks\":\"\"},\"colorscale\":[[0.0,\"#0d0887\"],[0.1111111111111111,\"#46039f\"],[0.2222222222222222,\"#7201a8\"],[0.3333333333333333,\"#9c179e\"],[0.4444444444444444,\"#bd3786\"],[0.5555555555555556,\"#d8576b\"],[0.6666666666666666,\"#ed7953\"],[0.7777777777777778,\"#fb9f3a\"],[0.8888888888888888,\"#fdca26\"],[1.0,\"#f0f921\"]]}],\"heatmap\":[{\"type\":\"heatmap\",\"colorbar\":{\"outlinewidth\":0,\"ticks\":\"\"},\"colorscale\":[[0.0,\"#0d0887\"],[0.1111111111111111,\"#46039f\"],[0.2222222222222222,\"#7201a8\"],[0.3333333333333333,\"#9c179e\"],[0.4444444444444444,\"#bd3786\"],[0.5555555555555556,\"#d8576b\"],[0.6666666666666666,\"#ed7953\"],[0.7777777777777778,\"#fb9f3a\"],[0.8888888888888888,\"#fdca26\"],[1.0,\"#f0f921\"]]}],\"heatmapgl\":[{\"type\":\"heatmapgl\",\"colorbar\":{\"outlinewidth\":0,\"ticks\":\"\"},\"colorscale\":[[0.0,\"#0d0887\"],[0.1111111111111111,\"#46039f\"],[0.2222222222222222,\"#7201a8\"],[0.3333333333333333,\"#9c179e\"],[0.4444444444444444,\"#bd3786\"],[0.5555555555555556,\"#d8576b\"],[0.6666666666666666,\"#ed7953\"],[0.7777777777777778,\"#fb9f3a\"],[0.8888888888888888,\"#fdca26\"],[1.0,\"#f0f921\"]]}],\"contourcarpet\":[{\"type\":\"contourcarpet\",\"colorbar\":{\"outlinewidth\":0,\"ticks\":\"\"}}],\"contour\":[{\"type\":\"contour\",\"colorbar\":{\"outlinewidth\":0,\"ticks\":\"\"},\"colorscale\":[[0.0,\"#0d0887\"],[0.1111111111111111,\"#46039f\"],[0.2222222222222222,\"#7201a8\"],[0.3333333333333333,\"#9c179e\"],[0.4444444444444444,\"#bd3786\"],[0.5555555555555556,\"#d8576b\"],[0.6666666666666666,\"#ed7953\"],[0.7777777777777778,\"#fb9f3a\"],[0.8888888888888888,\"#fdca26\"],[1.0,\"#f0f921\"]]}],\"surface\":[{\"type\":\"surface\",\"colorbar\":{\"outlinewidth\":0,\"ticks\":\"\"},\"colorscale\":[[0.0,\"#0d0887\"],[0.1111111111111111,\"#46039f\"],[0.2222222222222222,\"#7201a8\"],[0.3333333333333333,\"#9c179e\"],[0.4444444444444444,\"#bd3786\"],[0.5555555555555556,\"#d8576b\"],[0.6666666666666666,\"#ed7953\"],[0.7777777777777778,\"#fb9f3a\"],[0.8888888888888888,\"#fdca26\"],[1.0,\"#f0f921\"]]}],\"mesh3d\":[{\"type\":\"mesh3d\",\"colorbar\":{\"outlinewidth\":0,\"ticks\":\"\"}}],\"scatter\":[{\"fillpattern\":{\"fillmode\":\"overlay\",\"size\":10,\"solidity\":0.2},\"type\":\"scatter\"}],\"parcoords\":[{\"type\":\"parcoords\",\"line\":{\"colorbar\":{\"outlinewidth\":0,\"ticks\":\"\"}}}],\"scatterpolargl\":[{\"type\":\"scatterpolargl\",\"marker\":{\"colorbar\":{\"outlinewidth\":0,\"ticks\":\"\"}}}],\"bar\":[{\"error_x\":{\"color\":\"#2a3f5f\"},\"error_y\":{\"color\":\"#2a3f5f\"},\"marker\":{\"line\":{\"color\":\"#E5ECF6\",\"width\":0.5},\"pattern\":{\"fillmode\":\"overlay\",\"size\":10,\"solidity\":0.2}},\"type\":\"bar\"}],\"scattergeo\":[{\"type\":\"scattergeo\",\"marker\":{\"colorbar\":{\"outlinewidth\":0,\"ticks\":\"\"}}}],\"scatterpolar\":[{\"type\":\"scatterpolar\",\"marker\":{\"colorbar\":{\"outlinewidth\":0,\"ticks\":\"\"}}}],\"histogram\":[{\"marker\":{\"pattern\":{\"fillmode\":\"overlay\",\"size\":10,\"solidity\":0.2}},\"type\":\"histogram\"}],\"scattergl\":[{\"type\":\"scattergl\",\"marker\":{\"colorbar\":{\"outlinewidth\":0,\"ticks\":\"\"}}}],\"scatter3d\":[{\"type\":\"scatter3d\",\"line\":{\"colorbar\":{\"outlinewidth\":0,\"ticks\":\"\"}},\"marker\":{\"colorbar\":{\"outlinewidth\":0,\"ticks\":\"\"}}}],\"scattermapbox\":[{\"type\":\"scattermapbox\",\"marker\":{\"colorbar\":{\"outlinewidth\":0,\"ticks\":\"\"}}}],\"scatterternary\":[{\"type\":\"scatterternary\",\"marker\":{\"colorbar\":{\"outlinewidth\":0,\"ticks\":\"\"}}}],\"scattercarpet\":[{\"type\":\"scattercarpet\",\"marker\":{\"colorbar\":{\"outlinewidth\":0,\"ticks\":\"\"}}}],\"carpet\":[{\"aaxis\":{\"endlinecolor\":\"#2a3f5f\",\"gridcolor\":\"white\",\"linecolor\":\"white\",\"minorgridcolor\":\"white\",\"startlinecolor\":\"#2a3f5f\"},\"baxis\":{\"endlinecolor\":\"#2a3f5f\",\"gridcolor\":\"white\",\"linecolor\":\"white\",\"minorgridcolor\":\"white\",\"startlinecolor\":\"#2a3f5f\"},\"type\":\"carpet\"}],\"table\":[{\"cells\":{\"fill\":{\"color\":\"#EBF0F8\"},\"line\":{\"color\":\"white\"}},\"header\":{\"fill\":{\"color\":\"#C8D4E3\"},\"line\":{\"color\":\"white\"}},\"type\":\"table\"}],\"barpolar\":[{\"marker\":{\"line\":{\"color\":\"#E5ECF6\",\"width\":0.5},\"pattern\":{\"fillmode\":\"overlay\",\"size\":10,\"solidity\":0.2}},\"type\":\"barpolar\"}],\"pie\":[{\"automargin\":true,\"type\":\"pie\"}]},\"layout\":{\"autotypenumbers\":\"strict\",\"colorway\":[\"#636efa\",\"#EF553B\",\"#00cc96\",\"#ab63fa\",\"#FFA15A\",\"#19d3f3\",\"#FF6692\",\"#B6E880\",\"#FF97FF\",\"#FECB52\"],\"font\":{\"color\":\"#2a3f5f\"},\"hovermode\":\"closest\",\"hoverlabel\":{\"align\":\"left\"},\"paper_bgcolor\":\"white\",\"plot_bgcolor\":\"#E5ECF6\",\"polar\":{\"bgcolor\":\"#E5ECF6\",\"angularaxis\":{\"gridcolor\":\"white\",\"linecolor\":\"white\",\"ticks\":\"\"},\"radialaxis\":{\"gridcolor\":\"white\",\"linecolor\":\"white\",\"ticks\":\"\"}},\"ternary\":{\"bgcolor\":\"#E5ECF6\",\"aaxis\":{\"gridcolor\":\"white\",\"linecolor\":\"white\",\"ticks\":\"\"},\"baxis\":{\"gridcolor\":\"white\",\"linecolor\":\"white\",\"ticks\":\"\"},\"caxis\":{\"gridcolor\":\"white\",\"linecolor\":\"white\",\"ticks\":\"\"}},\"coloraxis\":{\"colorbar\":{\"outlinewidth\":0,\"ticks\":\"\"}},\"colorscale\":{\"sequential\":[[0.0,\"#0d0887\"],[0.1111111111111111,\"#46039f\"],[0.2222222222222222,\"#7201a8\"],[0.3333333333333333,\"#9c179e\"],[0.4444444444444444,\"#bd3786\"],[0.5555555555555556,\"#d8576b\"],[0.6666666666666666,\"#ed7953\"],[0.7777777777777778,\"#fb9f3a\"],[0.8888888888888888,\"#fdca26\"],[1.0,\"#f0f921\"]],\"sequentialminus\":[[0.0,\"#0d0887\"],[0.1111111111111111,\"#46039f\"],[0.2222222222222222,\"#7201a8\"],[0.3333333333333333,\"#9c179e\"],[0.4444444444444444,\"#bd3786\"],[0.5555555555555556,\"#d8576b\"],[0.6666666666666666,\"#ed7953\"],[0.7777777777777778,\"#fb9f3a\"],[0.8888888888888888,\"#fdca26\"],[1.0,\"#f0f921\"]],\"diverging\":[[0,\"#8e0152\"],[0.1,\"#c51b7d\"],[0.2,\"#de77ae\"],[0.3,\"#f1b6da\"],[0.4,\"#fde0ef\"],[0.5,\"#f7f7f7\"],[0.6,\"#e6f5d0\"],[0.7,\"#b8e186\"],[0.8,\"#7fbc41\"],[0.9,\"#4d9221\"],[1,\"#276419\"]]},\"xaxis\":{\"gridcolor\":\"white\",\"linecolor\":\"white\",\"ticks\":\"\",\"title\":{\"standoff\":15},\"zerolinecolor\":\"white\",\"automargin\":true,\"zerolinewidth\":2},\"yaxis\":{\"gridcolor\":\"white\",\"linecolor\":\"white\",\"ticks\":\"\",\"title\":{\"standoff\":15},\"zerolinecolor\":\"white\",\"automargin\":true,\"zerolinewidth\":2},\"scene\":{\"xaxis\":{\"backgroundcolor\":\"#E5ECF6\",\"gridcolor\":\"white\",\"linecolor\":\"white\",\"showbackground\":true,\"ticks\":\"\",\"zerolinecolor\":\"white\",\"gridwidth\":2},\"yaxis\":{\"backgroundcolor\":\"#E5ECF6\",\"gridcolor\":\"white\",\"linecolor\":\"white\",\"showbackground\":true,\"ticks\":\"\",\"zerolinecolor\":\"white\",\"gridwidth\":2},\"zaxis\":{\"backgroundcolor\":\"#E5ECF6\",\"gridcolor\":\"white\",\"linecolor\":\"white\",\"showbackground\":true,\"ticks\":\"\",\"zerolinecolor\":\"white\",\"gridwidth\":2}},\"shapedefaults\":{\"line\":{\"color\":\"#2a3f5f\"}},\"annotationdefaults\":{\"arrowcolor\":\"#2a3f5f\",\"arrowhead\":0,\"arrowwidth\":1},\"geo\":{\"bgcolor\":\"white\",\"landcolor\":\"#E5ECF6\",\"subunitcolor\":\"white\",\"showland\":true,\"showlakes\":true,\"lakecolor\":\"white\"},\"title\":{\"x\":0.05},\"mapbox\":{\"style\":\"light\"}}},\"xaxis\":{\"anchor\":\"y\",\"domain\":[0.0,1.0],\"title\":{\"text\":\"date\"}},\"yaxis\":{\"anchor\":\"x\",\"domain\":[0.0,1.0],\"title\":{\"text\":\"deaths\"}},\"legend\":{\"tracegroupgap\":0},\"margin\":{\"t\":60},\"title\":{\"text\":\"USA Mortality Ages 25-64\"}},                        {\"responsive\": true}                    ).then(function(){\n                            \nvar gd = document.getElementById('7a9990db-87a1-4dde-b051-b3ed11ee8be1');\nvar x = new MutationObserver(function (mutations, observer) {{\n        var display = window.getComputedStyle(gd).display;\n        if (!display || display === 'none') {{\n            console.log([gd, 'removed!']);\n            Plotly.purge(gd);\n            observer.disconnect();\n        }}\n}});\n\n// Listen for the removal of the full notebook cells\nvar notebookContainer = gd.closest('#notebook-container');\nif (notebookContainer) {{\n    x.observe(notebookContainer, {childList: true});\n}}\n\n// Listen for the clearing of the current output cell\nvar outputEl = gd.closest('.output');\nif (outputEl) {{\n    x.observe(outputEl, {childList: true});\n}}\n\n                        })                };                });            </script>        </div>"
     },
     "metadata": {},
     "output_type": "display_data"
    }
   ],
   "source": [
    "import plotly.express as px\n",
    "\n",
    "fig = px.line(dfm, x=\"date\", y=\"deaths\")\n",
    "fig.update_layout(title_text=\"USA Mortality Ages 25-64\")\n",
    "fig.show()"
   ],
   "metadata": {
    "collapsed": false,
    "pycharm": {
     "name": "#%%\n"
    }
   }
  },
  {
   "cell_type": "code",
   "execution_count": null,
   "outputs": [],
   "source": [],
   "metadata": {
    "collapsed": false,
    "pycharm": {
     "name": "#%%\n"
    }
   }
  },
  {
   "cell_type": "code",
   "execution_count": null,
   "outputs": [],
   "source": [],
   "metadata": {
    "collapsed": false,
    "pycharm": {
     "name": "#%%\n"
    }
   }
  },
  {
   "cell_type": "code",
   "execution_count": null,
   "outputs": [],
   "source": [],
   "metadata": {
    "collapsed": false,
    "pycharm": {
     "name": "#%%\n"
    }
   }
  },
  {
   "cell_type": "markdown",
   "source": [
    "### Combine Datasets"
   ],
   "metadata": {
    "collapsed": false,
    "pycharm": {
     "name": "#%% md\n"
    }
   }
  },
  {
   "cell_type": "code",
   "execution_count": 87,
   "outputs": [],
   "source": [
    "df = dfm.merge(dfv, on='date', how='inner')"
   ],
   "metadata": {
    "collapsed": false,
    "pycharm": {
     "name": "#%%\n"
    }
   }
  },
  {
   "cell_type": "code",
   "execution_count": 88,
   "outputs": [
    {
     "data": {
      "text/plain": "           date          state  baseline  normalLower  normalUpper  treshold  \\\n0  2020 week 50  United States      2703         2461         2945      3187   \n1  2020 week 51  United States      2756         2466         3046      3336   \n2  2020 week 51  United States      2756         2466         3046      3336   \n3  2020 week 51  United States      2756         2466         3046      3336   \n4  2020 week 51  United States      2756         2466         3046      3336   \n\n   deaths    zscore  deathsReported  deathsCovid  deathsNonCovid dateByMonth  \\\n0    3644  7.776860             NaN            0               0     12/2020   \n1    3695  6.475862             NaN            0               0     12/2020   \n2    3695  6.475862             NaN            0               0     12/2020   \n3    3695  6.475862             NaN            0               0     12/2020   \n4    3695  6.475862             NaN            0               0     12/2020   \n\n   administered_dose1  booster_doses_yes  percent_boosted  \n0                4592                  0              0.0  \n1              427771                  0              0.0  \n2              388437                  0              0.0  \n3              322463                  0              0.0  \n4              175820                  0              0.0  ",
      "text/html": "<div>\n<style scoped>\n    .dataframe tbody tr th:only-of-type {\n        vertical-align: middle;\n    }\n\n    .dataframe tbody tr th {\n        vertical-align: top;\n    }\n\n    .dataframe thead th {\n        text-align: right;\n    }\n</style>\n<table border=\"1\" class=\"dataframe\">\n  <thead>\n    <tr style=\"text-align: right;\">\n      <th></th>\n      <th>date</th>\n      <th>state</th>\n      <th>baseline</th>\n      <th>normalLower</th>\n      <th>normalUpper</th>\n      <th>treshold</th>\n      <th>deaths</th>\n      <th>zscore</th>\n      <th>deathsReported</th>\n      <th>deathsCovid</th>\n      <th>deathsNonCovid</th>\n      <th>dateByMonth</th>\n      <th>administered_dose1</th>\n      <th>booster_doses_yes</th>\n      <th>percent_boosted</th>\n    </tr>\n  </thead>\n  <tbody>\n    <tr>\n      <th>0</th>\n      <td>2020 week 50</td>\n      <td>United States</td>\n      <td>2703</td>\n      <td>2461</td>\n      <td>2945</td>\n      <td>3187</td>\n      <td>3644</td>\n      <td>7.776860</td>\n      <td>NaN</td>\n      <td>0</td>\n      <td>0</td>\n      <td>12/2020</td>\n      <td>4592</td>\n      <td>0</td>\n      <td>0.0</td>\n    </tr>\n    <tr>\n      <th>1</th>\n      <td>2020 week 51</td>\n      <td>United States</td>\n      <td>2756</td>\n      <td>2466</td>\n      <td>3046</td>\n      <td>3336</td>\n      <td>3695</td>\n      <td>6.475862</td>\n      <td>NaN</td>\n      <td>0</td>\n      <td>0</td>\n      <td>12/2020</td>\n      <td>427771</td>\n      <td>0</td>\n      <td>0.0</td>\n    </tr>\n    <tr>\n      <th>2</th>\n      <td>2020 week 51</td>\n      <td>United States</td>\n      <td>2756</td>\n      <td>2466</td>\n      <td>3046</td>\n      <td>3336</td>\n      <td>3695</td>\n      <td>6.475862</td>\n      <td>NaN</td>\n      <td>0</td>\n      <td>0</td>\n      <td>12/2020</td>\n      <td>388437</td>\n      <td>0</td>\n      <td>0.0</td>\n    </tr>\n    <tr>\n      <th>3</th>\n      <td>2020 week 51</td>\n      <td>United States</td>\n      <td>2756</td>\n      <td>2466</td>\n      <td>3046</td>\n      <td>3336</td>\n      <td>3695</td>\n      <td>6.475862</td>\n      <td>NaN</td>\n      <td>0</td>\n      <td>0</td>\n      <td>12/2020</td>\n      <td>322463</td>\n      <td>0</td>\n      <td>0.0</td>\n    </tr>\n    <tr>\n      <th>4</th>\n      <td>2020 week 51</td>\n      <td>United States</td>\n      <td>2756</td>\n      <td>2466</td>\n      <td>3046</td>\n      <td>3336</td>\n      <td>3695</td>\n      <td>6.475862</td>\n      <td>NaN</td>\n      <td>0</td>\n      <td>0</td>\n      <td>12/2020</td>\n      <td>175820</td>\n      <td>0</td>\n      <td>0.0</td>\n    </tr>\n  </tbody>\n</table>\n</div>"
     },
     "execution_count": 88,
     "metadata": {},
     "output_type": "execute_result"
    }
   ],
   "source": [
    "df.head()"
   ],
   "metadata": {
    "collapsed": false,
    "pycharm": {
     "name": "#%%\n"
    }
   }
  },
  {
   "cell_type": "code",
   "execution_count": null,
   "outputs": [],
   "source": [],
   "metadata": {
    "collapsed": false,
    "pycharm": {
     "name": "#%%\n"
    }
   }
  },
  {
   "cell_type": "code",
   "execution_count": 91,
   "outputs": [
    {
     "data": {
      "application/vnd.plotly.v1+json": {
       "data": [
        {
         "hovertemplate": "date=%{x}<br>deaths=%{y}<extra></extra>",
         "legendgroup": "",
         "line": {
          "color": "#636efa",
          "dash": "solid"
         },
         "marker": {
          "symbol": "circle"
         },
         "mode": "lines",
         "name": "",
         "orientation": "v",
         "showlegend": false,
         "x": [
          "2020 week 50",
          "2020 week 51",
          "2020 week 51",
          "2020 week 51",
          "2020 week 51",
          "2020 week 51",
          "2020 week 51",
          "2020 week 51",
          "2020 week 52",
          "2020 week 52",
          "2020 week 52",
          "2020 week 52",
          "2020 week 52",
          "2020 week 52",
          "2020 week 52",
          "2020 week 53",
          "2020 week 53",
          "2020 week 53",
          "2020 week 53",
          "2021 week 1",
          "2021 week 1",
          "2021 week 1",
          "2021 week 1",
          "2021 week 1",
          "2021 week 1",
          "2021 week 1",
          "2021 week 2",
          "2021 week 2",
          "2021 week 2",
          "2021 week 2",
          "2021 week 2",
          "2021 week 2",
          "2021 week 2",
          "2021 week 3",
          "2021 week 3",
          "2021 week 3",
          "2021 week 3",
          "2021 week 3",
          "2021 week 3",
          "2021 week 3",
          "2021 week 4",
          "2021 week 4",
          "2021 week 4",
          "2021 week 4",
          "2021 week 4",
          "2021 week 4",
          "2021 week 4",
          "2021 week 5",
          "2021 week 5",
          "2021 week 5",
          "2021 week 5",
          "2021 week 5",
          "2021 week 5",
          "2021 week 5",
          "2021 week 6",
          "2021 week 6",
          "2021 week 6",
          "2021 week 6",
          "2021 week 6",
          "2021 week 6",
          "2021 week 6",
          "2021 week 7",
          "2021 week 7",
          "2021 week 7",
          "2021 week 7",
          "2021 week 7",
          "2021 week 7",
          "2021 week 7",
          "2021 week 8",
          "2021 week 8",
          "2021 week 8",
          "2021 week 8",
          "2021 week 8",
          "2021 week 8",
          "2021 week 8",
          "2021 week 9",
          "2021 week 9",
          "2021 week 9",
          "2021 week 9",
          "2021 week 9",
          "2021 week 9",
          "2021 week 9",
          "2021 week 10",
          "2021 week 10",
          "2021 week 10",
          "2021 week 10",
          "2021 week 10",
          "2021 week 10",
          "2021 week 10",
          "2021 week 11",
          "2021 week 11",
          "2021 week 11",
          "2021 week 11",
          "2021 week 11",
          "2021 week 11",
          "2021 week 11",
          "2021 week 12",
          "2021 week 12",
          "2021 week 12",
          "2021 week 12",
          "2021 week 12",
          "2021 week 12",
          "2021 week 12",
          "2021 week 13",
          "2021 week 13",
          "2021 week 13",
          "2021 week 13",
          "2021 week 13",
          "2021 week 13",
          "2021 week 13",
          "2021 week 14",
          "2021 week 14",
          "2021 week 14",
          "2021 week 14",
          "2021 week 14",
          "2021 week 14",
          "2021 week 14",
          "2021 week 15",
          "2021 week 15",
          "2021 week 15",
          "2021 week 15",
          "2021 week 15",
          "2021 week 15",
          "2021 week 15",
          "2021 week 16",
          "2021 week 16",
          "2021 week 16",
          "2021 week 16",
          "2021 week 16",
          "2021 week 16",
          "2021 week 16",
          "2021 week 17",
          "2021 week 17",
          "2021 week 17",
          "2021 week 17",
          "2021 week 17",
          "2021 week 17",
          "2021 week 17",
          "2021 week 18",
          "2021 week 18",
          "2021 week 18",
          "2021 week 18",
          "2021 week 18",
          "2021 week 18",
          "2021 week 18",
          "2021 week 19",
          "2021 week 19",
          "2021 week 19",
          "2021 week 19",
          "2021 week 19",
          "2021 week 19",
          "2021 week 19",
          "2021 week 20",
          "2021 week 20",
          "2021 week 20",
          "2021 week 20",
          "2021 week 20",
          "2021 week 20",
          "2021 week 20",
          "2021 week 21",
          "2021 week 21",
          "2021 week 21",
          "2021 week 21",
          "2021 week 21",
          "2021 week 21",
          "2021 week 21",
          "2021 week 22",
          "2021 week 22",
          "2021 week 22",
          "2021 week 22",
          "2021 week 22",
          "2021 week 22",
          "2021 week 22",
          "2021 week 23",
          "2021 week 23",
          "2021 week 23",
          "2021 week 23",
          "2021 week 23",
          "2021 week 23",
          "2021 week 23",
          "2021 week 24",
          "2021 week 24",
          "2021 week 24",
          "2021 week 24",
          "2021 week 24",
          "2021 week 24",
          "2021 week 24",
          "2021 week 25",
          "2021 week 25",
          "2021 week 25",
          "2021 week 25",
          "2021 week 25",
          "2021 week 25",
          "2021 week 25",
          "2021 week 26",
          "2021 week 26",
          "2021 week 26",
          "2021 week 26",
          "2021 week 26",
          "2021 week 26",
          "2021 week 26",
          "2021 week 27",
          "2021 week 27",
          "2021 week 27",
          "2021 week 27",
          "2021 week 27",
          "2021 week 27",
          "2021 week 27",
          "2021 week 28",
          "2021 week 28",
          "2021 week 28",
          "2021 week 28",
          "2021 week 28",
          "2021 week 28",
          "2021 week 28",
          "2021 week 29",
          "2021 week 29",
          "2021 week 29",
          "2021 week 29",
          "2021 week 29",
          "2021 week 29",
          "2021 week 29",
          "2021 week 30",
          "2021 week 30",
          "2021 week 30",
          "2021 week 30",
          "2021 week 30",
          "2021 week 30",
          "2021 week 30",
          "2021 week 31",
          "2021 week 31",
          "2021 week 31",
          "2021 week 31",
          "2021 week 31",
          "2021 week 31",
          "2021 week 31",
          "2021 week 32",
          "2021 week 32",
          "2021 week 32",
          "2021 week 32",
          "2021 week 32",
          "2021 week 32",
          "2021 week 32",
          "2021 week 33",
          "2021 week 33",
          "2021 week 33",
          "2021 week 33",
          "2021 week 33",
          "2021 week 33",
          "2021 week 33",
          "2021 week 34",
          "2021 week 34",
          "2021 week 34",
          "2021 week 34",
          "2021 week 34",
          "2021 week 34",
          "2021 week 34",
          "2021 week 35",
          "2021 week 35",
          "2021 week 35",
          "2021 week 35",
          "2021 week 35",
          "2021 week 35",
          "2021 week 35",
          "2021 week 36",
          "2021 week 36",
          "2021 week 36",
          "2021 week 36",
          "2021 week 36",
          "2021 week 36",
          "2021 week 36",
          "2021 week 37",
          "2021 week 37",
          "2021 week 37",
          "2021 week 37",
          "2021 week 37",
          "2021 week 37",
          "2021 week 37",
          "2021 week 38",
          "2021 week 38",
          "2021 week 38",
          "2021 week 38",
          "2021 week 38",
          "2021 week 38",
          "2021 week 38",
          "2021 week 39",
          "2021 week 39",
          "2021 week 39",
          "2021 week 39",
          "2021 week 39",
          "2021 week 39",
          "2021 week 39",
          "2021 week 40",
          "2021 week 40",
          "2021 week 40",
          "2021 week 40",
          "2021 week 40",
          "2021 week 40",
          "2021 week 40",
          "2021 week 41",
          "2021 week 41",
          "2021 week 41",
          "2021 week 41",
          "2021 week 41",
          "2021 week 41",
          "2021 week 41",
          "2021 week 42",
          "2021 week 42",
          "2021 week 42",
          "2021 week 42",
          "2021 week 42",
          "2021 week 42",
          "2021 week 42",
          "2021 week 43",
          "2021 week 43",
          "2021 week 43",
          "2021 week 43",
          "2021 week 43",
          "2021 week 43",
          "2021 week 43",
          "2021 week 44",
          "2021 week 44",
          "2021 week 44",
          "2021 week 44",
          "2021 week 44",
          "2021 week 44",
          "2021 week 44",
          "2021 week 45",
          "2021 week 45",
          "2021 week 45",
          "2021 week 45",
          "2021 week 45",
          "2021 week 45",
          "2021 week 45",
          "2021 week 46",
          "2021 week 46",
          "2021 week 46",
          "2021 week 46",
          "2021 week 46",
          "2021 week 46",
          "2021 week 46",
          "2021 week 47",
          "2021 week 47",
          "2021 week 47",
          "2021 week 47",
          "2021 week 47",
          "2021 week 47",
          "2021 week 47",
          "2021 week 48",
          "2021 week 48",
          "2021 week 48",
          "2021 week 48",
          "2021 week 48",
          "2021 week 48",
          "2021 week 48",
          "2021 week 49",
          "2021 week 49",
          "2021 week 49",
          "2021 week 49",
          "2021 week 49",
          "2021 week 49",
          "2021 week 49",
          "2021 week 50",
          "2021 week 50",
          "2021 week 50",
          "2021 week 50",
          "2021 week 50",
          "2021 week 50",
          "2021 week 50",
          "2021 week 51",
          "2021 week 51",
          "2021 week 51",
          "2021 week 51",
          "2021 week 51",
          "2021 week 51",
          "2021 week 51",
          "2021 week 52",
          "2021 week 52",
          "2021 week 52",
          "2021 week 52",
          "2021 week 52",
          "2022 week 1",
          "2022 week 1",
          "2022 week 1",
          "2022 week 1",
          "2022 week 1",
          "2022 week 1",
          "2022 week 1",
          "2022 week 2",
          "2022 week 2",
          "2022 week 2",
          "2022 week 2",
          "2022 week 2",
          "2022 week 2",
          "2022 week 2",
          "2022 week 3",
          "2022 week 3",
          "2022 week 3",
          "2022 week 3",
          "2022 week 3",
          "2022 week 3",
          "2022 week 3",
          "2022 week 4",
          "2022 week 4",
          "2022 week 4",
          "2022 week 4",
          "2022 week 4",
          "2022 week 4",
          "2022 week 4",
          "2022 week 5",
          "2022 week 5",
          "2022 week 5",
          "2022 week 5",
          "2022 week 5",
          "2022 week 5",
          "2022 week 5",
          "2022 week 6",
          "2022 week 6",
          "2022 week 6",
          "2022 week 6",
          "2022 week 6",
          "2022 week 6",
          "2022 week 6",
          "2022 week 7",
          "2022 week 7",
          "2022 week 7",
          "2022 week 7",
          "2022 week 7",
          "2022 week 7",
          "2022 week 7",
          "2022 week 8",
          "2022 week 8",
          "2022 week 8",
          "2022 week 8",
          "2022 week 8",
          "2022 week 8",
          "2022 week 8",
          "2022 week 9",
          "2022 week 9",
          "2022 week 9",
          "2022 week 9",
          "2022 week 9",
          "2022 week 9",
          "2022 week 9",
          "2022 week 10",
          "2022 week 10",
          "2022 week 10",
          "2022 week 10",
          "2022 week 10",
          "2022 week 10",
          "2022 week 10",
          "2022 week 11",
          "2022 week 11",
          "2022 week 11",
          "2022 week 11",
          "2022 week 11",
          "2022 week 11",
          "2022 week 11",
          "2022 week 12",
          "2022 week 12",
          "2022 week 12",
          "2022 week 12",
          "2022 week 12",
          "2022 week 12",
          "2022 week 12"
         ],
         "xaxis": "x",
         "y": [
          3644,
          3695,
          3695,
          3695,
          3695,
          3695,
          3695,
          3695,
          3742,
          3742,
          3742,
          3742,
          3742,
          3742,
          3742,
          4059,
          4059,
          4059,
          4059,
          4089,
          4089,
          4089,
          4089,
          4089,
          4089,
          4089,
          4046,
          4046,
          4046,
          4046,
          4046,
          4046,
          4046,
          3845,
          3845,
          3845,
          3845,
          3845,
          3845,
          3845,
          3678,
          3678,
          3678,
          3678,
          3678,
          3678,
          3678,
          3841,
          3841,
          3841,
          3841,
          3841,
          3841,
          3841,
          3688,
          3688,
          3688,
          3688,
          3688,
          3688,
          3688,
          3421,
          3421,
          3421,
          3421,
          3421,
          3421,
          3421,
          3500,
          3500,
          3500,
          3500,
          3500,
          3500,
          3500,
          3542,
          3542,
          3542,
          3542,
          3542,
          3542,
          3542,
          3494,
          3494,
          3494,
          3494,
          3494,
          3494,
          3494,
          3637,
          3637,
          3637,
          3637,
          3637,
          3637,
          3637,
          3607,
          3607,
          3607,
          3607,
          3607,
          3607,
          3607,
          3654,
          3654,
          3654,
          3654,
          3654,
          3654,
          3654,
          3803,
          3803,
          3803,
          3803,
          3803,
          3803,
          3803,
          3635,
          3635,
          3635,
          3635,
          3635,
          3635,
          3635,
          3690,
          3690,
          3690,
          3690,
          3690,
          3690,
          3690,
          3557,
          3557,
          3557,
          3557,
          3557,
          3557,
          3557,
          3768,
          3768,
          3768,
          3768,
          3768,
          3768,
          3768,
          3635,
          3635,
          3635,
          3635,
          3635,
          3635,
          3635,
          3682,
          3682,
          3682,
          3682,
          3682,
          3682,
          3682,
          3676,
          3676,
          3676,
          3676,
          3676,
          3676,
          3676,
          3681,
          3681,
          3681,
          3681,
          3681,
          3681,
          3681,
          3854,
          3854,
          3854,
          3854,
          3854,
          3854,
          3854,
          3844,
          3844,
          3844,
          3844,
          3844,
          3844,
          3844,
          3639,
          3639,
          3639,
          3639,
          3639,
          3639,
          3639,
          3720,
          3720,
          3720,
          3720,
          3720,
          3720,
          3720,
          3763,
          3763,
          3763,
          3763,
          3763,
          3763,
          3763,
          3739,
          3739,
          3739,
          3739,
          3739,
          3739,
          3739,
          3826,
          3826,
          3826,
          3826,
          3826,
          3826,
          3826,
          4062,
          4062,
          4062,
          4062,
          4062,
          4062,
          4062,
          4419,
          4419,
          4419,
          4419,
          4419,
          4419,
          4419,
          4616,
          4616,
          4616,
          4616,
          4616,
          4616,
          4616,
          4740,
          4740,
          4740,
          4740,
          4740,
          4740,
          4740,
          4907,
          4907,
          4907,
          4907,
          4907,
          4907,
          4907,
          5061,
          5061,
          5061,
          5061,
          5061,
          5061,
          5061,
          5046,
          5046,
          5046,
          5046,
          5046,
          5046,
          5046,
          4899,
          4899,
          4899,
          4899,
          4899,
          4899,
          4899,
          4966,
          4966,
          4966,
          4966,
          4966,
          4966,
          4966,
          4627,
          4627,
          4627,
          4627,
          4627,
          4627,
          4627,
          4380,
          4380,
          4380,
          4380,
          4380,
          4380,
          4380,
          4295,
          4295,
          4295,
          4295,
          4295,
          4295,
          4295,
          4119,
          4119,
          4119,
          4119,
          4119,
          4119,
          4119,
          4044,
          4044,
          4044,
          4044,
          4044,
          4044,
          4044,
          4046,
          4046,
          4046,
          4046,
          4046,
          4046,
          4046,
          3946,
          3946,
          3946,
          3946,
          3946,
          3946,
          3946,
          3862,
          3862,
          3862,
          3862,
          3862,
          3862,
          3862,
          3997,
          3997,
          3997,
          3997,
          3997,
          3997,
          3997,
          3821,
          3821,
          3821,
          3821,
          3821,
          3821,
          3821,
          4076,
          4076,
          4076,
          4076,
          4076,
          4076,
          4076,
          3990,
          3990,
          3990,
          3990,
          3990,
          3990,
          3990,
          4050,
          4050,
          4050,
          4050,
          4050,
          4050,
          4050,
          4327,
          4327,
          4327,
          4327,
          4327,
          4272,
          4272,
          4272,
          4272,
          4272,
          4272,
          4272,
          4195,
          4195,
          4195,
          4195,
          4195,
          4195,
          4195,
          4044,
          4044,
          4044,
          4044,
          4044,
          4044,
          4044,
          3839,
          3839,
          3839,
          3839,
          3839,
          3839,
          3839,
          3822,
          3822,
          3822,
          3822,
          3822,
          3822,
          3822,
          3884,
          3884,
          3884,
          3884,
          3884,
          3884,
          3884,
          3694,
          3694,
          3694,
          3694,
          3694,
          3694,
          3694,
          3462,
          3462,
          3462,
          3462,
          3462,
          3462,
          3462,
          3442,
          3442,
          3442,
          3442,
          3442,
          3442,
          3442,
          3796,
          3796,
          3796,
          3796,
          3796,
          3796,
          3796,
          3814,
          3814,
          3814,
          3814,
          3814,
          3814,
          3814,
          3811,
          3811,
          3811,
          3811,
          3811,
          3811,
          3811
         ],
         "yaxis": "y",
         "type": "scatter"
        }
       ],
       "layout": {
        "template": {
         "data": {
          "histogram2dcontour": [
           {
            "type": "histogram2dcontour",
            "colorbar": {
             "outlinewidth": 0,
             "ticks": ""
            },
            "colorscale": [
             [
              0.0,
              "#0d0887"
             ],
             [
              0.1111111111111111,
              "#46039f"
             ],
             [
              0.2222222222222222,
              "#7201a8"
             ],
             [
              0.3333333333333333,
              "#9c179e"
             ],
             [
              0.4444444444444444,
              "#bd3786"
             ],
             [
              0.5555555555555556,
              "#d8576b"
             ],
             [
              0.6666666666666666,
              "#ed7953"
             ],
             [
              0.7777777777777778,
              "#fb9f3a"
             ],
             [
              0.8888888888888888,
              "#fdca26"
             ],
             [
              1.0,
              "#f0f921"
             ]
            ]
           }
          ],
          "choropleth": [
           {
            "type": "choropleth",
            "colorbar": {
             "outlinewidth": 0,
             "ticks": ""
            }
           }
          ],
          "histogram2d": [
           {
            "type": "histogram2d",
            "colorbar": {
             "outlinewidth": 0,
             "ticks": ""
            },
            "colorscale": [
             [
              0.0,
              "#0d0887"
             ],
             [
              0.1111111111111111,
              "#46039f"
             ],
             [
              0.2222222222222222,
              "#7201a8"
             ],
             [
              0.3333333333333333,
              "#9c179e"
             ],
             [
              0.4444444444444444,
              "#bd3786"
             ],
             [
              0.5555555555555556,
              "#d8576b"
             ],
             [
              0.6666666666666666,
              "#ed7953"
             ],
             [
              0.7777777777777778,
              "#fb9f3a"
             ],
             [
              0.8888888888888888,
              "#fdca26"
             ],
             [
              1.0,
              "#f0f921"
             ]
            ]
           }
          ],
          "heatmap": [
           {
            "type": "heatmap",
            "colorbar": {
             "outlinewidth": 0,
             "ticks": ""
            },
            "colorscale": [
             [
              0.0,
              "#0d0887"
             ],
             [
              0.1111111111111111,
              "#46039f"
             ],
             [
              0.2222222222222222,
              "#7201a8"
             ],
             [
              0.3333333333333333,
              "#9c179e"
             ],
             [
              0.4444444444444444,
              "#bd3786"
             ],
             [
              0.5555555555555556,
              "#d8576b"
             ],
             [
              0.6666666666666666,
              "#ed7953"
             ],
             [
              0.7777777777777778,
              "#fb9f3a"
             ],
             [
              0.8888888888888888,
              "#fdca26"
             ],
             [
              1.0,
              "#f0f921"
             ]
            ]
           }
          ],
          "heatmapgl": [
           {
            "type": "heatmapgl",
            "colorbar": {
             "outlinewidth": 0,
             "ticks": ""
            },
            "colorscale": [
             [
              0.0,
              "#0d0887"
             ],
             [
              0.1111111111111111,
              "#46039f"
             ],
             [
              0.2222222222222222,
              "#7201a8"
             ],
             [
              0.3333333333333333,
              "#9c179e"
             ],
             [
              0.4444444444444444,
              "#bd3786"
             ],
             [
              0.5555555555555556,
              "#d8576b"
             ],
             [
              0.6666666666666666,
              "#ed7953"
             ],
             [
              0.7777777777777778,
              "#fb9f3a"
             ],
             [
              0.8888888888888888,
              "#fdca26"
             ],
             [
              1.0,
              "#f0f921"
             ]
            ]
           }
          ],
          "contourcarpet": [
           {
            "type": "contourcarpet",
            "colorbar": {
             "outlinewidth": 0,
             "ticks": ""
            }
           }
          ],
          "contour": [
           {
            "type": "contour",
            "colorbar": {
             "outlinewidth": 0,
             "ticks": ""
            },
            "colorscale": [
             [
              0.0,
              "#0d0887"
             ],
             [
              0.1111111111111111,
              "#46039f"
             ],
             [
              0.2222222222222222,
              "#7201a8"
             ],
             [
              0.3333333333333333,
              "#9c179e"
             ],
             [
              0.4444444444444444,
              "#bd3786"
             ],
             [
              0.5555555555555556,
              "#d8576b"
             ],
             [
              0.6666666666666666,
              "#ed7953"
             ],
             [
              0.7777777777777778,
              "#fb9f3a"
             ],
             [
              0.8888888888888888,
              "#fdca26"
             ],
             [
              1.0,
              "#f0f921"
             ]
            ]
           }
          ],
          "surface": [
           {
            "type": "surface",
            "colorbar": {
             "outlinewidth": 0,
             "ticks": ""
            },
            "colorscale": [
             [
              0.0,
              "#0d0887"
             ],
             [
              0.1111111111111111,
              "#46039f"
             ],
             [
              0.2222222222222222,
              "#7201a8"
             ],
             [
              0.3333333333333333,
              "#9c179e"
             ],
             [
              0.4444444444444444,
              "#bd3786"
             ],
             [
              0.5555555555555556,
              "#d8576b"
             ],
             [
              0.6666666666666666,
              "#ed7953"
             ],
             [
              0.7777777777777778,
              "#fb9f3a"
             ],
             [
              0.8888888888888888,
              "#fdca26"
             ],
             [
              1.0,
              "#f0f921"
             ]
            ]
           }
          ],
          "mesh3d": [
           {
            "type": "mesh3d",
            "colorbar": {
             "outlinewidth": 0,
             "ticks": ""
            }
           }
          ],
          "scatter": [
           {
            "fillpattern": {
             "fillmode": "overlay",
             "size": 10,
             "solidity": 0.2
            },
            "type": "scatter"
           }
          ],
          "parcoords": [
           {
            "type": "parcoords",
            "line": {
             "colorbar": {
              "outlinewidth": 0,
              "ticks": ""
             }
            }
           }
          ],
          "scatterpolargl": [
           {
            "type": "scatterpolargl",
            "marker": {
             "colorbar": {
              "outlinewidth": 0,
              "ticks": ""
             }
            }
           }
          ],
          "bar": [
           {
            "error_x": {
             "color": "#2a3f5f"
            },
            "error_y": {
             "color": "#2a3f5f"
            },
            "marker": {
             "line": {
              "color": "#E5ECF6",
              "width": 0.5
             },
             "pattern": {
              "fillmode": "overlay",
              "size": 10,
              "solidity": 0.2
             }
            },
            "type": "bar"
           }
          ],
          "scattergeo": [
           {
            "type": "scattergeo",
            "marker": {
             "colorbar": {
              "outlinewidth": 0,
              "ticks": ""
             }
            }
           }
          ],
          "scatterpolar": [
           {
            "type": "scatterpolar",
            "marker": {
             "colorbar": {
              "outlinewidth": 0,
              "ticks": ""
             }
            }
           }
          ],
          "histogram": [
           {
            "marker": {
             "pattern": {
              "fillmode": "overlay",
              "size": 10,
              "solidity": 0.2
             }
            },
            "type": "histogram"
           }
          ],
          "scattergl": [
           {
            "type": "scattergl",
            "marker": {
             "colorbar": {
              "outlinewidth": 0,
              "ticks": ""
             }
            }
           }
          ],
          "scatter3d": [
           {
            "type": "scatter3d",
            "line": {
             "colorbar": {
              "outlinewidth": 0,
              "ticks": ""
             }
            },
            "marker": {
             "colorbar": {
              "outlinewidth": 0,
              "ticks": ""
             }
            }
           }
          ],
          "scattermapbox": [
           {
            "type": "scattermapbox",
            "marker": {
             "colorbar": {
              "outlinewidth": 0,
              "ticks": ""
             }
            }
           }
          ],
          "scatterternary": [
           {
            "type": "scatterternary",
            "marker": {
             "colorbar": {
              "outlinewidth": 0,
              "ticks": ""
             }
            }
           }
          ],
          "scattercarpet": [
           {
            "type": "scattercarpet",
            "marker": {
             "colorbar": {
              "outlinewidth": 0,
              "ticks": ""
             }
            }
           }
          ],
          "carpet": [
           {
            "aaxis": {
             "endlinecolor": "#2a3f5f",
             "gridcolor": "white",
             "linecolor": "white",
             "minorgridcolor": "white",
             "startlinecolor": "#2a3f5f"
            },
            "baxis": {
             "endlinecolor": "#2a3f5f",
             "gridcolor": "white",
             "linecolor": "white",
             "minorgridcolor": "white",
             "startlinecolor": "#2a3f5f"
            },
            "type": "carpet"
           }
          ],
          "table": [
           {
            "cells": {
             "fill": {
              "color": "#EBF0F8"
             },
             "line": {
              "color": "white"
             }
            },
            "header": {
             "fill": {
              "color": "#C8D4E3"
             },
             "line": {
              "color": "white"
             }
            },
            "type": "table"
           }
          ],
          "barpolar": [
           {
            "marker": {
             "line": {
              "color": "#E5ECF6",
              "width": 0.5
             },
             "pattern": {
              "fillmode": "overlay",
              "size": 10,
              "solidity": 0.2
             }
            },
            "type": "barpolar"
           }
          ],
          "pie": [
           {
            "automargin": true,
            "type": "pie"
           }
          ]
         },
         "layout": {
          "autotypenumbers": "strict",
          "colorway": [
           "#636efa",
           "#EF553B",
           "#00cc96",
           "#ab63fa",
           "#FFA15A",
           "#19d3f3",
           "#FF6692",
           "#B6E880",
           "#FF97FF",
           "#FECB52"
          ],
          "font": {
           "color": "#2a3f5f"
          },
          "hovermode": "closest",
          "hoverlabel": {
           "align": "left"
          },
          "paper_bgcolor": "white",
          "plot_bgcolor": "#E5ECF6",
          "polar": {
           "bgcolor": "#E5ECF6",
           "angularaxis": {
            "gridcolor": "white",
            "linecolor": "white",
            "ticks": ""
           },
           "radialaxis": {
            "gridcolor": "white",
            "linecolor": "white",
            "ticks": ""
           }
          },
          "ternary": {
           "bgcolor": "#E5ECF6",
           "aaxis": {
            "gridcolor": "white",
            "linecolor": "white",
            "ticks": ""
           },
           "baxis": {
            "gridcolor": "white",
            "linecolor": "white",
            "ticks": ""
           },
           "caxis": {
            "gridcolor": "white",
            "linecolor": "white",
            "ticks": ""
           }
          },
          "coloraxis": {
           "colorbar": {
            "outlinewidth": 0,
            "ticks": ""
           }
          },
          "colorscale": {
           "sequential": [
            [
             0.0,
             "#0d0887"
            ],
            [
             0.1111111111111111,
             "#46039f"
            ],
            [
             0.2222222222222222,
             "#7201a8"
            ],
            [
             0.3333333333333333,
             "#9c179e"
            ],
            [
             0.4444444444444444,
             "#bd3786"
            ],
            [
             0.5555555555555556,
             "#d8576b"
            ],
            [
             0.6666666666666666,
             "#ed7953"
            ],
            [
             0.7777777777777778,
             "#fb9f3a"
            ],
            [
             0.8888888888888888,
             "#fdca26"
            ],
            [
             1.0,
             "#f0f921"
            ]
           ],
           "sequentialminus": [
            [
             0.0,
             "#0d0887"
            ],
            [
             0.1111111111111111,
             "#46039f"
            ],
            [
             0.2222222222222222,
             "#7201a8"
            ],
            [
             0.3333333333333333,
             "#9c179e"
            ],
            [
             0.4444444444444444,
             "#bd3786"
            ],
            [
             0.5555555555555556,
             "#d8576b"
            ],
            [
             0.6666666666666666,
             "#ed7953"
            ],
            [
             0.7777777777777778,
             "#fb9f3a"
            ],
            [
             0.8888888888888888,
             "#fdca26"
            ],
            [
             1.0,
             "#f0f921"
            ]
           ],
           "diverging": [
            [
             0,
             "#8e0152"
            ],
            [
             0.1,
             "#c51b7d"
            ],
            [
             0.2,
             "#de77ae"
            ],
            [
             0.3,
             "#f1b6da"
            ],
            [
             0.4,
             "#fde0ef"
            ],
            [
             0.5,
             "#f7f7f7"
            ],
            [
             0.6,
             "#e6f5d0"
            ],
            [
             0.7,
             "#b8e186"
            ],
            [
             0.8,
             "#7fbc41"
            ],
            [
             0.9,
             "#4d9221"
            ],
            [
             1,
             "#276419"
            ]
           ]
          },
          "xaxis": {
           "gridcolor": "white",
           "linecolor": "white",
           "ticks": "",
           "title": {
            "standoff": 15
           },
           "zerolinecolor": "white",
           "automargin": true,
           "zerolinewidth": 2
          },
          "yaxis": {
           "gridcolor": "white",
           "linecolor": "white",
           "ticks": "",
           "title": {
            "standoff": 15
           },
           "zerolinecolor": "white",
           "automargin": true,
           "zerolinewidth": 2
          },
          "scene": {
           "xaxis": {
            "backgroundcolor": "#E5ECF6",
            "gridcolor": "white",
            "linecolor": "white",
            "showbackground": true,
            "ticks": "",
            "zerolinecolor": "white",
            "gridwidth": 2
           },
           "yaxis": {
            "backgroundcolor": "#E5ECF6",
            "gridcolor": "white",
            "linecolor": "white",
            "showbackground": true,
            "ticks": "",
            "zerolinecolor": "white",
            "gridwidth": 2
           },
           "zaxis": {
            "backgroundcolor": "#E5ECF6",
            "gridcolor": "white",
            "linecolor": "white",
            "showbackground": true,
            "ticks": "",
            "zerolinecolor": "white",
            "gridwidth": 2
           }
          },
          "shapedefaults": {
           "line": {
            "color": "#2a3f5f"
           }
          },
          "annotationdefaults": {
           "arrowcolor": "#2a3f5f",
           "arrowhead": 0,
           "arrowwidth": 1
          },
          "geo": {
           "bgcolor": "white",
           "landcolor": "#E5ECF6",
           "subunitcolor": "white",
           "showland": true,
           "showlakes": true,
           "lakecolor": "white"
          },
          "title": {
           "x": 0.05
          },
          "mapbox": {
           "style": "light"
          }
         }
        },
        "xaxis": {
         "anchor": "y",
         "domain": [
          0.0,
          1.0
         ],
         "title": {
          "text": "date"
         }
        },
        "yaxis": {
         "anchor": "x",
         "domain": [
          0.0,
          1.0
         ],
         "title": {
          "text": "deaths"
         }
        },
        "legend": {
         "tracegroupgap": 0
        },
        "margin": {
         "t": 60
        },
        "title": {
         "text": "USA Mortality Ages 25-44"
        }
       },
       "config": {
        "plotlyServerURL": "https://plot.ly"
       }
      },
      "text/html": "<div>                            <div id=\"f41927cf-c01c-4291-a1cd-b7ef4d925bc8\" class=\"plotly-graph-div\" style=\"height:525px; width:100%;\"></div>            <script type=\"text/javascript\">                require([\"plotly\"], function(Plotly) {                    window.PLOTLYENV=window.PLOTLYENV || {};                                    if (document.getElementById(\"f41927cf-c01c-4291-a1cd-b7ef4d925bc8\")) {                    Plotly.newPlot(                        \"f41927cf-c01c-4291-a1cd-b7ef4d925bc8\",                        [{\"hovertemplate\":\"date=%{x}<br>deaths=%{y}<extra></extra>\",\"legendgroup\":\"\",\"line\":{\"color\":\"#636efa\",\"dash\":\"solid\"},\"marker\":{\"symbol\":\"circle\"},\"mode\":\"lines\",\"name\":\"\",\"orientation\":\"v\",\"showlegend\":false,\"x\":[\"2020 week 50\",\"2020 week 51\",\"2020 week 51\",\"2020 week 51\",\"2020 week 51\",\"2020 week 51\",\"2020 week 51\",\"2020 week 51\",\"2020 week 52\",\"2020 week 52\",\"2020 week 52\",\"2020 week 52\",\"2020 week 52\",\"2020 week 52\",\"2020 week 52\",\"2020 week 53\",\"2020 week 53\",\"2020 week 53\",\"2020 week 53\",\"2021 week 1\",\"2021 week 1\",\"2021 week 1\",\"2021 week 1\",\"2021 week 1\",\"2021 week 1\",\"2021 week 1\",\"2021 week 2\",\"2021 week 2\",\"2021 week 2\",\"2021 week 2\",\"2021 week 2\",\"2021 week 2\",\"2021 week 2\",\"2021 week 3\",\"2021 week 3\",\"2021 week 3\",\"2021 week 3\",\"2021 week 3\",\"2021 week 3\",\"2021 week 3\",\"2021 week 4\",\"2021 week 4\",\"2021 week 4\",\"2021 week 4\",\"2021 week 4\",\"2021 week 4\",\"2021 week 4\",\"2021 week 5\",\"2021 week 5\",\"2021 week 5\",\"2021 week 5\",\"2021 week 5\",\"2021 week 5\",\"2021 week 5\",\"2021 week 6\",\"2021 week 6\",\"2021 week 6\",\"2021 week 6\",\"2021 week 6\",\"2021 week 6\",\"2021 week 6\",\"2021 week 7\",\"2021 week 7\",\"2021 week 7\",\"2021 week 7\",\"2021 week 7\",\"2021 week 7\",\"2021 week 7\",\"2021 week 8\",\"2021 week 8\",\"2021 week 8\",\"2021 week 8\",\"2021 week 8\",\"2021 week 8\",\"2021 week 8\",\"2021 week 9\",\"2021 week 9\",\"2021 week 9\",\"2021 week 9\",\"2021 week 9\",\"2021 week 9\",\"2021 week 9\",\"2021 week 10\",\"2021 week 10\",\"2021 week 10\",\"2021 week 10\",\"2021 week 10\",\"2021 week 10\",\"2021 week 10\",\"2021 week 11\",\"2021 week 11\",\"2021 week 11\",\"2021 week 11\",\"2021 week 11\",\"2021 week 11\",\"2021 week 11\",\"2021 week 12\",\"2021 week 12\",\"2021 week 12\",\"2021 week 12\",\"2021 week 12\",\"2021 week 12\",\"2021 week 12\",\"2021 week 13\",\"2021 week 13\",\"2021 week 13\",\"2021 week 13\",\"2021 week 13\",\"2021 week 13\",\"2021 week 13\",\"2021 week 14\",\"2021 week 14\",\"2021 week 14\",\"2021 week 14\",\"2021 week 14\",\"2021 week 14\",\"2021 week 14\",\"2021 week 15\",\"2021 week 15\",\"2021 week 15\",\"2021 week 15\",\"2021 week 15\",\"2021 week 15\",\"2021 week 15\",\"2021 week 16\",\"2021 week 16\",\"2021 week 16\",\"2021 week 16\",\"2021 week 16\",\"2021 week 16\",\"2021 week 16\",\"2021 week 17\",\"2021 week 17\",\"2021 week 17\",\"2021 week 17\",\"2021 week 17\",\"2021 week 17\",\"2021 week 17\",\"2021 week 18\",\"2021 week 18\",\"2021 week 18\",\"2021 week 18\",\"2021 week 18\",\"2021 week 18\",\"2021 week 18\",\"2021 week 19\",\"2021 week 19\",\"2021 week 19\",\"2021 week 19\",\"2021 week 19\",\"2021 week 19\",\"2021 week 19\",\"2021 week 20\",\"2021 week 20\",\"2021 week 20\",\"2021 week 20\",\"2021 week 20\",\"2021 week 20\",\"2021 week 20\",\"2021 week 21\",\"2021 week 21\",\"2021 week 21\",\"2021 week 21\",\"2021 week 21\",\"2021 week 21\",\"2021 week 21\",\"2021 week 22\",\"2021 week 22\",\"2021 week 22\",\"2021 week 22\",\"2021 week 22\",\"2021 week 22\",\"2021 week 22\",\"2021 week 23\",\"2021 week 23\",\"2021 week 23\",\"2021 week 23\",\"2021 week 23\",\"2021 week 23\",\"2021 week 23\",\"2021 week 24\",\"2021 week 24\",\"2021 week 24\",\"2021 week 24\",\"2021 week 24\",\"2021 week 24\",\"2021 week 24\",\"2021 week 25\",\"2021 week 25\",\"2021 week 25\",\"2021 week 25\",\"2021 week 25\",\"2021 week 25\",\"2021 week 25\",\"2021 week 26\",\"2021 week 26\",\"2021 week 26\",\"2021 week 26\",\"2021 week 26\",\"2021 week 26\",\"2021 week 26\",\"2021 week 27\",\"2021 week 27\",\"2021 week 27\",\"2021 week 27\",\"2021 week 27\",\"2021 week 27\",\"2021 week 27\",\"2021 week 28\",\"2021 week 28\",\"2021 week 28\",\"2021 week 28\",\"2021 week 28\",\"2021 week 28\",\"2021 week 28\",\"2021 week 29\",\"2021 week 29\",\"2021 week 29\",\"2021 week 29\",\"2021 week 29\",\"2021 week 29\",\"2021 week 29\",\"2021 week 30\",\"2021 week 30\",\"2021 week 30\",\"2021 week 30\",\"2021 week 30\",\"2021 week 30\",\"2021 week 30\",\"2021 week 31\",\"2021 week 31\",\"2021 week 31\",\"2021 week 31\",\"2021 week 31\",\"2021 week 31\",\"2021 week 31\",\"2021 week 32\",\"2021 week 32\",\"2021 week 32\",\"2021 week 32\",\"2021 week 32\",\"2021 week 32\",\"2021 week 32\",\"2021 week 33\",\"2021 week 33\",\"2021 week 33\",\"2021 week 33\",\"2021 week 33\",\"2021 week 33\",\"2021 week 33\",\"2021 week 34\",\"2021 week 34\",\"2021 week 34\",\"2021 week 34\",\"2021 week 34\",\"2021 week 34\",\"2021 week 34\",\"2021 week 35\",\"2021 week 35\",\"2021 week 35\",\"2021 week 35\",\"2021 week 35\",\"2021 week 35\",\"2021 week 35\",\"2021 week 36\",\"2021 week 36\",\"2021 week 36\",\"2021 week 36\",\"2021 week 36\",\"2021 week 36\",\"2021 week 36\",\"2021 week 37\",\"2021 week 37\",\"2021 week 37\",\"2021 week 37\",\"2021 week 37\",\"2021 week 37\",\"2021 week 37\",\"2021 week 38\",\"2021 week 38\",\"2021 week 38\",\"2021 week 38\",\"2021 week 38\",\"2021 week 38\",\"2021 week 38\",\"2021 week 39\",\"2021 week 39\",\"2021 week 39\",\"2021 week 39\",\"2021 week 39\",\"2021 week 39\",\"2021 week 39\",\"2021 week 40\",\"2021 week 40\",\"2021 week 40\",\"2021 week 40\",\"2021 week 40\",\"2021 week 40\",\"2021 week 40\",\"2021 week 41\",\"2021 week 41\",\"2021 week 41\",\"2021 week 41\",\"2021 week 41\",\"2021 week 41\",\"2021 week 41\",\"2021 week 42\",\"2021 week 42\",\"2021 week 42\",\"2021 week 42\",\"2021 week 42\",\"2021 week 42\",\"2021 week 42\",\"2021 week 43\",\"2021 week 43\",\"2021 week 43\",\"2021 week 43\",\"2021 week 43\",\"2021 week 43\",\"2021 week 43\",\"2021 week 44\",\"2021 week 44\",\"2021 week 44\",\"2021 week 44\",\"2021 week 44\",\"2021 week 44\",\"2021 week 44\",\"2021 week 45\",\"2021 week 45\",\"2021 week 45\",\"2021 week 45\",\"2021 week 45\",\"2021 week 45\",\"2021 week 45\",\"2021 week 46\",\"2021 week 46\",\"2021 week 46\",\"2021 week 46\",\"2021 week 46\",\"2021 week 46\",\"2021 week 46\",\"2021 week 47\",\"2021 week 47\",\"2021 week 47\",\"2021 week 47\",\"2021 week 47\",\"2021 week 47\",\"2021 week 47\",\"2021 week 48\",\"2021 week 48\",\"2021 week 48\",\"2021 week 48\",\"2021 week 48\",\"2021 week 48\",\"2021 week 48\",\"2021 week 49\",\"2021 week 49\",\"2021 week 49\",\"2021 week 49\",\"2021 week 49\",\"2021 week 49\",\"2021 week 49\",\"2021 week 50\",\"2021 week 50\",\"2021 week 50\",\"2021 week 50\",\"2021 week 50\",\"2021 week 50\",\"2021 week 50\",\"2021 week 51\",\"2021 week 51\",\"2021 week 51\",\"2021 week 51\",\"2021 week 51\",\"2021 week 51\",\"2021 week 51\",\"2021 week 52\",\"2021 week 52\",\"2021 week 52\",\"2021 week 52\",\"2021 week 52\",\"2022 week 1\",\"2022 week 1\",\"2022 week 1\",\"2022 week 1\",\"2022 week 1\",\"2022 week 1\",\"2022 week 1\",\"2022 week 2\",\"2022 week 2\",\"2022 week 2\",\"2022 week 2\",\"2022 week 2\",\"2022 week 2\",\"2022 week 2\",\"2022 week 3\",\"2022 week 3\",\"2022 week 3\",\"2022 week 3\",\"2022 week 3\",\"2022 week 3\",\"2022 week 3\",\"2022 week 4\",\"2022 week 4\",\"2022 week 4\",\"2022 week 4\",\"2022 week 4\",\"2022 week 4\",\"2022 week 4\",\"2022 week 5\",\"2022 week 5\",\"2022 week 5\",\"2022 week 5\",\"2022 week 5\",\"2022 week 5\",\"2022 week 5\",\"2022 week 6\",\"2022 week 6\",\"2022 week 6\",\"2022 week 6\",\"2022 week 6\",\"2022 week 6\",\"2022 week 6\",\"2022 week 7\",\"2022 week 7\",\"2022 week 7\",\"2022 week 7\",\"2022 week 7\",\"2022 week 7\",\"2022 week 7\",\"2022 week 8\",\"2022 week 8\",\"2022 week 8\",\"2022 week 8\",\"2022 week 8\",\"2022 week 8\",\"2022 week 8\",\"2022 week 9\",\"2022 week 9\",\"2022 week 9\",\"2022 week 9\",\"2022 week 9\",\"2022 week 9\",\"2022 week 9\",\"2022 week 10\",\"2022 week 10\",\"2022 week 10\",\"2022 week 10\",\"2022 week 10\",\"2022 week 10\",\"2022 week 10\",\"2022 week 11\",\"2022 week 11\",\"2022 week 11\",\"2022 week 11\",\"2022 week 11\",\"2022 week 11\",\"2022 week 11\",\"2022 week 12\",\"2022 week 12\",\"2022 week 12\",\"2022 week 12\",\"2022 week 12\",\"2022 week 12\",\"2022 week 12\"],\"xaxis\":\"x\",\"y\":[3644,3695,3695,3695,3695,3695,3695,3695,3742,3742,3742,3742,3742,3742,3742,4059,4059,4059,4059,4089,4089,4089,4089,4089,4089,4089,4046,4046,4046,4046,4046,4046,4046,3845,3845,3845,3845,3845,3845,3845,3678,3678,3678,3678,3678,3678,3678,3841,3841,3841,3841,3841,3841,3841,3688,3688,3688,3688,3688,3688,3688,3421,3421,3421,3421,3421,3421,3421,3500,3500,3500,3500,3500,3500,3500,3542,3542,3542,3542,3542,3542,3542,3494,3494,3494,3494,3494,3494,3494,3637,3637,3637,3637,3637,3637,3637,3607,3607,3607,3607,3607,3607,3607,3654,3654,3654,3654,3654,3654,3654,3803,3803,3803,3803,3803,3803,3803,3635,3635,3635,3635,3635,3635,3635,3690,3690,3690,3690,3690,3690,3690,3557,3557,3557,3557,3557,3557,3557,3768,3768,3768,3768,3768,3768,3768,3635,3635,3635,3635,3635,3635,3635,3682,3682,3682,3682,3682,3682,3682,3676,3676,3676,3676,3676,3676,3676,3681,3681,3681,3681,3681,3681,3681,3854,3854,3854,3854,3854,3854,3854,3844,3844,3844,3844,3844,3844,3844,3639,3639,3639,3639,3639,3639,3639,3720,3720,3720,3720,3720,3720,3720,3763,3763,3763,3763,3763,3763,3763,3739,3739,3739,3739,3739,3739,3739,3826,3826,3826,3826,3826,3826,3826,4062,4062,4062,4062,4062,4062,4062,4419,4419,4419,4419,4419,4419,4419,4616,4616,4616,4616,4616,4616,4616,4740,4740,4740,4740,4740,4740,4740,4907,4907,4907,4907,4907,4907,4907,5061,5061,5061,5061,5061,5061,5061,5046,5046,5046,5046,5046,5046,5046,4899,4899,4899,4899,4899,4899,4899,4966,4966,4966,4966,4966,4966,4966,4627,4627,4627,4627,4627,4627,4627,4380,4380,4380,4380,4380,4380,4380,4295,4295,4295,4295,4295,4295,4295,4119,4119,4119,4119,4119,4119,4119,4044,4044,4044,4044,4044,4044,4044,4046,4046,4046,4046,4046,4046,4046,3946,3946,3946,3946,3946,3946,3946,3862,3862,3862,3862,3862,3862,3862,3997,3997,3997,3997,3997,3997,3997,3821,3821,3821,3821,3821,3821,3821,4076,4076,4076,4076,4076,4076,4076,3990,3990,3990,3990,3990,3990,3990,4050,4050,4050,4050,4050,4050,4050,4327,4327,4327,4327,4327,4272,4272,4272,4272,4272,4272,4272,4195,4195,4195,4195,4195,4195,4195,4044,4044,4044,4044,4044,4044,4044,3839,3839,3839,3839,3839,3839,3839,3822,3822,3822,3822,3822,3822,3822,3884,3884,3884,3884,3884,3884,3884,3694,3694,3694,3694,3694,3694,3694,3462,3462,3462,3462,3462,3462,3462,3442,3442,3442,3442,3442,3442,3442,3796,3796,3796,3796,3796,3796,3796,3814,3814,3814,3814,3814,3814,3814,3811,3811,3811,3811,3811,3811,3811],\"yaxis\":\"y\",\"type\":\"scatter\"}],                        {\"template\":{\"data\":{\"histogram2dcontour\":[{\"type\":\"histogram2dcontour\",\"colorbar\":{\"outlinewidth\":0,\"ticks\":\"\"},\"colorscale\":[[0.0,\"#0d0887\"],[0.1111111111111111,\"#46039f\"],[0.2222222222222222,\"#7201a8\"],[0.3333333333333333,\"#9c179e\"],[0.4444444444444444,\"#bd3786\"],[0.5555555555555556,\"#d8576b\"],[0.6666666666666666,\"#ed7953\"],[0.7777777777777778,\"#fb9f3a\"],[0.8888888888888888,\"#fdca26\"],[1.0,\"#f0f921\"]]}],\"choropleth\":[{\"type\":\"choropleth\",\"colorbar\":{\"outlinewidth\":0,\"ticks\":\"\"}}],\"histogram2d\":[{\"type\":\"histogram2d\",\"colorbar\":{\"outlinewidth\":0,\"ticks\":\"\"},\"colorscale\":[[0.0,\"#0d0887\"],[0.1111111111111111,\"#46039f\"],[0.2222222222222222,\"#7201a8\"],[0.3333333333333333,\"#9c179e\"],[0.4444444444444444,\"#bd3786\"],[0.5555555555555556,\"#d8576b\"],[0.6666666666666666,\"#ed7953\"],[0.7777777777777778,\"#fb9f3a\"],[0.8888888888888888,\"#fdca26\"],[1.0,\"#f0f921\"]]}],\"heatmap\":[{\"type\":\"heatmap\",\"colorbar\":{\"outlinewidth\":0,\"ticks\":\"\"},\"colorscale\":[[0.0,\"#0d0887\"],[0.1111111111111111,\"#46039f\"],[0.2222222222222222,\"#7201a8\"],[0.3333333333333333,\"#9c179e\"],[0.4444444444444444,\"#bd3786\"],[0.5555555555555556,\"#d8576b\"],[0.6666666666666666,\"#ed7953\"],[0.7777777777777778,\"#fb9f3a\"],[0.8888888888888888,\"#fdca26\"],[1.0,\"#f0f921\"]]}],\"heatmapgl\":[{\"type\":\"heatmapgl\",\"colorbar\":{\"outlinewidth\":0,\"ticks\":\"\"},\"colorscale\":[[0.0,\"#0d0887\"],[0.1111111111111111,\"#46039f\"],[0.2222222222222222,\"#7201a8\"],[0.3333333333333333,\"#9c179e\"],[0.4444444444444444,\"#bd3786\"],[0.5555555555555556,\"#d8576b\"],[0.6666666666666666,\"#ed7953\"],[0.7777777777777778,\"#fb9f3a\"],[0.8888888888888888,\"#fdca26\"],[1.0,\"#f0f921\"]]}],\"contourcarpet\":[{\"type\":\"contourcarpet\",\"colorbar\":{\"outlinewidth\":0,\"ticks\":\"\"}}],\"contour\":[{\"type\":\"contour\",\"colorbar\":{\"outlinewidth\":0,\"ticks\":\"\"},\"colorscale\":[[0.0,\"#0d0887\"],[0.1111111111111111,\"#46039f\"],[0.2222222222222222,\"#7201a8\"],[0.3333333333333333,\"#9c179e\"],[0.4444444444444444,\"#bd3786\"],[0.5555555555555556,\"#d8576b\"],[0.6666666666666666,\"#ed7953\"],[0.7777777777777778,\"#fb9f3a\"],[0.8888888888888888,\"#fdca26\"],[1.0,\"#f0f921\"]]}],\"surface\":[{\"type\":\"surface\",\"colorbar\":{\"outlinewidth\":0,\"ticks\":\"\"},\"colorscale\":[[0.0,\"#0d0887\"],[0.1111111111111111,\"#46039f\"],[0.2222222222222222,\"#7201a8\"],[0.3333333333333333,\"#9c179e\"],[0.4444444444444444,\"#bd3786\"],[0.5555555555555556,\"#d8576b\"],[0.6666666666666666,\"#ed7953\"],[0.7777777777777778,\"#fb9f3a\"],[0.8888888888888888,\"#fdca26\"],[1.0,\"#f0f921\"]]}],\"mesh3d\":[{\"type\":\"mesh3d\",\"colorbar\":{\"outlinewidth\":0,\"ticks\":\"\"}}],\"scatter\":[{\"fillpattern\":{\"fillmode\":\"overlay\",\"size\":10,\"solidity\":0.2},\"type\":\"scatter\"}],\"parcoords\":[{\"type\":\"parcoords\",\"line\":{\"colorbar\":{\"outlinewidth\":0,\"ticks\":\"\"}}}],\"scatterpolargl\":[{\"type\":\"scatterpolargl\",\"marker\":{\"colorbar\":{\"outlinewidth\":0,\"ticks\":\"\"}}}],\"bar\":[{\"error_x\":{\"color\":\"#2a3f5f\"},\"error_y\":{\"color\":\"#2a3f5f\"},\"marker\":{\"line\":{\"color\":\"#E5ECF6\",\"width\":0.5},\"pattern\":{\"fillmode\":\"overlay\",\"size\":10,\"solidity\":0.2}},\"type\":\"bar\"}],\"scattergeo\":[{\"type\":\"scattergeo\",\"marker\":{\"colorbar\":{\"outlinewidth\":0,\"ticks\":\"\"}}}],\"scatterpolar\":[{\"type\":\"scatterpolar\",\"marker\":{\"colorbar\":{\"outlinewidth\":0,\"ticks\":\"\"}}}],\"histogram\":[{\"marker\":{\"pattern\":{\"fillmode\":\"overlay\",\"size\":10,\"solidity\":0.2}},\"type\":\"histogram\"}],\"scattergl\":[{\"type\":\"scattergl\",\"marker\":{\"colorbar\":{\"outlinewidth\":0,\"ticks\":\"\"}}}],\"scatter3d\":[{\"type\":\"scatter3d\",\"line\":{\"colorbar\":{\"outlinewidth\":0,\"ticks\":\"\"}},\"marker\":{\"colorbar\":{\"outlinewidth\":0,\"ticks\":\"\"}}}],\"scattermapbox\":[{\"type\":\"scattermapbox\",\"marker\":{\"colorbar\":{\"outlinewidth\":0,\"ticks\":\"\"}}}],\"scatterternary\":[{\"type\":\"scatterternary\",\"marker\":{\"colorbar\":{\"outlinewidth\":0,\"ticks\":\"\"}}}],\"scattercarpet\":[{\"type\":\"scattercarpet\",\"marker\":{\"colorbar\":{\"outlinewidth\":0,\"ticks\":\"\"}}}],\"carpet\":[{\"aaxis\":{\"endlinecolor\":\"#2a3f5f\",\"gridcolor\":\"white\",\"linecolor\":\"white\",\"minorgridcolor\":\"white\",\"startlinecolor\":\"#2a3f5f\"},\"baxis\":{\"endlinecolor\":\"#2a3f5f\",\"gridcolor\":\"white\",\"linecolor\":\"white\",\"minorgridcolor\":\"white\",\"startlinecolor\":\"#2a3f5f\"},\"type\":\"carpet\"}],\"table\":[{\"cells\":{\"fill\":{\"color\":\"#EBF0F8\"},\"line\":{\"color\":\"white\"}},\"header\":{\"fill\":{\"color\":\"#C8D4E3\"},\"line\":{\"color\":\"white\"}},\"type\":\"table\"}],\"barpolar\":[{\"marker\":{\"line\":{\"color\":\"#E5ECF6\",\"width\":0.5},\"pattern\":{\"fillmode\":\"overlay\",\"size\":10,\"solidity\":0.2}},\"type\":\"barpolar\"}],\"pie\":[{\"automargin\":true,\"type\":\"pie\"}]},\"layout\":{\"autotypenumbers\":\"strict\",\"colorway\":[\"#636efa\",\"#EF553B\",\"#00cc96\",\"#ab63fa\",\"#FFA15A\",\"#19d3f3\",\"#FF6692\",\"#B6E880\",\"#FF97FF\",\"#FECB52\"],\"font\":{\"color\":\"#2a3f5f\"},\"hovermode\":\"closest\",\"hoverlabel\":{\"align\":\"left\"},\"paper_bgcolor\":\"white\",\"plot_bgcolor\":\"#E5ECF6\",\"polar\":{\"bgcolor\":\"#E5ECF6\",\"angularaxis\":{\"gridcolor\":\"white\",\"linecolor\":\"white\",\"ticks\":\"\"},\"radialaxis\":{\"gridcolor\":\"white\",\"linecolor\":\"white\",\"ticks\":\"\"}},\"ternary\":{\"bgcolor\":\"#E5ECF6\",\"aaxis\":{\"gridcolor\":\"white\",\"linecolor\":\"white\",\"ticks\":\"\"},\"baxis\":{\"gridcolor\":\"white\",\"linecolor\":\"white\",\"ticks\":\"\"},\"caxis\":{\"gridcolor\":\"white\",\"linecolor\":\"white\",\"ticks\":\"\"}},\"coloraxis\":{\"colorbar\":{\"outlinewidth\":0,\"ticks\":\"\"}},\"colorscale\":{\"sequential\":[[0.0,\"#0d0887\"],[0.1111111111111111,\"#46039f\"],[0.2222222222222222,\"#7201a8\"],[0.3333333333333333,\"#9c179e\"],[0.4444444444444444,\"#bd3786\"],[0.5555555555555556,\"#d8576b\"],[0.6666666666666666,\"#ed7953\"],[0.7777777777777778,\"#fb9f3a\"],[0.8888888888888888,\"#fdca26\"],[1.0,\"#f0f921\"]],\"sequentialminus\":[[0.0,\"#0d0887\"],[0.1111111111111111,\"#46039f\"],[0.2222222222222222,\"#7201a8\"],[0.3333333333333333,\"#9c179e\"],[0.4444444444444444,\"#bd3786\"],[0.5555555555555556,\"#d8576b\"],[0.6666666666666666,\"#ed7953\"],[0.7777777777777778,\"#fb9f3a\"],[0.8888888888888888,\"#fdca26\"],[1.0,\"#f0f921\"]],\"diverging\":[[0,\"#8e0152\"],[0.1,\"#c51b7d\"],[0.2,\"#de77ae\"],[0.3,\"#f1b6da\"],[0.4,\"#fde0ef\"],[0.5,\"#f7f7f7\"],[0.6,\"#e6f5d0\"],[0.7,\"#b8e186\"],[0.8,\"#7fbc41\"],[0.9,\"#4d9221\"],[1,\"#276419\"]]},\"xaxis\":{\"gridcolor\":\"white\",\"linecolor\":\"white\",\"ticks\":\"\",\"title\":{\"standoff\":15},\"zerolinecolor\":\"white\",\"automargin\":true,\"zerolinewidth\":2},\"yaxis\":{\"gridcolor\":\"white\",\"linecolor\":\"white\",\"ticks\":\"\",\"title\":{\"standoff\":15},\"zerolinecolor\":\"white\",\"automargin\":true,\"zerolinewidth\":2},\"scene\":{\"xaxis\":{\"backgroundcolor\":\"#E5ECF6\",\"gridcolor\":\"white\",\"linecolor\":\"white\",\"showbackground\":true,\"ticks\":\"\",\"zerolinecolor\":\"white\",\"gridwidth\":2},\"yaxis\":{\"backgroundcolor\":\"#E5ECF6\",\"gridcolor\":\"white\",\"linecolor\":\"white\",\"showbackground\":true,\"ticks\":\"\",\"zerolinecolor\":\"white\",\"gridwidth\":2},\"zaxis\":{\"backgroundcolor\":\"#E5ECF6\",\"gridcolor\":\"white\",\"linecolor\":\"white\",\"showbackground\":true,\"ticks\":\"\",\"zerolinecolor\":\"white\",\"gridwidth\":2}},\"shapedefaults\":{\"line\":{\"color\":\"#2a3f5f\"}},\"annotationdefaults\":{\"arrowcolor\":\"#2a3f5f\",\"arrowhead\":0,\"arrowwidth\":1},\"geo\":{\"bgcolor\":\"white\",\"landcolor\":\"#E5ECF6\",\"subunitcolor\":\"white\",\"showland\":true,\"showlakes\":true,\"lakecolor\":\"white\"},\"title\":{\"x\":0.05},\"mapbox\":{\"style\":\"light\"}}},\"xaxis\":{\"anchor\":\"y\",\"domain\":[0.0,1.0],\"title\":{\"text\":\"date\"}},\"yaxis\":{\"anchor\":\"x\",\"domain\":[0.0,1.0],\"title\":{\"text\":\"deaths\"}},\"legend\":{\"tracegroupgap\":0},\"margin\":{\"t\":60},\"title\":{\"text\":\"USA Mortality Ages 25-44\"}},                        {\"responsive\": true}                    ).then(function(){\n                            \nvar gd = document.getElementById('f41927cf-c01c-4291-a1cd-b7ef4d925bc8');\nvar x = new MutationObserver(function (mutations, observer) {{\n        var display = window.getComputedStyle(gd).display;\n        if (!display || display === 'none') {{\n            console.log([gd, 'removed!']);\n            Plotly.purge(gd);\n            observer.disconnect();\n        }}\n}});\n\n// Listen for the removal of the full notebook cells\nvar notebookContainer = gd.closest('#notebook-container');\nif (notebookContainer) {{\n    x.observe(notebookContainer, {childList: true});\n}}\n\n// Listen for the clearing of the current output cell\nvar outputEl = gd.closest('.output');\nif (outputEl) {{\n    x.observe(outputEl, {childList: true});\n}}\n\n                        })                };                });            </script>        </div>"
     },
     "metadata": {},
     "output_type": "display_data"
    }
   ],
   "source": [
    "fig = px.line(df, x=\"date\", y=\"deaths\")\n",
    "fig.update_layout(title_text=\"USA Mortality Ages 25-44\")\n",
    "fig.show()"
   ],
   "metadata": {
    "collapsed": false,
    "pycharm": {
     "name": "#%%\n"
    }
   }
  },
  {
   "cell_type": "code",
   "execution_count": 93,
   "outputs": [
    {
     "data": {
      "application/vnd.plotly.v1+json": {
       "data": [
        {
         "hovertemplate": "date=%{x}<br>administered_dose1=%{y}<extra></extra>",
         "legendgroup": "",
         "line": {
          "color": "#636efa",
          "dash": "solid"
         },
         "marker": {
          "symbol": "circle"
         },
         "mode": "lines",
         "name": "",
         "orientation": "v",
         "showlegend": false,
         "x": [
          "2020 week 50",
          "2020 week 51",
          "2020 week 51",
          "2020 week 51",
          "2020 week 51",
          "2020 week 51",
          "2020 week 51",
          "2020 week 51",
          "2020 week 52",
          "2020 week 52",
          "2020 week 52",
          "2020 week 52",
          "2020 week 52",
          "2020 week 52",
          "2020 week 52",
          "2020 week 53",
          "2020 week 53",
          "2020 week 53",
          "2020 week 53",
          "2021 week 1",
          "2021 week 1",
          "2021 week 1",
          "2021 week 1",
          "2021 week 1",
          "2021 week 1",
          "2021 week 1",
          "2021 week 2",
          "2021 week 2",
          "2021 week 2",
          "2021 week 2",
          "2021 week 2",
          "2021 week 2",
          "2021 week 2",
          "2021 week 3",
          "2021 week 3",
          "2021 week 3",
          "2021 week 3",
          "2021 week 3",
          "2021 week 3",
          "2021 week 3",
          "2021 week 4",
          "2021 week 4",
          "2021 week 4",
          "2021 week 4",
          "2021 week 4",
          "2021 week 4",
          "2021 week 4",
          "2021 week 5",
          "2021 week 5",
          "2021 week 5",
          "2021 week 5",
          "2021 week 5",
          "2021 week 5",
          "2021 week 5",
          "2021 week 6",
          "2021 week 6",
          "2021 week 6",
          "2021 week 6",
          "2021 week 6",
          "2021 week 6",
          "2021 week 6",
          "2021 week 7",
          "2021 week 7",
          "2021 week 7",
          "2021 week 7",
          "2021 week 7",
          "2021 week 7",
          "2021 week 7",
          "2021 week 8",
          "2021 week 8",
          "2021 week 8",
          "2021 week 8",
          "2021 week 8",
          "2021 week 8",
          "2021 week 8",
          "2021 week 9",
          "2021 week 9",
          "2021 week 9",
          "2021 week 9",
          "2021 week 9",
          "2021 week 9",
          "2021 week 9",
          "2021 week 10",
          "2021 week 10",
          "2021 week 10",
          "2021 week 10",
          "2021 week 10",
          "2021 week 10",
          "2021 week 10",
          "2021 week 11",
          "2021 week 11",
          "2021 week 11",
          "2021 week 11",
          "2021 week 11",
          "2021 week 11",
          "2021 week 11",
          "2021 week 12",
          "2021 week 12",
          "2021 week 12",
          "2021 week 12",
          "2021 week 12",
          "2021 week 12",
          "2021 week 12",
          "2021 week 13",
          "2021 week 13",
          "2021 week 13",
          "2021 week 13",
          "2021 week 13",
          "2021 week 13",
          "2021 week 13",
          "2021 week 14",
          "2021 week 14",
          "2021 week 14",
          "2021 week 14",
          "2021 week 14",
          "2021 week 14",
          "2021 week 14",
          "2021 week 15",
          "2021 week 15",
          "2021 week 15",
          "2021 week 15",
          "2021 week 15",
          "2021 week 15",
          "2021 week 15",
          "2021 week 16",
          "2021 week 16",
          "2021 week 16",
          "2021 week 16",
          "2021 week 16",
          "2021 week 16",
          "2021 week 16",
          "2021 week 17",
          "2021 week 17",
          "2021 week 17",
          "2021 week 17",
          "2021 week 17",
          "2021 week 17",
          "2021 week 17",
          "2021 week 18",
          "2021 week 18",
          "2021 week 18",
          "2021 week 18",
          "2021 week 18",
          "2021 week 18",
          "2021 week 18",
          "2021 week 19",
          "2021 week 19",
          "2021 week 19",
          "2021 week 19",
          "2021 week 19",
          "2021 week 19",
          "2021 week 19",
          "2021 week 20",
          "2021 week 20",
          "2021 week 20",
          "2021 week 20",
          "2021 week 20",
          "2021 week 20",
          "2021 week 20",
          "2021 week 21",
          "2021 week 21",
          "2021 week 21",
          "2021 week 21",
          "2021 week 21",
          "2021 week 21",
          "2021 week 21",
          "2021 week 22",
          "2021 week 22",
          "2021 week 22",
          "2021 week 22",
          "2021 week 22",
          "2021 week 22",
          "2021 week 22",
          "2021 week 23",
          "2021 week 23",
          "2021 week 23",
          "2021 week 23",
          "2021 week 23",
          "2021 week 23",
          "2021 week 23",
          "2021 week 24",
          "2021 week 24",
          "2021 week 24",
          "2021 week 24",
          "2021 week 24",
          "2021 week 24",
          "2021 week 24",
          "2021 week 25",
          "2021 week 25",
          "2021 week 25",
          "2021 week 25",
          "2021 week 25",
          "2021 week 25",
          "2021 week 25",
          "2021 week 26",
          "2021 week 26",
          "2021 week 26",
          "2021 week 26",
          "2021 week 26",
          "2021 week 26",
          "2021 week 26",
          "2021 week 27",
          "2021 week 27",
          "2021 week 27",
          "2021 week 27",
          "2021 week 27",
          "2021 week 27",
          "2021 week 27",
          "2021 week 28",
          "2021 week 28",
          "2021 week 28",
          "2021 week 28",
          "2021 week 28",
          "2021 week 28",
          "2021 week 28",
          "2021 week 29",
          "2021 week 29",
          "2021 week 29",
          "2021 week 29",
          "2021 week 29",
          "2021 week 29",
          "2021 week 29",
          "2021 week 30",
          "2021 week 30",
          "2021 week 30",
          "2021 week 30",
          "2021 week 30",
          "2021 week 30",
          "2021 week 30",
          "2021 week 31",
          "2021 week 31",
          "2021 week 31",
          "2021 week 31",
          "2021 week 31",
          "2021 week 31",
          "2021 week 31",
          "2021 week 32",
          "2021 week 32",
          "2021 week 32",
          "2021 week 32",
          "2021 week 32",
          "2021 week 32",
          "2021 week 32",
          "2021 week 33",
          "2021 week 33",
          "2021 week 33",
          "2021 week 33",
          "2021 week 33",
          "2021 week 33",
          "2021 week 33",
          "2021 week 34",
          "2021 week 34",
          "2021 week 34",
          "2021 week 34",
          "2021 week 34",
          "2021 week 34",
          "2021 week 34",
          "2021 week 35",
          "2021 week 35",
          "2021 week 35",
          "2021 week 35",
          "2021 week 35",
          "2021 week 35",
          "2021 week 35",
          "2021 week 36",
          "2021 week 36",
          "2021 week 36",
          "2021 week 36",
          "2021 week 36",
          "2021 week 36",
          "2021 week 36",
          "2021 week 37",
          "2021 week 37",
          "2021 week 37",
          "2021 week 37",
          "2021 week 37",
          "2021 week 37",
          "2021 week 37",
          "2021 week 38",
          "2021 week 38",
          "2021 week 38",
          "2021 week 38",
          "2021 week 38",
          "2021 week 38",
          "2021 week 38",
          "2021 week 39",
          "2021 week 39",
          "2021 week 39",
          "2021 week 39",
          "2021 week 39",
          "2021 week 39",
          "2021 week 39",
          "2021 week 40",
          "2021 week 40",
          "2021 week 40",
          "2021 week 40",
          "2021 week 40",
          "2021 week 40",
          "2021 week 40",
          "2021 week 41",
          "2021 week 41",
          "2021 week 41",
          "2021 week 41",
          "2021 week 41",
          "2021 week 41",
          "2021 week 41",
          "2021 week 42",
          "2021 week 42",
          "2021 week 42",
          "2021 week 42",
          "2021 week 42",
          "2021 week 42",
          "2021 week 42",
          "2021 week 43",
          "2021 week 43",
          "2021 week 43",
          "2021 week 43",
          "2021 week 43",
          "2021 week 43",
          "2021 week 43",
          "2021 week 44",
          "2021 week 44",
          "2021 week 44",
          "2021 week 44",
          "2021 week 44",
          "2021 week 44",
          "2021 week 44",
          "2021 week 45",
          "2021 week 45",
          "2021 week 45",
          "2021 week 45",
          "2021 week 45",
          "2021 week 45",
          "2021 week 45",
          "2021 week 46",
          "2021 week 46",
          "2021 week 46",
          "2021 week 46",
          "2021 week 46",
          "2021 week 46",
          "2021 week 46",
          "2021 week 47",
          "2021 week 47",
          "2021 week 47",
          "2021 week 47",
          "2021 week 47",
          "2021 week 47",
          "2021 week 47",
          "2021 week 48",
          "2021 week 48",
          "2021 week 48",
          "2021 week 48",
          "2021 week 48",
          "2021 week 48",
          "2021 week 48",
          "2021 week 49",
          "2021 week 49",
          "2021 week 49",
          "2021 week 49",
          "2021 week 49",
          "2021 week 49",
          "2021 week 49",
          "2021 week 50",
          "2021 week 50",
          "2021 week 50",
          "2021 week 50",
          "2021 week 50",
          "2021 week 50",
          "2021 week 50",
          "2021 week 51",
          "2021 week 51",
          "2021 week 51",
          "2021 week 51",
          "2021 week 51",
          "2021 week 51",
          "2021 week 51",
          "2021 week 52",
          "2021 week 52",
          "2021 week 52",
          "2021 week 52",
          "2021 week 52",
          "2022 week 1",
          "2022 week 1",
          "2022 week 1",
          "2022 week 1",
          "2022 week 1",
          "2022 week 1",
          "2022 week 1",
          "2022 week 2",
          "2022 week 2",
          "2022 week 2",
          "2022 week 2",
          "2022 week 2",
          "2022 week 2",
          "2022 week 2",
          "2022 week 3",
          "2022 week 3",
          "2022 week 3",
          "2022 week 3",
          "2022 week 3",
          "2022 week 3",
          "2022 week 3",
          "2022 week 4",
          "2022 week 4",
          "2022 week 4",
          "2022 week 4",
          "2022 week 4",
          "2022 week 4",
          "2022 week 4",
          "2022 week 5",
          "2022 week 5",
          "2022 week 5",
          "2022 week 5",
          "2022 week 5",
          "2022 week 5",
          "2022 week 5",
          "2022 week 6",
          "2022 week 6",
          "2022 week 6",
          "2022 week 6",
          "2022 week 6",
          "2022 week 6",
          "2022 week 6",
          "2022 week 7",
          "2022 week 7",
          "2022 week 7",
          "2022 week 7",
          "2022 week 7",
          "2022 week 7",
          "2022 week 7",
          "2022 week 8",
          "2022 week 8",
          "2022 week 8",
          "2022 week 8",
          "2022 week 8",
          "2022 week 8",
          "2022 week 8",
          "2022 week 9",
          "2022 week 9",
          "2022 week 9",
          "2022 week 9",
          "2022 week 9",
          "2022 week 9",
          "2022 week 9",
          "2022 week 10",
          "2022 week 10",
          "2022 week 10",
          "2022 week 10",
          "2022 week 10",
          "2022 week 10",
          "2022 week 10",
          "2022 week 11",
          "2022 week 11",
          "2022 week 11",
          "2022 week 11",
          "2022 week 11",
          "2022 week 11",
          "2022 week 11",
          "2022 week 12",
          "2022 week 12",
          "2022 week 12",
          "2022 week 12",
          "2022 week 12",
          "2022 week 12",
          "2022 week 12"
         ],
         "xaxis": "x",
         "y": [
          4592,
          427771,
          388437,
          322463,
          175820,
          79342,
          22772,
          6085,
          1020128,
          990520,
          948036,
          944162,
          882849,
          702985,
          557645,
          1700120,
          1589528,
          1371990,
          1182088,
          2769576,
          2737210,
          2662769,
          2475823,
          2291970,
          2110418,
          1945903,
          3725299,
          3691904,
          3608164,
          3422898,
          3237420,
          3063157,
          2900949,
          4489310,
          4459857,
          4383143,
          4219348,
          4067655,
          3926547,
          3803028,
          5192500,
          5162965,
          5094935,
          4948948,
          4810781,
          4686070,
          4579505,
          5834768,
          5807519,
          5726171,
          5590154,
          5461708,
          5347920,
          5262787,
          6471197,
          6440137,
          6359651,
          6228533,
          6109223,
          5998162,
          5906767,
          6940918,
          6913037,
          6849868,
          6756377,
          6678743,
          6593645,
          6522271,
          7791261,
          7722891,
          7583099,
          7382897,
          7218609,
          7089619,
          7005619,
          9214997,
          9096058,
          8880440,
          8585932,
          8331429,
          8113102,
          7936672,
          11148076,
          11020783,
          10768416,
          10400919,
          10037571,
          9715060,
          9438064,
          13401394,
          13254310,
          12974598,
          12543574,
          12126063,
          11745725,
          11409845,
          15933566,
          15776722,
          15470524,
          15013609,
          14545294,
          14104374,
          13712758,
          18988511,
          18862424,
          18511138,
          17989921,
          17372201,
          16782762,
          16306097,
          22917839,
          22666650,
          22172264,
          21483372,
          20774798,
          20074472,
          19454253,
          25882759,
          25718920,
          25376002,
          24891372,
          24376009,
          23880553,
          23377019,
          28229044,
          28083805,
          27793382,
          27400890,
          26995950,
          26597210,
          26199039,
          30065273,
          29968908,
          29766376,
          29448283,
          29133592,
          28812463,
          28497560,
          31351406,
          31289955,
          31144845,
          30917565,
          30701263,
          30473237,
          30243360,
          32451312,
          32366004,
          32212343,
          32002163,
          31833587,
          31665416,
          31484076,
          33657485,
          33580450,
          33435421,
          33231885,
          33035853,
          32837432,
          32630068,
          34551155,
          34497918,
          34404527,
          34260174,
          34115027,
          33965367,
          33807448,
          35188481,
          35145770,
          35061002,
          34936283,
          34824787,
          34705155,
          34574820,
          35783261,
          35751324,
          35681051,
          35573124,
          35473961,
          35379019,
          35279947,
          36318006,
          36287425,
          36228309,
          36133993,
          36045850,
          35957147,
          35866562,
          36815323,
          36780882,
          36722274,
          36633065,
          36553807,
          36472412,
          36392587,
          37238071,
          37230130,
          37181943,
          37105323,
          37034001,
          36957765,
          36883824,
          37669249,
          37638146,
          37584827,
          37502574,
          37429723,
          37357797,
          37290234,
          38123979,
          38088753,
          38032935,
          37947549,
          37874935,
          37806517,
          37737058,
          38741294,
          38686873,
          38609144,
          38486915,
          38385918,
          38292620,
          38204746,
          39537479,
          39473504,
          39380311,
          39229452,
          39102523,
          38975840,
          38854336,
          40449026,
          40380320,
          40276653,
          40105998,
          39957530,
          39810598,
          39669992,
          41340718,
          41278647,
          41179094,
          41014023,
          40870092,
          40732801,
          40587960,
          42180070,
          42125415,
          42038151,
          41885907,
          41748820,
          41609685,
          41472218,
          43035261,
          42977109,
          42888419,
          42730947,
          42588791,
          42448880,
          42311949,
          43800222,
          43749227,
          43679609,
          43545020,
          43420460,
          43289467,
          43161801,
          44439386,
          44388469,
          44310960,
          44169910,
          44052193,
          43936989,
          43825510,
          45064064,
          45026066,
          44964140,
          44852869,
          44753270,
          44652273,
          44549499,
          45577927,
          45545113,
          45492558,
          45397136,
          45315910,
          45234508,
          45149954,
          46057974,
          46026420,
          45977845,
          45890575,
          45810449,
          45733144,
          45656296,
          46476671,
          46449751,
          46409169,
          46329762,
          46260958,
          46192053,
          46125416,
          46874584,
          46848445,
          46807738,
          46732878,
          46668553,
          46603748,
          46539940,
          47246498,
          47221201,
          47181484,
          47109644,
          47052321,
          46995641,
          46939752,
          47654151,
          47629756,
          47591962,
          47514863,
          47448103,
          47378584,
          47312779,
          48075186,
          48047061,
          48002523,
          47919909,
          47855857,
          47787690,
          47721622,
          48479165,
          48450383,
          48406259,
          48327568,
          48265426,
          48199148,
          48136099,
          48941415,
          48906171,
          48853784,
          48764288,
          48689186,
          48616348,
          48546777,
          49311812,
          49280113,
          49237791,
          49178964,
          49177223,
          49107250,
          49023982,
          49849475,
          49810707,
          49754482,
          49651762,
          49556952,
          49462299,
          49383487,
          50364280,
          50328602,
          50276168,
          50187149,
          50103314,
          50019555,
          49934386,
          50871844,
          50831323,
          50775681,
          50684503,
          50602138,
          50521229,
          50441857,
          51309715,
          51275843,
          51275277,
          51250102,
          51165330,
          51067973,
          50967737,
          51690042,
          51655689,
          51574555,
          51486677,
          51396423,
          52221912,
          52188328,
          52134117,
          52045439,
          51964913,
          51883307,
          51803531,
          52674664,
          52649310,
          52604118,
          52522977,
          52449020,
          52374828,
          52298281,
          53008343,
          52985356,
          52949097,
          52886469,
          52832794,
          52777635,
          52720749,
          53289489,
          53271899,
          53246491,
          53194857,
          53149019,
          53103197,
          53056572,
          53502957,
          53487435,
          53463108,
          53426720,
          53396370,
          53363461,
          53328558,
          53694471,
          53683078,
          53661983,
          53626062,
          53595275,
          53564857,
          53534476,
          53851710,
          53839990,
          53822651,
          53793219,
          53768655,
          53743269,
          53717620,
          53984601,
          53974774,
          53958444,
          53934599,
          53914280,
          53892920,
          53871292,
          54094468,
          54086987,
          54075139,
          54056613,
          54040457,
          54023918,
          54005797,
          54183592,
          54177061,
          54167183,
          54151489,
          54137696,
          54123890,
          54109544,
          54265837,
          54259644,
          54250482,
          54235767,
          54223528,
          54210516,
          54196953,
          54342743,
          54337210,
          54328785,
          54315110,
          54303118,
          54290784,
          54278985
         ],
         "yaxis": "y",
         "type": "scatter"
        }
       ],
       "layout": {
        "template": {
         "data": {
          "histogram2dcontour": [
           {
            "type": "histogram2dcontour",
            "colorbar": {
             "outlinewidth": 0,
             "ticks": ""
            },
            "colorscale": [
             [
              0.0,
              "#0d0887"
             ],
             [
              0.1111111111111111,
              "#46039f"
             ],
             [
              0.2222222222222222,
              "#7201a8"
             ],
             [
              0.3333333333333333,
              "#9c179e"
             ],
             [
              0.4444444444444444,
              "#bd3786"
             ],
             [
              0.5555555555555556,
              "#d8576b"
             ],
             [
              0.6666666666666666,
              "#ed7953"
             ],
             [
              0.7777777777777778,
              "#fb9f3a"
             ],
             [
              0.8888888888888888,
              "#fdca26"
             ],
             [
              1.0,
              "#f0f921"
             ]
            ]
           }
          ],
          "choropleth": [
           {
            "type": "choropleth",
            "colorbar": {
             "outlinewidth": 0,
             "ticks": ""
            }
           }
          ],
          "histogram2d": [
           {
            "type": "histogram2d",
            "colorbar": {
             "outlinewidth": 0,
             "ticks": ""
            },
            "colorscale": [
             [
              0.0,
              "#0d0887"
             ],
             [
              0.1111111111111111,
              "#46039f"
             ],
             [
              0.2222222222222222,
              "#7201a8"
             ],
             [
              0.3333333333333333,
              "#9c179e"
             ],
             [
              0.4444444444444444,
              "#bd3786"
             ],
             [
              0.5555555555555556,
              "#d8576b"
             ],
             [
              0.6666666666666666,
              "#ed7953"
             ],
             [
              0.7777777777777778,
              "#fb9f3a"
             ],
             [
              0.8888888888888888,
              "#fdca26"
             ],
             [
              1.0,
              "#f0f921"
             ]
            ]
           }
          ],
          "heatmap": [
           {
            "type": "heatmap",
            "colorbar": {
             "outlinewidth": 0,
             "ticks": ""
            },
            "colorscale": [
             [
              0.0,
              "#0d0887"
             ],
             [
              0.1111111111111111,
              "#46039f"
             ],
             [
              0.2222222222222222,
              "#7201a8"
             ],
             [
              0.3333333333333333,
              "#9c179e"
             ],
             [
              0.4444444444444444,
              "#bd3786"
             ],
             [
              0.5555555555555556,
              "#d8576b"
             ],
             [
              0.6666666666666666,
              "#ed7953"
             ],
             [
              0.7777777777777778,
              "#fb9f3a"
             ],
             [
              0.8888888888888888,
              "#fdca26"
             ],
             [
              1.0,
              "#f0f921"
             ]
            ]
           }
          ],
          "heatmapgl": [
           {
            "type": "heatmapgl",
            "colorbar": {
             "outlinewidth": 0,
             "ticks": ""
            },
            "colorscale": [
             [
              0.0,
              "#0d0887"
             ],
             [
              0.1111111111111111,
              "#46039f"
             ],
             [
              0.2222222222222222,
              "#7201a8"
             ],
             [
              0.3333333333333333,
              "#9c179e"
             ],
             [
              0.4444444444444444,
              "#bd3786"
             ],
             [
              0.5555555555555556,
              "#d8576b"
             ],
             [
              0.6666666666666666,
              "#ed7953"
             ],
             [
              0.7777777777777778,
              "#fb9f3a"
             ],
             [
              0.8888888888888888,
              "#fdca26"
             ],
             [
              1.0,
              "#f0f921"
             ]
            ]
           }
          ],
          "contourcarpet": [
           {
            "type": "contourcarpet",
            "colorbar": {
             "outlinewidth": 0,
             "ticks": ""
            }
           }
          ],
          "contour": [
           {
            "type": "contour",
            "colorbar": {
             "outlinewidth": 0,
             "ticks": ""
            },
            "colorscale": [
             [
              0.0,
              "#0d0887"
             ],
             [
              0.1111111111111111,
              "#46039f"
             ],
             [
              0.2222222222222222,
              "#7201a8"
             ],
             [
              0.3333333333333333,
              "#9c179e"
             ],
             [
              0.4444444444444444,
              "#bd3786"
             ],
             [
              0.5555555555555556,
              "#d8576b"
             ],
             [
              0.6666666666666666,
              "#ed7953"
             ],
             [
              0.7777777777777778,
              "#fb9f3a"
             ],
             [
              0.8888888888888888,
              "#fdca26"
             ],
             [
              1.0,
              "#f0f921"
             ]
            ]
           }
          ],
          "surface": [
           {
            "type": "surface",
            "colorbar": {
             "outlinewidth": 0,
             "ticks": ""
            },
            "colorscale": [
             [
              0.0,
              "#0d0887"
             ],
             [
              0.1111111111111111,
              "#46039f"
             ],
             [
              0.2222222222222222,
              "#7201a8"
             ],
             [
              0.3333333333333333,
              "#9c179e"
             ],
             [
              0.4444444444444444,
              "#bd3786"
             ],
             [
              0.5555555555555556,
              "#d8576b"
             ],
             [
              0.6666666666666666,
              "#ed7953"
             ],
             [
              0.7777777777777778,
              "#fb9f3a"
             ],
             [
              0.8888888888888888,
              "#fdca26"
             ],
             [
              1.0,
              "#f0f921"
             ]
            ]
           }
          ],
          "mesh3d": [
           {
            "type": "mesh3d",
            "colorbar": {
             "outlinewidth": 0,
             "ticks": ""
            }
           }
          ],
          "scatter": [
           {
            "fillpattern": {
             "fillmode": "overlay",
             "size": 10,
             "solidity": 0.2
            },
            "type": "scatter"
           }
          ],
          "parcoords": [
           {
            "type": "parcoords",
            "line": {
             "colorbar": {
              "outlinewidth": 0,
              "ticks": ""
             }
            }
           }
          ],
          "scatterpolargl": [
           {
            "type": "scatterpolargl",
            "marker": {
             "colorbar": {
              "outlinewidth": 0,
              "ticks": ""
             }
            }
           }
          ],
          "bar": [
           {
            "error_x": {
             "color": "#2a3f5f"
            },
            "error_y": {
             "color": "#2a3f5f"
            },
            "marker": {
             "line": {
              "color": "#E5ECF6",
              "width": 0.5
             },
             "pattern": {
              "fillmode": "overlay",
              "size": 10,
              "solidity": 0.2
             }
            },
            "type": "bar"
           }
          ],
          "scattergeo": [
           {
            "type": "scattergeo",
            "marker": {
             "colorbar": {
              "outlinewidth": 0,
              "ticks": ""
             }
            }
           }
          ],
          "scatterpolar": [
           {
            "type": "scatterpolar",
            "marker": {
             "colorbar": {
              "outlinewidth": 0,
              "ticks": ""
             }
            }
           }
          ],
          "histogram": [
           {
            "marker": {
             "pattern": {
              "fillmode": "overlay",
              "size": 10,
              "solidity": 0.2
             }
            },
            "type": "histogram"
           }
          ],
          "scattergl": [
           {
            "type": "scattergl",
            "marker": {
             "colorbar": {
              "outlinewidth": 0,
              "ticks": ""
             }
            }
           }
          ],
          "scatter3d": [
           {
            "type": "scatter3d",
            "line": {
             "colorbar": {
              "outlinewidth": 0,
              "ticks": ""
             }
            },
            "marker": {
             "colorbar": {
              "outlinewidth": 0,
              "ticks": ""
             }
            }
           }
          ],
          "scattermapbox": [
           {
            "type": "scattermapbox",
            "marker": {
             "colorbar": {
              "outlinewidth": 0,
              "ticks": ""
             }
            }
           }
          ],
          "scatterternary": [
           {
            "type": "scatterternary",
            "marker": {
             "colorbar": {
              "outlinewidth": 0,
              "ticks": ""
             }
            }
           }
          ],
          "scattercarpet": [
           {
            "type": "scattercarpet",
            "marker": {
             "colorbar": {
              "outlinewidth": 0,
              "ticks": ""
             }
            }
           }
          ],
          "carpet": [
           {
            "aaxis": {
             "endlinecolor": "#2a3f5f",
             "gridcolor": "white",
             "linecolor": "white",
             "minorgridcolor": "white",
             "startlinecolor": "#2a3f5f"
            },
            "baxis": {
             "endlinecolor": "#2a3f5f",
             "gridcolor": "white",
             "linecolor": "white",
             "minorgridcolor": "white",
             "startlinecolor": "#2a3f5f"
            },
            "type": "carpet"
           }
          ],
          "table": [
           {
            "cells": {
             "fill": {
              "color": "#EBF0F8"
             },
             "line": {
              "color": "white"
             }
            },
            "header": {
             "fill": {
              "color": "#C8D4E3"
             },
             "line": {
              "color": "white"
             }
            },
            "type": "table"
           }
          ],
          "barpolar": [
           {
            "marker": {
             "line": {
              "color": "#E5ECF6",
              "width": 0.5
             },
             "pattern": {
              "fillmode": "overlay",
              "size": 10,
              "solidity": 0.2
             }
            },
            "type": "barpolar"
           }
          ],
          "pie": [
           {
            "automargin": true,
            "type": "pie"
           }
          ]
         },
         "layout": {
          "autotypenumbers": "strict",
          "colorway": [
           "#636efa",
           "#EF553B",
           "#00cc96",
           "#ab63fa",
           "#FFA15A",
           "#19d3f3",
           "#FF6692",
           "#B6E880",
           "#FF97FF",
           "#FECB52"
          ],
          "font": {
           "color": "#2a3f5f"
          },
          "hovermode": "closest",
          "hoverlabel": {
           "align": "left"
          },
          "paper_bgcolor": "white",
          "plot_bgcolor": "#E5ECF6",
          "polar": {
           "bgcolor": "#E5ECF6",
           "angularaxis": {
            "gridcolor": "white",
            "linecolor": "white",
            "ticks": ""
           },
           "radialaxis": {
            "gridcolor": "white",
            "linecolor": "white",
            "ticks": ""
           }
          },
          "ternary": {
           "bgcolor": "#E5ECF6",
           "aaxis": {
            "gridcolor": "white",
            "linecolor": "white",
            "ticks": ""
           },
           "baxis": {
            "gridcolor": "white",
            "linecolor": "white",
            "ticks": ""
           },
           "caxis": {
            "gridcolor": "white",
            "linecolor": "white",
            "ticks": ""
           }
          },
          "coloraxis": {
           "colorbar": {
            "outlinewidth": 0,
            "ticks": ""
           }
          },
          "colorscale": {
           "sequential": [
            [
             0.0,
             "#0d0887"
            ],
            [
             0.1111111111111111,
             "#46039f"
            ],
            [
             0.2222222222222222,
             "#7201a8"
            ],
            [
             0.3333333333333333,
             "#9c179e"
            ],
            [
             0.4444444444444444,
             "#bd3786"
            ],
            [
             0.5555555555555556,
             "#d8576b"
            ],
            [
             0.6666666666666666,
             "#ed7953"
            ],
            [
             0.7777777777777778,
             "#fb9f3a"
            ],
            [
             0.8888888888888888,
             "#fdca26"
            ],
            [
             1.0,
             "#f0f921"
            ]
           ],
           "sequentialminus": [
            [
             0.0,
             "#0d0887"
            ],
            [
             0.1111111111111111,
             "#46039f"
            ],
            [
             0.2222222222222222,
             "#7201a8"
            ],
            [
             0.3333333333333333,
             "#9c179e"
            ],
            [
             0.4444444444444444,
             "#bd3786"
            ],
            [
             0.5555555555555556,
             "#d8576b"
            ],
            [
             0.6666666666666666,
             "#ed7953"
            ],
            [
             0.7777777777777778,
             "#fb9f3a"
            ],
            [
             0.8888888888888888,
             "#fdca26"
            ],
            [
             1.0,
             "#f0f921"
            ]
           ],
           "diverging": [
            [
             0,
             "#8e0152"
            ],
            [
             0.1,
             "#c51b7d"
            ],
            [
             0.2,
             "#de77ae"
            ],
            [
             0.3,
             "#f1b6da"
            ],
            [
             0.4,
             "#fde0ef"
            ],
            [
             0.5,
             "#f7f7f7"
            ],
            [
             0.6,
             "#e6f5d0"
            ],
            [
             0.7,
             "#b8e186"
            ],
            [
             0.8,
             "#7fbc41"
            ],
            [
             0.9,
             "#4d9221"
            ],
            [
             1,
             "#276419"
            ]
           ]
          },
          "xaxis": {
           "gridcolor": "white",
           "linecolor": "white",
           "ticks": "",
           "title": {
            "standoff": 15
           },
           "zerolinecolor": "white",
           "automargin": true,
           "zerolinewidth": 2
          },
          "yaxis": {
           "gridcolor": "white",
           "linecolor": "white",
           "ticks": "",
           "title": {
            "standoff": 15
           },
           "zerolinecolor": "white",
           "automargin": true,
           "zerolinewidth": 2
          },
          "scene": {
           "xaxis": {
            "backgroundcolor": "#E5ECF6",
            "gridcolor": "white",
            "linecolor": "white",
            "showbackground": true,
            "ticks": "",
            "zerolinecolor": "white",
            "gridwidth": 2
           },
           "yaxis": {
            "backgroundcolor": "#E5ECF6",
            "gridcolor": "white",
            "linecolor": "white",
            "showbackground": true,
            "ticks": "",
            "zerolinecolor": "white",
            "gridwidth": 2
           },
           "zaxis": {
            "backgroundcolor": "#E5ECF6",
            "gridcolor": "white",
            "linecolor": "white",
            "showbackground": true,
            "ticks": "",
            "zerolinecolor": "white",
            "gridwidth": 2
           }
          },
          "shapedefaults": {
           "line": {
            "color": "#2a3f5f"
           }
          },
          "annotationdefaults": {
           "arrowcolor": "#2a3f5f",
           "arrowhead": 0,
           "arrowwidth": 1
          },
          "geo": {
           "bgcolor": "white",
           "landcolor": "#E5ECF6",
           "subunitcolor": "white",
           "showland": true,
           "showlakes": true,
           "lakecolor": "white"
          },
          "title": {
           "x": 0.05
          },
          "mapbox": {
           "style": "light"
          }
         }
        },
        "xaxis": {
         "anchor": "y",
         "domain": [
          0.0,
          1.0
         ],
         "title": {
          "text": "date"
         }
        },
        "yaxis": {
         "anchor": "x",
         "domain": [
          0.0,
          1.0
         ],
         "title": {
          "text": "administered_dose1"
         }
        },
        "legend": {
         "tracegroupgap": 0
        },
        "margin": {
         "t": 60
        },
        "title": {
         "text": "USA Administered Doses 25-39"
        }
       },
       "config": {
        "plotlyServerURL": "https://plot.ly"
       }
      },
      "text/html": "<div>                            <div id=\"950a1039-79b2-432e-b2cc-91ec322cae4b\" class=\"plotly-graph-div\" style=\"height:525px; width:100%;\"></div>            <script type=\"text/javascript\">                require([\"plotly\"], function(Plotly) {                    window.PLOTLYENV=window.PLOTLYENV || {};                                    if (document.getElementById(\"950a1039-79b2-432e-b2cc-91ec322cae4b\")) {                    Plotly.newPlot(                        \"950a1039-79b2-432e-b2cc-91ec322cae4b\",                        [{\"hovertemplate\":\"date=%{x}<br>administered_dose1=%{y}<extra></extra>\",\"legendgroup\":\"\",\"line\":{\"color\":\"#636efa\",\"dash\":\"solid\"},\"marker\":{\"symbol\":\"circle\"},\"mode\":\"lines\",\"name\":\"\",\"orientation\":\"v\",\"showlegend\":false,\"x\":[\"2020 week 50\",\"2020 week 51\",\"2020 week 51\",\"2020 week 51\",\"2020 week 51\",\"2020 week 51\",\"2020 week 51\",\"2020 week 51\",\"2020 week 52\",\"2020 week 52\",\"2020 week 52\",\"2020 week 52\",\"2020 week 52\",\"2020 week 52\",\"2020 week 52\",\"2020 week 53\",\"2020 week 53\",\"2020 week 53\",\"2020 week 53\",\"2021 week 1\",\"2021 week 1\",\"2021 week 1\",\"2021 week 1\",\"2021 week 1\",\"2021 week 1\",\"2021 week 1\",\"2021 week 2\",\"2021 week 2\",\"2021 week 2\",\"2021 week 2\",\"2021 week 2\",\"2021 week 2\",\"2021 week 2\",\"2021 week 3\",\"2021 week 3\",\"2021 week 3\",\"2021 week 3\",\"2021 week 3\",\"2021 week 3\",\"2021 week 3\",\"2021 week 4\",\"2021 week 4\",\"2021 week 4\",\"2021 week 4\",\"2021 week 4\",\"2021 week 4\",\"2021 week 4\",\"2021 week 5\",\"2021 week 5\",\"2021 week 5\",\"2021 week 5\",\"2021 week 5\",\"2021 week 5\",\"2021 week 5\",\"2021 week 6\",\"2021 week 6\",\"2021 week 6\",\"2021 week 6\",\"2021 week 6\",\"2021 week 6\",\"2021 week 6\",\"2021 week 7\",\"2021 week 7\",\"2021 week 7\",\"2021 week 7\",\"2021 week 7\",\"2021 week 7\",\"2021 week 7\",\"2021 week 8\",\"2021 week 8\",\"2021 week 8\",\"2021 week 8\",\"2021 week 8\",\"2021 week 8\",\"2021 week 8\",\"2021 week 9\",\"2021 week 9\",\"2021 week 9\",\"2021 week 9\",\"2021 week 9\",\"2021 week 9\",\"2021 week 9\",\"2021 week 10\",\"2021 week 10\",\"2021 week 10\",\"2021 week 10\",\"2021 week 10\",\"2021 week 10\",\"2021 week 10\",\"2021 week 11\",\"2021 week 11\",\"2021 week 11\",\"2021 week 11\",\"2021 week 11\",\"2021 week 11\",\"2021 week 11\",\"2021 week 12\",\"2021 week 12\",\"2021 week 12\",\"2021 week 12\",\"2021 week 12\",\"2021 week 12\",\"2021 week 12\",\"2021 week 13\",\"2021 week 13\",\"2021 week 13\",\"2021 week 13\",\"2021 week 13\",\"2021 week 13\",\"2021 week 13\",\"2021 week 14\",\"2021 week 14\",\"2021 week 14\",\"2021 week 14\",\"2021 week 14\",\"2021 week 14\",\"2021 week 14\",\"2021 week 15\",\"2021 week 15\",\"2021 week 15\",\"2021 week 15\",\"2021 week 15\",\"2021 week 15\",\"2021 week 15\",\"2021 week 16\",\"2021 week 16\",\"2021 week 16\",\"2021 week 16\",\"2021 week 16\",\"2021 week 16\",\"2021 week 16\",\"2021 week 17\",\"2021 week 17\",\"2021 week 17\",\"2021 week 17\",\"2021 week 17\",\"2021 week 17\",\"2021 week 17\",\"2021 week 18\",\"2021 week 18\",\"2021 week 18\",\"2021 week 18\",\"2021 week 18\",\"2021 week 18\",\"2021 week 18\",\"2021 week 19\",\"2021 week 19\",\"2021 week 19\",\"2021 week 19\",\"2021 week 19\",\"2021 week 19\",\"2021 week 19\",\"2021 week 20\",\"2021 week 20\",\"2021 week 20\",\"2021 week 20\",\"2021 week 20\",\"2021 week 20\",\"2021 week 20\",\"2021 week 21\",\"2021 week 21\",\"2021 week 21\",\"2021 week 21\",\"2021 week 21\",\"2021 week 21\",\"2021 week 21\",\"2021 week 22\",\"2021 week 22\",\"2021 week 22\",\"2021 week 22\",\"2021 week 22\",\"2021 week 22\",\"2021 week 22\",\"2021 week 23\",\"2021 week 23\",\"2021 week 23\",\"2021 week 23\",\"2021 week 23\",\"2021 week 23\",\"2021 week 23\",\"2021 week 24\",\"2021 week 24\",\"2021 week 24\",\"2021 week 24\",\"2021 week 24\",\"2021 week 24\",\"2021 week 24\",\"2021 week 25\",\"2021 week 25\",\"2021 week 25\",\"2021 week 25\",\"2021 week 25\",\"2021 week 25\",\"2021 week 25\",\"2021 week 26\",\"2021 week 26\",\"2021 week 26\",\"2021 week 26\",\"2021 week 26\",\"2021 week 26\",\"2021 week 26\",\"2021 week 27\",\"2021 week 27\",\"2021 week 27\",\"2021 week 27\",\"2021 week 27\",\"2021 week 27\",\"2021 week 27\",\"2021 week 28\",\"2021 week 28\",\"2021 week 28\",\"2021 week 28\",\"2021 week 28\",\"2021 week 28\",\"2021 week 28\",\"2021 week 29\",\"2021 week 29\",\"2021 week 29\",\"2021 week 29\",\"2021 week 29\",\"2021 week 29\",\"2021 week 29\",\"2021 week 30\",\"2021 week 30\",\"2021 week 30\",\"2021 week 30\",\"2021 week 30\",\"2021 week 30\",\"2021 week 30\",\"2021 week 31\",\"2021 week 31\",\"2021 week 31\",\"2021 week 31\",\"2021 week 31\",\"2021 week 31\",\"2021 week 31\",\"2021 week 32\",\"2021 week 32\",\"2021 week 32\",\"2021 week 32\",\"2021 week 32\",\"2021 week 32\",\"2021 week 32\",\"2021 week 33\",\"2021 week 33\",\"2021 week 33\",\"2021 week 33\",\"2021 week 33\",\"2021 week 33\",\"2021 week 33\",\"2021 week 34\",\"2021 week 34\",\"2021 week 34\",\"2021 week 34\",\"2021 week 34\",\"2021 week 34\",\"2021 week 34\",\"2021 week 35\",\"2021 week 35\",\"2021 week 35\",\"2021 week 35\",\"2021 week 35\",\"2021 week 35\",\"2021 week 35\",\"2021 week 36\",\"2021 week 36\",\"2021 week 36\",\"2021 week 36\",\"2021 week 36\",\"2021 week 36\",\"2021 week 36\",\"2021 week 37\",\"2021 week 37\",\"2021 week 37\",\"2021 week 37\",\"2021 week 37\",\"2021 week 37\",\"2021 week 37\",\"2021 week 38\",\"2021 week 38\",\"2021 week 38\",\"2021 week 38\",\"2021 week 38\",\"2021 week 38\",\"2021 week 38\",\"2021 week 39\",\"2021 week 39\",\"2021 week 39\",\"2021 week 39\",\"2021 week 39\",\"2021 week 39\",\"2021 week 39\",\"2021 week 40\",\"2021 week 40\",\"2021 week 40\",\"2021 week 40\",\"2021 week 40\",\"2021 week 40\",\"2021 week 40\",\"2021 week 41\",\"2021 week 41\",\"2021 week 41\",\"2021 week 41\",\"2021 week 41\",\"2021 week 41\",\"2021 week 41\",\"2021 week 42\",\"2021 week 42\",\"2021 week 42\",\"2021 week 42\",\"2021 week 42\",\"2021 week 42\",\"2021 week 42\",\"2021 week 43\",\"2021 week 43\",\"2021 week 43\",\"2021 week 43\",\"2021 week 43\",\"2021 week 43\",\"2021 week 43\",\"2021 week 44\",\"2021 week 44\",\"2021 week 44\",\"2021 week 44\",\"2021 week 44\",\"2021 week 44\",\"2021 week 44\",\"2021 week 45\",\"2021 week 45\",\"2021 week 45\",\"2021 week 45\",\"2021 week 45\",\"2021 week 45\",\"2021 week 45\",\"2021 week 46\",\"2021 week 46\",\"2021 week 46\",\"2021 week 46\",\"2021 week 46\",\"2021 week 46\",\"2021 week 46\",\"2021 week 47\",\"2021 week 47\",\"2021 week 47\",\"2021 week 47\",\"2021 week 47\",\"2021 week 47\",\"2021 week 47\",\"2021 week 48\",\"2021 week 48\",\"2021 week 48\",\"2021 week 48\",\"2021 week 48\",\"2021 week 48\",\"2021 week 48\",\"2021 week 49\",\"2021 week 49\",\"2021 week 49\",\"2021 week 49\",\"2021 week 49\",\"2021 week 49\",\"2021 week 49\",\"2021 week 50\",\"2021 week 50\",\"2021 week 50\",\"2021 week 50\",\"2021 week 50\",\"2021 week 50\",\"2021 week 50\",\"2021 week 51\",\"2021 week 51\",\"2021 week 51\",\"2021 week 51\",\"2021 week 51\",\"2021 week 51\",\"2021 week 51\",\"2021 week 52\",\"2021 week 52\",\"2021 week 52\",\"2021 week 52\",\"2021 week 52\",\"2022 week 1\",\"2022 week 1\",\"2022 week 1\",\"2022 week 1\",\"2022 week 1\",\"2022 week 1\",\"2022 week 1\",\"2022 week 2\",\"2022 week 2\",\"2022 week 2\",\"2022 week 2\",\"2022 week 2\",\"2022 week 2\",\"2022 week 2\",\"2022 week 3\",\"2022 week 3\",\"2022 week 3\",\"2022 week 3\",\"2022 week 3\",\"2022 week 3\",\"2022 week 3\",\"2022 week 4\",\"2022 week 4\",\"2022 week 4\",\"2022 week 4\",\"2022 week 4\",\"2022 week 4\",\"2022 week 4\",\"2022 week 5\",\"2022 week 5\",\"2022 week 5\",\"2022 week 5\",\"2022 week 5\",\"2022 week 5\",\"2022 week 5\",\"2022 week 6\",\"2022 week 6\",\"2022 week 6\",\"2022 week 6\",\"2022 week 6\",\"2022 week 6\",\"2022 week 6\",\"2022 week 7\",\"2022 week 7\",\"2022 week 7\",\"2022 week 7\",\"2022 week 7\",\"2022 week 7\",\"2022 week 7\",\"2022 week 8\",\"2022 week 8\",\"2022 week 8\",\"2022 week 8\",\"2022 week 8\",\"2022 week 8\",\"2022 week 8\",\"2022 week 9\",\"2022 week 9\",\"2022 week 9\",\"2022 week 9\",\"2022 week 9\",\"2022 week 9\",\"2022 week 9\",\"2022 week 10\",\"2022 week 10\",\"2022 week 10\",\"2022 week 10\",\"2022 week 10\",\"2022 week 10\",\"2022 week 10\",\"2022 week 11\",\"2022 week 11\",\"2022 week 11\",\"2022 week 11\",\"2022 week 11\",\"2022 week 11\",\"2022 week 11\",\"2022 week 12\",\"2022 week 12\",\"2022 week 12\",\"2022 week 12\",\"2022 week 12\",\"2022 week 12\",\"2022 week 12\"],\"xaxis\":\"x\",\"y\":[4592,427771,388437,322463,175820,79342,22772,6085,1020128,990520,948036,944162,882849,702985,557645,1700120,1589528,1371990,1182088,2769576,2737210,2662769,2475823,2291970,2110418,1945903,3725299,3691904,3608164,3422898,3237420,3063157,2900949,4489310,4459857,4383143,4219348,4067655,3926547,3803028,5192500,5162965,5094935,4948948,4810781,4686070,4579505,5834768,5807519,5726171,5590154,5461708,5347920,5262787,6471197,6440137,6359651,6228533,6109223,5998162,5906767,6940918,6913037,6849868,6756377,6678743,6593645,6522271,7791261,7722891,7583099,7382897,7218609,7089619,7005619,9214997,9096058,8880440,8585932,8331429,8113102,7936672,11148076,11020783,10768416,10400919,10037571,9715060,9438064,13401394,13254310,12974598,12543574,12126063,11745725,11409845,15933566,15776722,15470524,15013609,14545294,14104374,13712758,18988511,18862424,18511138,17989921,17372201,16782762,16306097,22917839,22666650,22172264,21483372,20774798,20074472,19454253,25882759,25718920,25376002,24891372,24376009,23880553,23377019,28229044,28083805,27793382,27400890,26995950,26597210,26199039,30065273,29968908,29766376,29448283,29133592,28812463,28497560,31351406,31289955,31144845,30917565,30701263,30473237,30243360,32451312,32366004,32212343,32002163,31833587,31665416,31484076,33657485,33580450,33435421,33231885,33035853,32837432,32630068,34551155,34497918,34404527,34260174,34115027,33965367,33807448,35188481,35145770,35061002,34936283,34824787,34705155,34574820,35783261,35751324,35681051,35573124,35473961,35379019,35279947,36318006,36287425,36228309,36133993,36045850,35957147,35866562,36815323,36780882,36722274,36633065,36553807,36472412,36392587,37238071,37230130,37181943,37105323,37034001,36957765,36883824,37669249,37638146,37584827,37502574,37429723,37357797,37290234,38123979,38088753,38032935,37947549,37874935,37806517,37737058,38741294,38686873,38609144,38486915,38385918,38292620,38204746,39537479,39473504,39380311,39229452,39102523,38975840,38854336,40449026,40380320,40276653,40105998,39957530,39810598,39669992,41340718,41278647,41179094,41014023,40870092,40732801,40587960,42180070,42125415,42038151,41885907,41748820,41609685,41472218,43035261,42977109,42888419,42730947,42588791,42448880,42311949,43800222,43749227,43679609,43545020,43420460,43289467,43161801,44439386,44388469,44310960,44169910,44052193,43936989,43825510,45064064,45026066,44964140,44852869,44753270,44652273,44549499,45577927,45545113,45492558,45397136,45315910,45234508,45149954,46057974,46026420,45977845,45890575,45810449,45733144,45656296,46476671,46449751,46409169,46329762,46260958,46192053,46125416,46874584,46848445,46807738,46732878,46668553,46603748,46539940,47246498,47221201,47181484,47109644,47052321,46995641,46939752,47654151,47629756,47591962,47514863,47448103,47378584,47312779,48075186,48047061,48002523,47919909,47855857,47787690,47721622,48479165,48450383,48406259,48327568,48265426,48199148,48136099,48941415,48906171,48853784,48764288,48689186,48616348,48546777,49311812,49280113,49237791,49178964,49177223,49107250,49023982,49849475,49810707,49754482,49651762,49556952,49462299,49383487,50364280,50328602,50276168,50187149,50103314,50019555,49934386,50871844,50831323,50775681,50684503,50602138,50521229,50441857,51309715,51275843,51275277,51250102,51165330,51067973,50967737,51690042,51655689,51574555,51486677,51396423,52221912,52188328,52134117,52045439,51964913,51883307,51803531,52674664,52649310,52604118,52522977,52449020,52374828,52298281,53008343,52985356,52949097,52886469,52832794,52777635,52720749,53289489,53271899,53246491,53194857,53149019,53103197,53056572,53502957,53487435,53463108,53426720,53396370,53363461,53328558,53694471,53683078,53661983,53626062,53595275,53564857,53534476,53851710,53839990,53822651,53793219,53768655,53743269,53717620,53984601,53974774,53958444,53934599,53914280,53892920,53871292,54094468,54086987,54075139,54056613,54040457,54023918,54005797,54183592,54177061,54167183,54151489,54137696,54123890,54109544,54265837,54259644,54250482,54235767,54223528,54210516,54196953,54342743,54337210,54328785,54315110,54303118,54290784,54278985],\"yaxis\":\"y\",\"type\":\"scatter\"}],                        {\"template\":{\"data\":{\"histogram2dcontour\":[{\"type\":\"histogram2dcontour\",\"colorbar\":{\"outlinewidth\":0,\"ticks\":\"\"},\"colorscale\":[[0.0,\"#0d0887\"],[0.1111111111111111,\"#46039f\"],[0.2222222222222222,\"#7201a8\"],[0.3333333333333333,\"#9c179e\"],[0.4444444444444444,\"#bd3786\"],[0.5555555555555556,\"#d8576b\"],[0.6666666666666666,\"#ed7953\"],[0.7777777777777778,\"#fb9f3a\"],[0.8888888888888888,\"#fdca26\"],[1.0,\"#f0f921\"]]}],\"choropleth\":[{\"type\":\"choropleth\",\"colorbar\":{\"outlinewidth\":0,\"ticks\":\"\"}}],\"histogram2d\":[{\"type\":\"histogram2d\",\"colorbar\":{\"outlinewidth\":0,\"ticks\":\"\"},\"colorscale\":[[0.0,\"#0d0887\"],[0.1111111111111111,\"#46039f\"],[0.2222222222222222,\"#7201a8\"],[0.3333333333333333,\"#9c179e\"],[0.4444444444444444,\"#bd3786\"],[0.5555555555555556,\"#d8576b\"],[0.6666666666666666,\"#ed7953\"],[0.7777777777777778,\"#fb9f3a\"],[0.8888888888888888,\"#fdca26\"],[1.0,\"#f0f921\"]]}],\"heatmap\":[{\"type\":\"heatmap\",\"colorbar\":{\"outlinewidth\":0,\"ticks\":\"\"},\"colorscale\":[[0.0,\"#0d0887\"],[0.1111111111111111,\"#46039f\"],[0.2222222222222222,\"#7201a8\"],[0.3333333333333333,\"#9c179e\"],[0.4444444444444444,\"#bd3786\"],[0.5555555555555556,\"#d8576b\"],[0.6666666666666666,\"#ed7953\"],[0.7777777777777778,\"#fb9f3a\"],[0.8888888888888888,\"#fdca26\"],[1.0,\"#f0f921\"]]}],\"heatmapgl\":[{\"type\":\"heatmapgl\",\"colorbar\":{\"outlinewidth\":0,\"ticks\":\"\"},\"colorscale\":[[0.0,\"#0d0887\"],[0.1111111111111111,\"#46039f\"],[0.2222222222222222,\"#7201a8\"],[0.3333333333333333,\"#9c179e\"],[0.4444444444444444,\"#bd3786\"],[0.5555555555555556,\"#d8576b\"],[0.6666666666666666,\"#ed7953\"],[0.7777777777777778,\"#fb9f3a\"],[0.8888888888888888,\"#fdca26\"],[1.0,\"#f0f921\"]]}],\"contourcarpet\":[{\"type\":\"contourcarpet\",\"colorbar\":{\"outlinewidth\":0,\"ticks\":\"\"}}],\"contour\":[{\"type\":\"contour\",\"colorbar\":{\"outlinewidth\":0,\"ticks\":\"\"},\"colorscale\":[[0.0,\"#0d0887\"],[0.1111111111111111,\"#46039f\"],[0.2222222222222222,\"#7201a8\"],[0.3333333333333333,\"#9c179e\"],[0.4444444444444444,\"#bd3786\"],[0.5555555555555556,\"#d8576b\"],[0.6666666666666666,\"#ed7953\"],[0.7777777777777778,\"#fb9f3a\"],[0.8888888888888888,\"#fdca26\"],[1.0,\"#f0f921\"]]}],\"surface\":[{\"type\":\"surface\",\"colorbar\":{\"outlinewidth\":0,\"ticks\":\"\"},\"colorscale\":[[0.0,\"#0d0887\"],[0.1111111111111111,\"#46039f\"],[0.2222222222222222,\"#7201a8\"],[0.3333333333333333,\"#9c179e\"],[0.4444444444444444,\"#bd3786\"],[0.5555555555555556,\"#d8576b\"],[0.6666666666666666,\"#ed7953\"],[0.7777777777777778,\"#fb9f3a\"],[0.8888888888888888,\"#fdca26\"],[1.0,\"#f0f921\"]]}],\"mesh3d\":[{\"type\":\"mesh3d\",\"colorbar\":{\"outlinewidth\":0,\"ticks\":\"\"}}],\"scatter\":[{\"fillpattern\":{\"fillmode\":\"overlay\",\"size\":10,\"solidity\":0.2},\"type\":\"scatter\"}],\"parcoords\":[{\"type\":\"parcoords\",\"line\":{\"colorbar\":{\"outlinewidth\":0,\"ticks\":\"\"}}}],\"scatterpolargl\":[{\"type\":\"scatterpolargl\",\"marker\":{\"colorbar\":{\"outlinewidth\":0,\"ticks\":\"\"}}}],\"bar\":[{\"error_x\":{\"color\":\"#2a3f5f\"},\"error_y\":{\"color\":\"#2a3f5f\"},\"marker\":{\"line\":{\"color\":\"#E5ECF6\",\"width\":0.5},\"pattern\":{\"fillmode\":\"overlay\",\"size\":10,\"solidity\":0.2}},\"type\":\"bar\"}],\"scattergeo\":[{\"type\":\"scattergeo\",\"marker\":{\"colorbar\":{\"outlinewidth\":0,\"ticks\":\"\"}}}],\"scatterpolar\":[{\"type\":\"scatterpolar\",\"marker\":{\"colorbar\":{\"outlinewidth\":0,\"ticks\":\"\"}}}],\"histogram\":[{\"marker\":{\"pattern\":{\"fillmode\":\"overlay\",\"size\":10,\"solidity\":0.2}},\"type\":\"histogram\"}],\"scattergl\":[{\"type\":\"scattergl\",\"marker\":{\"colorbar\":{\"outlinewidth\":0,\"ticks\":\"\"}}}],\"scatter3d\":[{\"type\":\"scatter3d\",\"line\":{\"colorbar\":{\"outlinewidth\":0,\"ticks\":\"\"}},\"marker\":{\"colorbar\":{\"outlinewidth\":0,\"ticks\":\"\"}}}],\"scattermapbox\":[{\"type\":\"scattermapbox\",\"marker\":{\"colorbar\":{\"outlinewidth\":0,\"ticks\":\"\"}}}],\"scatterternary\":[{\"type\":\"scatterternary\",\"marker\":{\"colorbar\":{\"outlinewidth\":0,\"ticks\":\"\"}}}],\"scattercarpet\":[{\"type\":\"scattercarpet\",\"marker\":{\"colorbar\":{\"outlinewidth\":0,\"ticks\":\"\"}}}],\"carpet\":[{\"aaxis\":{\"endlinecolor\":\"#2a3f5f\",\"gridcolor\":\"white\",\"linecolor\":\"white\",\"minorgridcolor\":\"white\",\"startlinecolor\":\"#2a3f5f\"},\"baxis\":{\"endlinecolor\":\"#2a3f5f\",\"gridcolor\":\"white\",\"linecolor\":\"white\",\"minorgridcolor\":\"white\",\"startlinecolor\":\"#2a3f5f\"},\"type\":\"carpet\"}],\"table\":[{\"cells\":{\"fill\":{\"color\":\"#EBF0F8\"},\"line\":{\"color\":\"white\"}},\"header\":{\"fill\":{\"color\":\"#C8D4E3\"},\"line\":{\"color\":\"white\"}},\"type\":\"table\"}],\"barpolar\":[{\"marker\":{\"line\":{\"color\":\"#E5ECF6\",\"width\":0.5},\"pattern\":{\"fillmode\":\"overlay\",\"size\":10,\"solidity\":0.2}},\"type\":\"barpolar\"}],\"pie\":[{\"automargin\":true,\"type\":\"pie\"}]},\"layout\":{\"autotypenumbers\":\"strict\",\"colorway\":[\"#636efa\",\"#EF553B\",\"#00cc96\",\"#ab63fa\",\"#FFA15A\",\"#19d3f3\",\"#FF6692\",\"#B6E880\",\"#FF97FF\",\"#FECB52\"],\"font\":{\"color\":\"#2a3f5f\"},\"hovermode\":\"closest\",\"hoverlabel\":{\"align\":\"left\"},\"paper_bgcolor\":\"white\",\"plot_bgcolor\":\"#E5ECF6\",\"polar\":{\"bgcolor\":\"#E5ECF6\",\"angularaxis\":{\"gridcolor\":\"white\",\"linecolor\":\"white\",\"ticks\":\"\"},\"radialaxis\":{\"gridcolor\":\"white\",\"linecolor\":\"white\",\"ticks\":\"\"}},\"ternary\":{\"bgcolor\":\"#E5ECF6\",\"aaxis\":{\"gridcolor\":\"white\",\"linecolor\":\"white\",\"ticks\":\"\"},\"baxis\":{\"gridcolor\":\"white\",\"linecolor\":\"white\",\"ticks\":\"\"},\"caxis\":{\"gridcolor\":\"white\",\"linecolor\":\"white\",\"ticks\":\"\"}},\"coloraxis\":{\"colorbar\":{\"outlinewidth\":0,\"ticks\":\"\"}},\"colorscale\":{\"sequential\":[[0.0,\"#0d0887\"],[0.1111111111111111,\"#46039f\"],[0.2222222222222222,\"#7201a8\"],[0.3333333333333333,\"#9c179e\"],[0.4444444444444444,\"#bd3786\"],[0.5555555555555556,\"#d8576b\"],[0.6666666666666666,\"#ed7953\"],[0.7777777777777778,\"#fb9f3a\"],[0.8888888888888888,\"#fdca26\"],[1.0,\"#f0f921\"]],\"sequentialminus\":[[0.0,\"#0d0887\"],[0.1111111111111111,\"#46039f\"],[0.2222222222222222,\"#7201a8\"],[0.3333333333333333,\"#9c179e\"],[0.4444444444444444,\"#bd3786\"],[0.5555555555555556,\"#d8576b\"],[0.6666666666666666,\"#ed7953\"],[0.7777777777777778,\"#fb9f3a\"],[0.8888888888888888,\"#fdca26\"],[1.0,\"#f0f921\"]],\"diverging\":[[0,\"#8e0152\"],[0.1,\"#c51b7d\"],[0.2,\"#de77ae\"],[0.3,\"#f1b6da\"],[0.4,\"#fde0ef\"],[0.5,\"#f7f7f7\"],[0.6,\"#e6f5d0\"],[0.7,\"#b8e186\"],[0.8,\"#7fbc41\"],[0.9,\"#4d9221\"],[1,\"#276419\"]]},\"xaxis\":{\"gridcolor\":\"white\",\"linecolor\":\"white\",\"ticks\":\"\",\"title\":{\"standoff\":15},\"zerolinecolor\":\"white\",\"automargin\":true,\"zerolinewidth\":2},\"yaxis\":{\"gridcolor\":\"white\",\"linecolor\":\"white\",\"ticks\":\"\",\"title\":{\"standoff\":15},\"zerolinecolor\":\"white\",\"automargin\":true,\"zerolinewidth\":2},\"scene\":{\"xaxis\":{\"backgroundcolor\":\"#E5ECF6\",\"gridcolor\":\"white\",\"linecolor\":\"white\",\"showbackground\":true,\"ticks\":\"\",\"zerolinecolor\":\"white\",\"gridwidth\":2},\"yaxis\":{\"backgroundcolor\":\"#E5ECF6\",\"gridcolor\":\"white\",\"linecolor\":\"white\",\"showbackground\":true,\"ticks\":\"\",\"zerolinecolor\":\"white\",\"gridwidth\":2},\"zaxis\":{\"backgroundcolor\":\"#E5ECF6\",\"gridcolor\":\"white\",\"linecolor\":\"white\",\"showbackground\":true,\"ticks\":\"\",\"zerolinecolor\":\"white\",\"gridwidth\":2}},\"shapedefaults\":{\"line\":{\"color\":\"#2a3f5f\"}},\"annotationdefaults\":{\"arrowcolor\":\"#2a3f5f\",\"arrowhead\":0,\"arrowwidth\":1},\"geo\":{\"bgcolor\":\"white\",\"landcolor\":\"#E5ECF6\",\"subunitcolor\":\"white\",\"showland\":true,\"showlakes\":true,\"lakecolor\":\"white\"},\"title\":{\"x\":0.05},\"mapbox\":{\"style\":\"light\"}}},\"xaxis\":{\"anchor\":\"y\",\"domain\":[0.0,1.0],\"title\":{\"text\":\"date\"}},\"yaxis\":{\"anchor\":\"x\",\"domain\":[0.0,1.0],\"title\":{\"text\":\"administered_dose1\"}},\"legend\":{\"tracegroupgap\":0},\"margin\":{\"t\":60},\"title\":{\"text\":\"USA Administered Doses 25-39\"}},                        {\"responsive\": true}                    ).then(function(){\n                            \nvar gd = document.getElementById('950a1039-79b2-432e-b2cc-91ec322cae4b');\nvar x = new MutationObserver(function (mutations, observer) {{\n        var display = window.getComputedStyle(gd).display;\n        if (!display || display === 'none') {{\n            console.log([gd, 'removed!']);\n            Plotly.purge(gd);\n            observer.disconnect();\n        }}\n}});\n\n// Listen for the removal of the full notebook cells\nvar notebookContainer = gd.closest('#notebook-container');\nif (notebookContainer) {{\n    x.observe(notebookContainer, {childList: true});\n}}\n\n// Listen for the clearing of the current output cell\nvar outputEl = gd.closest('.output');\nif (outputEl) {{\n    x.observe(outputEl, {childList: true});\n}}\n\n                        })                };                });            </script>        </div>"
     },
     "metadata": {},
     "output_type": "display_data"
    }
   ],
   "source": [
    "fig = px.line(df, x=\"date\", y=\"administered_dose1\")\n",
    "fig.update_layout(title_text=\"USA Administered Doses 25-39\")\n",
    "fig.show()"
   ],
   "metadata": {
    "collapsed": false,
    "pycharm": {
     "name": "#%%\n"
    }
   }
  },
  {
   "cell_type": "code",
   "execution_count": null,
   "outputs": [],
   "source": [],
   "metadata": {
    "collapsed": false,
    "pycharm": {
     "name": "#%%\n"
    }
   }
  },
  {
   "cell_type": "code",
   "execution_count": null,
   "outputs": [],
   "source": [],
   "metadata": {
    "collapsed": false,
    "pycharm": {
     "name": "#%%\n"
    }
   }
  },
  {
   "cell_type": "code",
   "execution_count": null,
   "outputs": [],
   "source": [],
   "metadata": {
    "collapsed": false,
    "pycharm": {
     "name": "#%%\n"
    }
   }
  },
  {
   "cell_type": "code",
   "execution_count": null,
   "outputs": [],
   "source": [],
   "metadata": {
    "collapsed": false,
    "pycharm": {
     "name": "#%%\n"
    }
   }
  },
  {
   "cell_type": "code",
   "execution_count": null,
   "outputs": [],
   "source": [],
   "metadata": {
    "collapsed": false,
    "pycharm": {
     "name": "#%%\n"
    }
   }
  },
  {
   "cell_type": "code",
   "execution_count": null,
   "outputs": [],
   "source": [],
   "metadata": {
    "collapsed": false,
    "pycharm": {
     "name": "#%%\n"
    }
   }
  }
 ],
 "metadata": {
  "kernelspec": {
   "display_name": "Python 3",
   "language": "python",
   "name": "python3"
  },
  "language_info": {
   "codemirror_mode": {
    "name": "ipython",
    "version": 2
   },
   "file_extension": ".py",
   "mimetype": "text/x-python",
   "name": "python",
   "nbconvert_exporter": "python",
   "pygments_lexer": "ipython2",
   "version": "2.7.6"
  }
 },
 "nbformat": 4,
 "nbformat_minor": 0
}