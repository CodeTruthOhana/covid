{
 "cells": [
  {
   "cell_type": "code",
   "execution_count": 1,
   "id": "3febe9c7",
   "metadata": {},
   "outputs": [],
   "source": [
    "# import required libraries\n",
    "import pyreadstat "
   ]
  },
  {
   "cell_type": "code",
   "execution_count": 2,
   "id": "2735f3aa",
   "metadata": {},
   "outputs": [],
   "source": [
    "# assign path and file names\n",
    "path = 'data/archived/'\n",
    "xpt1 = 'FDA-CBER-2021-5683-0059000-to-0065773_125742_S1_M5_c4591001-A-D-adcevd.xpt'\n",
    "xpt2 = 'FDA-CBER-2021-5683-0065774-to-0066700_125742_S1_M5_c4591001-A-D-addv.xpt'\n",
    "xpt3 = 'FDA-CBER-2021-5683-0066701-to-0123167_125742_S1_M5_c4591001-A-D-adfacevd.xpt'\n",
    "xpt4 = 'FDA-CBER-2021-5683-0123168-to-0126026_125742_S1_M5_c4591001-A-D-adva.xpt'\n",
    "\n",
    "# add files to list\n",
    "xpt_list = (xpt1, xpt2, xpt3, xpt4)"
   ]
  },
  {
   "cell_type": "code",
   "execution_count": 3,
   "id": "2adddcfe",
   "metadata": {},
   "outputs": [],
   "source": [
    "# export \n",
    "df1, meta1 = pyreadstat.read_xport(path+xpt_list[0])\n",
    "df2, meta2 = pyreadstat.read_xport(path+xpt_list[1], encoding=\"WINDOWS-1252\")\n",
    "df3, meta3 = pyreadstat.read_xport(path+xpt_list[2])\n",
    "df4, meta4 = pyreadstat.read_xport(path+xpt_list[3])"
   ]
  },
  {
   "cell_type": "code",
   "execution_count": null,
   "id": "71eb46cd",
   "metadata": {},
   "outputs": [],
   "source": []
  },
  {
   "cell_type": "code",
   "execution_count": null,
   "id": "b1b2c13b",
   "metadata": {},
   "outputs": [],
   "source": []
  },
  {
   "cell_type": "code",
   "execution_count": null,
   "id": "a0aef47d",
   "metadata": {},
   "outputs": [],
   "source": []
  },
  {
   "cell_type": "code",
   "execution_count": null,
   "id": "411e22de",
   "metadata": {},
   "outputs": [],
   "source": []
  },
  {
   "cell_type": "code",
   "execution_count": null,
   "id": "e5813c6f",
   "metadata": {},
   "outputs": [],
   "source": []
  },
  {
   "cell_type": "code",
   "execution_count": null,
   "id": "0e51a19a",
   "metadata": {},
   "outputs": [],
   "source": []
  },
  {
   "cell_type": "code",
   "execution_count": null,
   "id": "1be732c8",
   "metadata": {},
   "outputs": [],
   "source": []
  },
  {
   "cell_type": "code",
   "execution_count": null,
   "id": "83a0befb",
   "metadata": {},
   "outputs": [],
   "source": []
  }
 ],
 "metadata": {
  "kernelspec": {
   "display_name": "Python 3 (ipykernel)",
   "language": "python",
   "name": "python3"
  },
  "language_info": {
   "codemirror_mode": {
    "name": "ipython",
    "version": 3
   },
   "file_extension": ".py",
   "mimetype": "text/x-python",
   "name": "python",
   "nbconvert_exporter": "python",
   "pygments_lexer": "ipython3",
   "version": "3.9.12"
  }
 },
 "nbformat": 4,
 "nbformat_minor": 5
}
